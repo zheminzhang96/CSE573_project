{
  "nbformat": 4,
  "nbformat_minor": 0,
  "metadata": {
    "colab": {
      "provenance": [],
      "include_colab_link": true
    },
    "kernelspec": {
      "name": "python3",
      "display_name": "Python 3"
    },
    "language_info": {
      "name": "python"
    }
  },
  "cells": [
    {
      "cell_type": "markdown",
      "metadata": {
        "id": "view-in-github",
        "colab_type": "text"
      },
      "source": [
        "<a href=\"https://colab.research.google.com/github/zheminzhang96/CSE573_project/blob/main/lstm_score.ipynb\" target=\"_parent\"><img src=\"https://colab.research.google.com/assets/colab-badge.svg\" alt=\"Open In Colab\"/></a>"
      ]
    },
    {
      "cell_type": "code",
      "source": [
        "from google.colab import drive\n",
        "drive.mount('/content/drive')"
      ],
      "metadata": {
        "id": "qSouIh1GpzHb",
        "colab": {
          "base_uri": "https://localhost:8080/"
        },
        "outputId": "4cfcf1e4-fa36-4870-815f-e5b3378bdf81"
      },
      "execution_count": null,
      "outputs": [
        {
          "output_type": "stream",
          "name": "stdout",
          "text": [
            "Mounted at /content/drive\n"
          ]
        }
      ]
    },
    {
      "cell_type": "code",
      "source": [
        "!pwd"
      ],
      "metadata": {
        "id": "dfJwJ3OVuFj4",
        "colab": {
          "base_uri": "https://localhost:8080/"
        },
        "outputId": "fbe69844-8d55-419a-a151-94dd72f1c3e0"
      },
      "execution_count": null,
      "outputs": [
        {
          "output_type": "stream",
          "name": "stdout",
          "text": [
            "/content\n"
          ]
        }
      ]
    },
    {
      "cell_type": "code",
      "source": [
        "%cd /content/drive/Shareddrives/CSE573/preprocessed\n",
        "%ls"
      ],
      "metadata": {
        "id": "09IeO5uir9O-",
        "colab": {
          "base_uri": "https://localhost:8080/"
        },
        "outputId": "5977acc4-8054-462d-da7a-5e3a87ed6066"
      },
      "execution_count": null,
      "outputs": [
        {
          "output_type": "stream",
          "name": "stdout",
          "text": [
            "/content/drive/Shareddrives/CSE573/preprocessed\n",
            "AaplAmzn_NewsDateDirection.csv\n",
            "Aapl_NewsPriceHistDirection.csv\n",
            "Aapl_SentimentAggMeanPriceHistDirection.csv\n",
            "Aapl_SentimentAggSumPriceHistDirection.csv\n",
            "Amzn_NewsPriceHistDirection.csv\n",
            "Amzn_SentimentAggMeanPriceHistDirection.csv\n",
            "Amzn_SentimentAggSumPriceHistDirection.csv\n",
            "amzn_title_processedText_direction.csv\n",
            "amzn_title_text_label.csv\n"
          ]
        }
      ]
    },
    {
      "cell_type": "code",
      "execution_count": null,
      "metadata": {
        "id": "qbfc2bHw6jkW",
        "colab": {
          "base_uri": "https://localhost:8080/"
        },
        "outputId": "876c16bf-e284-4310-cfe7-346523c595ae"
      },
      "outputs": [
        {
          "output_type": "stream",
          "name": "stdout",
          "text": [
            "Looking in indexes: https://pypi.org/simple, https://us-python.pkg.dev/colab-wheels/public/simple/\n",
            "Requirement already satisfied: keras in /usr/local/lib/python3.7/dist-packages (2.9.0)\n",
            "Looking in indexes: https://pypi.org/simple, https://us-python.pkg.dev/colab-wheels/public/simple/\n",
            "Requirement already satisfied: matplotlib-venn in /usr/local/lib/python3.7/dist-packages (0.11.7)\n",
            "Requirement already satisfied: numpy in /usr/local/lib/python3.7/dist-packages (from matplotlib-venn) (1.21.6)\n",
            "Requirement already satisfied: scipy in /usr/local/lib/python3.7/dist-packages (from matplotlib-venn) (1.7.3)\n",
            "Requirement already satisfied: matplotlib in /usr/local/lib/python3.7/dist-packages (from matplotlib-venn) (3.2.2)\n",
            "Requirement already satisfied: cycler>=0.10 in /usr/local/lib/python3.7/dist-packages (from matplotlib->matplotlib-venn) (0.11.0)\n",
            "Requirement already satisfied: pyparsing!=2.0.4,!=2.1.2,!=2.1.6,>=2.0.1 in /usr/local/lib/python3.7/dist-packages (from matplotlib->matplotlib-venn) (3.0.9)\n",
            "Requirement already satisfied: kiwisolver>=1.0.1 in /usr/local/lib/python3.7/dist-packages (from matplotlib->matplotlib-venn) (1.4.4)\n",
            "Requirement already satisfied: python-dateutil>=2.1 in /usr/local/lib/python3.7/dist-packages (from matplotlib->matplotlib-venn) (2.8.2)\n",
            "Requirement already satisfied: typing-extensions in /usr/local/lib/python3.7/dist-packages (from kiwisolver>=1.0.1->matplotlib->matplotlib-venn) (4.1.1)\n",
            "Requirement already satisfied: six>=1.5 in /usr/local/lib/python3.7/dist-packages (from python-dateutil>=2.1->matplotlib->matplotlib-venn) (1.15.0)\n"
          ]
        }
      ],
      "source": [
        "!pip install keras\n",
        "!pip install matplotlib-venn\n",
        "import matplotlib.pyplot as plt\n",
        "import numpy as np\n",
        "import pandas as pd\n",
        "import tensorflow as tf\n",
        "from collections import Counter\n",
        "from keras.preprocessing.text import Tokenizer\n",
        "from keras.utils import pad_sequences\n",
        "from sklearn.model_selection import TimeSeriesSplit, train_test_split, KFold, cross_validate\n",
        "\n",
        "import requests\n",
        "import io"
      ]
    },
    {
      "cell_type": "code",
      "source": [
        "def split_generator(df):\n",
        "  cv=[]\n",
        "  df['prediction_date'] = pd.to_datetime(df['prediction_date'], errors='coerce')\n",
        "  groups = df.groupby(df['prediction_date'].dt.to_period(\"M\")).groups\n",
        "  split_groups = [value for (key, value) in groups.items()] \n",
        "\n",
        "  print('spilt number:' + str(len(split_groups)))\n",
        "  for i in range(len(split_groups)):\n",
        "    data_index=[]\n",
        "    for j in range(len(split_groups)):\n",
        "      if i != j:\n",
        "        data_index.extend(split_groups[j].tolist())\n",
        "    cv.append((data_index, split_groups[i].tolist()))\n",
        "    # yield data_index, split_groups[i].tolist()\n",
        "  \n",
        "  return cv"
      ],
      "metadata": {
        "id": "Txywp4uyxphm"
      },
      "execution_count": null,
      "outputs": []
    },
    {
      "cell_type": "code",
      "execution_count": null,
      "metadata": {
        "id": "8hj4QcB4sOIU"
      },
      "outputs": [],
      "source": [
        "# df_aapl = pd.read_csv('Aapl_SentimentAggMeanPriceHistDirection.csv', nrows=5000)\n",
        "# df_amzn = pd.read_csv('Amzn_SentimentAggMeanPriceHistDirection.csv', nrows=5000)\n",
        "# df = [df_aapl, df_amzn]\n",
        "# df = pd.concat(df, ignore_index=True)\n",
        "# df = df.replace(-1, 0)\n",
        "# df\n",
        "df_aapl = pd.read_csv('Aapl_NewsPriceHistDirection.csv', nrows=5000)\n",
        "df_amzn = pd.read_csv('Amzn_NewsPriceHistDirection.csv', nrows=5000)"
      ]
    },
    {
      "cell_type": "code",
      "source": [
        "df_amzn"
      ],
      "metadata": {
        "colab": {
          "base_uri": "https://localhost:8080/",
          "height": 1000
        },
        "id": "WAJQ8TdZ55o6",
        "outputId": "a9d4f248-4522-4d0b-a603-92c8cdaa69a2"
      },
      "execution_count": null,
      "outputs": [
        {
          "output_type": "execute_result",
          "data": {
            "text/plain": [
              "                                          uuid                       author  \\\n",
              "0     3b7327f6858be72e780b02b863d941fe7ce81eab                          NaN   \n",
              "1     8a3015a274df99d231fcf7ff3eb38e2660a984ff  Michael Wiggins De Oliveira   \n",
              "2     df5883d078ebfbe015e1e717002e4b889647dbee                  Larry Ramer   \n",
              "3     861c19bff56d09f97b6798f5fbe374061e8aa55b              morningstar.com   \n",
              "4     cb960bebc2bf78d327026127c9fe919a4159e80d              morningstar.com   \n",
              "...                                        ...                          ...   \n",
              "4995  66859aec5d156692020efc397f0bb1ee77dd95ef            Reuters Editorial   \n",
              "4996  ea42f789f3c01a17131686ef56eadd4a283867f3                          NaN   \n",
              "4997  5950e8efe7f42e768986e9dd49d94d013b3de8b6               Alexis Leondis   \n",
              "4998  d3cf3effab2e2e9a94dd3123d0e42fe57d598493             Elizabeth Balboa   \n",
              "4999  9cd4c29c9c8f7627a509d77396b134392ece6e2f                Michael Covel   \n",
              "\n",
              "                                                    url  \\\n",
              "0     https://money.cnn.com/2018/09/05/investing/pre...   \n",
              "1     https://seekingalpha.com/article/4203857-netfl...   \n",
              "2     https://investorplace.com/2018/09/pandora-stoc...   \n",
              "3     http://news.morningstar.com/all/dow-jones/us-m...   \n",
              "4     http://news.morningstar.com/all/benzinga/BenzB...   \n",
              "...                                                 ...   \n",
              "4995  https://in.reuters.com/article/spotify-subscri...   \n",
              "4996  https://www.sott.net/article/373119-Major-chip...   \n",
              "4997  http://www.msn.com/en-us/money/markets/trump-a...   \n",
              "4998  http://www.marketwatch.com/story/7-top-picks-f...   \n",
              "4999  http://paidtraderforex.com/2018/01/04/michael-...   \n",
              "\n",
              "                                                  title language  \\\n",
              "0              6 things to know before the opening bell  english   \n",
              "1     Netflix And The Competition - Netflix, Inc. (N...  english   \n",
              "2                  Pandora Stock Gets a Boost — Buy Now  english   \n",
              "3     MARKET SNAPSHOT: Tech Tumble Weighs On Stocks;...  english   \n",
              "4     New Month, Same Old Story: Trade Fears Persist...  english   \n",
              "...                                                 ...      ...   \n",
              "4995             Spotify reaches 70 million subscribers  english   \n",
              "4996  Major chip flaw leaves billions of devices vul...  english   \n",
              "4997  Trump administration might push back against s...  english   \n",
              "4998  7 Top Picks For 2018 And Their Corresponding ETFs  english   \n",
              "4999  Michael Covel's Mind Food for Thought: January...  english   \n",
              "\n",
              "                                                   text  \\\n",
              "0     Click chart for more in-depth data. 1. Big Tec...   \n",
              "1     Investment Thesis Netflix ( NFLX ) is a remark...   \n",
              "2     MannKind Surges More Than 50% >>> READ MORE\\nB...   \n",
              "3     By Mark DeCambre, MarketWatch , Ryan Vlastelic...   \n",
              "4     It may be a new month, but the same trade conc...   \n",
              "...                                                 ...   \n",
              "4995  January 5, 2018 / 12:29 AM / Updated 17 hours ...   \n",
              "4996  Thu, 04 Jan 2018 14:44 UTC Two major flaws in ...   \n",
              "4997  Trump administration might push back against s...   \n",
              "4998  Traders are busy building out brackets for 201...   \n",
              "4999  Blain Reinkensmeyer READ LATER - DOWNLOAD THIS...   \n",
              "\n",
              "                      published  title_aapl  text_aapl  title_amzn  ...  \\\n",
              "0     2018-09-05 05:12:00+00:00       False       True       False  ...   \n",
              "1     2018-09-04 15:00:00+00:00       False       True       False  ...   \n",
              "2     2018-09-04 16:22:00+00:00       False       True       False  ...   \n",
              "3     2018-09-05 00:00:00+00:00       False       True       False  ...   \n",
              "4     2018-09-05 00:00:00+00:00       False       True       False  ...   \n",
              "...                         ...         ...        ...         ...  ...   \n",
              "4995  2018-01-04 19:29:00+00:00       False       True       False  ...   \n",
              "4996  2018-01-05 12:29:00+00:00       False       True       False  ...   \n",
              "4997  2018-01-05 00:00:00+00:00       False       True       False  ...   \n",
              "4998  2018-01-05 00:00:00+00:00       False       True       False  ...   \n",
              "4999  2018-01-04 23:21:00+00:00       False       True       False  ...   \n",
              "\n",
              "      prevClose_16  prevClose_17  prevClose_18  prevClose_19  prevClose_20  \\\n",
              "0          1896.99       1885.99       1896.00       1882.98       1861.48   \n",
              "1          1896.99       1885.99       1896.00       1882.98       1861.48   \n",
              "2          1896.99       1885.99       1896.00       1882.98       1861.48   \n",
              "3          1896.99       1885.99       1896.00       1882.98       1861.48   \n",
              "4          1896.99       1885.99       1896.00       1882.98       1861.48   \n",
              "...            ...           ...           ...           ...           ...   \n",
              "4995       1164.00       1168.00       1161.32       1160.00       1152.99   \n",
              "4996       1164.00       1168.00       1161.32       1160.00       1152.99   \n",
              "4997       1164.00       1168.00       1161.32       1160.00       1152.99   \n",
              "4998       1164.00       1168.00       1161.32       1160.00       1152.99   \n",
              "4999       1164.00       1168.00       1161.32       1160.00       1152.99   \n",
              "\n",
              "      prevClose_21  prevClose_22  prevClose_23  prevClose_24  prevClose_25  \n",
              "0          1847.11       1822.94       1833.98       1796.14       1787.38  \n",
              "1          1847.11       1822.94       1833.98       1796.14       1787.38  \n",
              "2          1847.11       1822.94       1833.98       1796.14       1787.38  \n",
              "3          1847.11       1822.94       1833.98       1796.14       1787.38  \n",
              "4          1847.11       1822.94       1833.98       1796.14       1787.38  \n",
              "...            ...           ...           ...           ...           ...  \n",
              "4995       1140.97       1132.97       1161.50       1175.50       1161.03  \n",
              "4996       1140.97       1132.97       1161.50       1175.50       1161.03  \n",
              "4997       1140.97       1132.97       1161.50       1175.50       1161.03  \n",
              "4998       1140.97       1132.97       1161.50       1175.50       1161.03  \n",
              "4999       1140.97       1132.97       1161.50       1175.50       1161.03  \n",
              "\n",
              "[5000 rows x 55 columns]"
            ],
            "text/html": [
              "\n",
              "  <div id=\"df-2c14f15b-0952-4335-a31a-157ec5c24930\">\n",
              "    <div class=\"colab-df-container\">\n",
              "      <div>\n",
              "<style scoped>\n",
              "    .dataframe tbody tr th:only-of-type {\n",
              "        vertical-align: middle;\n",
              "    }\n",
              "\n",
              "    .dataframe tbody tr th {\n",
              "        vertical-align: top;\n",
              "    }\n",
              "\n",
              "    .dataframe thead th {\n",
              "        text-align: right;\n",
              "    }\n",
              "</style>\n",
              "<table border=\"1\" class=\"dataframe\">\n",
              "  <thead>\n",
              "    <tr style=\"text-align: right;\">\n",
              "      <th></th>\n",
              "      <th>uuid</th>\n",
              "      <th>author</th>\n",
              "      <th>url</th>\n",
              "      <th>title</th>\n",
              "      <th>language</th>\n",
              "      <th>text</th>\n",
              "      <th>published</th>\n",
              "      <th>title_aapl</th>\n",
              "      <th>text_aapl</th>\n",
              "      <th>title_amzn</th>\n",
              "      <th>...</th>\n",
              "      <th>prevClose_16</th>\n",
              "      <th>prevClose_17</th>\n",
              "      <th>prevClose_18</th>\n",
              "      <th>prevClose_19</th>\n",
              "      <th>prevClose_20</th>\n",
              "      <th>prevClose_21</th>\n",
              "      <th>prevClose_22</th>\n",
              "      <th>prevClose_23</th>\n",
              "      <th>prevClose_24</th>\n",
              "      <th>prevClose_25</th>\n",
              "    </tr>\n",
              "  </thead>\n",
              "  <tbody>\n",
              "    <tr>\n",
              "      <th>0</th>\n",
              "      <td>3b7327f6858be72e780b02b863d941fe7ce81eab</td>\n",
              "      <td>NaN</td>\n",
              "      <td>https://money.cnn.com/2018/09/05/investing/pre...</td>\n",
              "      <td>6 things to know before the opening bell</td>\n",
              "      <td>english</td>\n",
              "      <td>Click chart for more in-depth data. 1. Big Tec...</td>\n",
              "      <td>2018-09-05 05:12:00+00:00</td>\n",
              "      <td>False</td>\n",
              "      <td>True</td>\n",
              "      <td>False</td>\n",
              "      <td>...</td>\n",
              "      <td>1896.99</td>\n",
              "      <td>1885.99</td>\n",
              "      <td>1896.00</td>\n",
              "      <td>1882.98</td>\n",
              "      <td>1861.48</td>\n",
              "      <td>1847.11</td>\n",
              "      <td>1822.94</td>\n",
              "      <td>1833.98</td>\n",
              "      <td>1796.14</td>\n",
              "      <td>1787.38</td>\n",
              "    </tr>\n",
              "    <tr>\n",
              "      <th>1</th>\n",
              "      <td>8a3015a274df99d231fcf7ff3eb38e2660a984ff</td>\n",
              "      <td>Michael Wiggins De Oliveira</td>\n",
              "      <td>https://seekingalpha.com/article/4203857-netfl...</td>\n",
              "      <td>Netflix And The Competition - Netflix, Inc. (N...</td>\n",
              "      <td>english</td>\n",
              "      <td>Investment Thesis Netflix ( NFLX ) is a remark...</td>\n",
              "      <td>2018-09-04 15:00:00+00:00</td>\n",
              "      <td>False</td>\n",
              "      <td>True</td>\n",
              "      <td>False</td>\n",
              "      <td>...</td>\n",
              "      <td>1896.99</td>\n",
              "      <td>1885.99</td>\n",
              "      <td>1896.00</td>\n",
              "      <td>1882.98</td>\n",
              "      <td>1861.48</td>\n",
              "      <td>1847.11</td>\n",
              "      <td>1822.94</td>\n",
              "      <td>1833.98</td>\n",
              "      <td>1796.14</td>\n",
              "      <td>1787.38</td>\n",
              "    </tr>\n",
              "    <tr>\n",
              "      <th>2</th>\n",
              "      <td>df5883d078ebfbe015e1e717002e4b889647dbee</td>\n",
              "      <td>Larry Ramer</td>\n",
              "      <td>https://investorplace.com/2018/09/pandora-stoc...</td>\n",
              "      <td>Pandora Stock Gets a Boost — Buy Now</td>\n",
              "      <td>english</td>\n",
              "      <td>MannKind Surges More Than 50% &gt;&gt;&gt; READ MORE\\nB...</td>\n",
              "      <td>2018-09-04 16:22:00+00:00</td>\n",
              "      <td>False</td>\n",
              "      <td>True</td>\n",
              "      <td>False</td>\n",
              "      <td>...</td>\n",
              "      <td>1896.99</td>\n",
              "      <td>1885.99</td>\n",
              "      <td>1896.00</td>\n",
              "      <td>1882.98</td>\n",
              "      <td>1861.48</td>\n",
              "      <td>1847.11</td>\n",
              "      <td>1822.94</td>\n",
              "      <td>1833.98</td>\n",
              "      <td>1796.14</td>\n",
              "      <td>1787.38</td>\n",
              "    </tr>\n",
              "    <tr>\n",
              "      <th>3</th>\n",
              "      <td>861c19bff56d09f97b6798f5fbe374061e8aa55b</td>\n",
              "      <td>morningstar.com</td>\n",
              "      <td>http://news.morningstar.com/all/dow-jones/us-m...</td>\n",
              "      <td>MARKET SNAPSHOT: Tech Tumble Weighs On Stocks;...</td>\n",
              "      <td>english</td>\n",
              "      <td>By Mark DeCambre, MarketWatch , Ryan Vlastelic...</td>\n",
              "      <td>2018-09-05 00:00:00+00:00</td>\n",
              "      <td>False</td>\n",
              "      <td>True</td>\n",
              "      <td>False</td>\n",
              "      <td>...</td>\n",
              "      <td>1896.99</td>\n",
              "      <td>1885.99</td>\n",
              "      <td>1896.00</td>\n",
              "      <td>1882.98</td>\n",
              "      <td>1861.48</td>\n",
              "      <td>1847.11</td>\n",
              "      <td>1822.94</td>\n",
              "      <td>1833.98</td>\n",
              "      <td>1796.14</td>\n",
              "      <td>1787.38</td>\n",
              "    </tr>\n",
              "    <tr>\n",
              "      <th>4</th>\n",
              "      <td>cb960bebc2bf78d327026127c9fe919a4159e80d</td>\n",
              "      <td>morningstar.com</td>\n",
              "      <td>http://news.morningstar.com/all/benzinga/BenzB...</td>\n",
              "      <td>New Month, Same Old Story: Trade Fears Persist...</td>\n",
              "      <td>english</td>\n",
              "      <td>It may be a new month, but the same trade conc...</td>\n",
              "      <td>2018-09-05 00:00:00+00:00</td>\n",
              "      <td>False</td>\n",
              "      <td>True</td>\n",
              "      <td>False</td>\n",
              "      <td>...</td>\n",
              "      <td>1896.99</td>\n",
              "      <td>1885.99</td>\n",
              "      <td>1896.00</td>\n",
              "      <td>1882.98</td>\n",
              "      <td>1861.48</td>\n",
              "      <td>1847.11</td>\n",
              "      <td>1822.94</td>\n",
              "      <td>1833.98</td>\n",
              "      <td>1796.14</td>\n",
              "      <td>1787.38</td>\n",
              "    </tr>\n",
              "    <tr>\n",
              "      <th>...</th>\n",
              "      <td>...</td>\n",
              "      <td>...</td>\n",
              "      <td>...</td>\n",
              "      <td>...</td>\n",
              "      <td>...</td>\n",
              "      <td>...</td>\n",
              "      <td>...</td>\n",
              "      <td>...</td>\n",
              "      <td>...</td>\n",
              "      <td>...</td>\n",
              "      <td>...</td>\n",
              "      <td>...</td>\n",
              "      <td>...</td>\n",
              "      <td>...</td>\n",
              "      <td>...</td>\n",
              "      <td>...</td>\n",
              "      <td>...</td>\n",
              "      <td>...</td>\n",
              "      <td>...</td>\n",
              "      <td>...</td>\n",
              "      <td>...</td>\n",
              "    </tr>\n",
              "    <tr>\n",
              "      <th>4995</th>\n",
              "      <td>66859aec5d156692020efc397f0bb1ee77dd95ef</td>\n",
              "      <td>Reuters Editorial</td>\n",
              "      <td>https://in.reuters.com/article/spotify-subscri...</td>\n",
              "      <td>Spotify reaches 70 million subscribers</td>\n",
              "      <td>english</td>\n",
              "      <td>January 5, 2018 / 12:29 AM / Updated 17 hours ...</td>\n",
              "      <td>2018-01-04 19:29:00+00:00</td>\n",
              "      <td>False</td>\n",
              "      <td>True</td>\n",
              "      <td>False</td>\n",
              "      <td>...</td>\n",
              "      <td>1164.00</td>\n",
              "      <td>1168.00</td>\n",
              "      <td>1161.32</td>\n",
              "      <td>1160.00</td>\n",
              "      <td>1152.99</td>\n",
              "      <td>1140.97</td>\n",
              "      <td>1132.97</td>\n",
              "      <td>1161.50</td>\n",
              "      <td>1175.50</td>\n",
              "      <td>1161.03</td>\n",
              "    </tr>\n",
              "    <tr>\n",
              "      <th>4996</th>\n",
              "      <td>ea42f789f3c01a17131686ef56eadd4a283867f3</td>\n",
              "      <td>NaN</td>\n",
              "      <td>https://www.sott.net/article/373119-Major-chip...</td>\n",
              "      <td>Major chip flaw leaves billions of devices vul...</td>\n",
              "      <td>english</td>\n",
              "      <td>Thu, 04 Jan 2018 14:44 UTC Two major flaws in ...</td>\n",
              "      <td>2018-01-05 12:29:00+00:00</td>\n",
              "      <td>False</td>\n",
              "      <td>True</td>\n",
              "      <td>False</td>\n",
              "      <td>...</td>\n",
              "      <td>1164.00</td>\n",
              "      <td>1168.00</td>\n",
              "      <td>1161.32</td>\n",
              "      <td>1160.00</td>\n",
              "      <td>1152.99</td>\n",
              "      <td>1140.97</td>\n",
              "      <td>1132.97</td>\n",
              "      <td>1161.50</td>\n",
              "      <td>1175.50</td>\n",
              "      <td>1161.03</td>\n",
              "    </tr>\n",
              "    <tr>\n",
              "      <th>4997</th>\n",
              "      <td>5950e8efe7f42e768986e9dd49d94d013b3de8b6</td>\n",
              "      <td>Alexis Leondis</td>\n",
              "      <td>http://www.msn.com/en-us/money/markets/trump-a...</td>\n",
              "      <td>Trump administration might push back against s...</td>\n",
              "      <td>english</td>\n",
              "      <td>Trump administration might push back against s...</td>\n",
              "      <td>2018-01-05 00:00:00+00:00</td>\n",
              "      <td>False</td>\n",
              "      <td>True</td>\n",
              "      <td>False</td>\n",
              "      <td>...</td>\n",
              "      <td>1164.00</td>\n",
              "      <td>1168.00</td>\n",
              "      <td>1161.32</td>\n",
              "      <td>1160.00</td>\n",
              "      <td>1152.99</td>\n",
              "      <td>1140.97</td>\n",
              "      <td>1132.97</td>\n",
              "      <td>1161.50</td>\n",
              "      <td>1175.50</td>\n",
              "      <td>1161.03</td>\n",
              "    </tr>\n",
              "    <tr>\n",
              "      <th>4998</th>\n",
              "      <td>d3cf3effab2e2e9a94dd3123d0e42fe57d598493</td>\n",
              "      <td>Elizabeth Balboa</td>\n",
              "      <td>http://www.marketwatch.com/story/7-top-picks-f...</td>\n",
              "      <td>7 Top Picks For 2018 And Their Corresponding ETFs</td>\n",
              "      <td>english</td>\n",
              "      <td>Traders are busy building out brackets for 201...</td>\n",
              "      <td>2018-01-05 00:00:00+00:00</td>\n",
              "      <td>False</td>\n",
              "      <td>True</td>\n",
              "      <td>False</td>\n",
              "      <td>...</td>\n",
              "      <td>1164.00</td>\n",
              "      <td>1168.00</td>\n",
              "      <td>1161.32</td>\n",
              "      <td>1160.00</td>\n",
              "      <td>1152.99</td>\n",
              "      <td>1140.97</td>\n",
              "      <td>1132.97</td>\n",
              "      <td>1161.50</td>\n",
              "      <td>1175.50</td>\n",
              "      <td>1161.03</td>\n",
              "    </tr>\n",
              "    <tr>\n",
              "      <th>4999</th>\n",
              "      <td>9cd4c29c9c8f7627a509d77396b134392ece6e2f</td>\n",
              "      <td>Michael Covel</td>\n",
              "      <td>http://paidtraderforex.com/2018/01/04/michael-...</td>\n",
              "      <td>Michael Covel's Mind Food for Thought: January...</td>\n",
              "      <td>english</td>\n",
              "      <td>Blain Reinkensmeyer READ LATER - DOWNLOAD THIS...</td>\n",
              "      <td>2018-01-04 23:21:00+00:00</td>\n",
              "      <td>False</td>\n",
              "      <td>True</td>\n",
              "      <td>False</td>\n",
              "      <td>...</td>\n",
              "      <td>1164.00</td>\n",
              "      <td>1168.00</td>\n",
              "      <td>1161.32</td>\n",
              "      <td>1160.00</td>\n",
              "      <td>1152.99</td>\n",
              "      <td>1140.97</td>\n",
              "      <td>1132.97</td>\n",
              "      <td>1161.50</td>\n",
              "      <td>1175.50</td>\n",
              "      <td>1161.03</td>\n",
              "    </tr>\n",
              "  </tbody>\n",
              "</table>\n",
              "<p>5000 rows × 55 columns</p>\n",
              "</div>\n",
              "      <button class=\"colab-df-convert\" onclick=\"convertToInteractive('df-2c14f15b-0952-4335-a31a-157ec5c24930')\"\n",
              "              title=\"Convert this dataframe to an interactive table.\"\n",
              "              style=\"display:none;\">\n",
              "        \n",
              "  <svg xmlns=\"http://www.w3.org/2000/svg\" height=\"24px\"viewBox=\"0 0 24 24\"\n",
              "       width=\"24px\">\n",
              "    <path d=\"M0 0h24v24H0V0z\" fill=\"none\"/>\n",
              "    <path d=\"M18.56 5.44l.94 2.06.94-2.06 2.06-.94-2.06-.94-.94-2.06-.94 2.06-2.06.94zm-11 1L8.5 8.5l.94-2.06 2.06-.94-2.06-.94L8.5 2.5l-.94 2.06-2.06.94zm10 10l.94 2.06.94-2.06 2.06-.94-2.06-.94-.94-2.06-.94 2.06-2.06.94z\"/><path d=\"M17.41 7.96l-1.37-1.37c-.4-.4-.92-.59-1.43-.59-.52 0-1.04.2-1.43.59L10.3 9.45l-7.72 7.72c-.78.78-.78 2.05 0 2.83L4 21.41c.39.39.9.59 1.41.59.51 0 1.02-.2 1.41-.59l7.78-7.78 2.81-2.81c.8-.78.8-2.07 0-2.86zM5.41 20L4 18.59l7.72-7.72 1.47 1.35L5.41 20z\"/>\n",
              "  </svg>\n",
              "      </button>\n",
              "      \n",
              "  <style>\n",
              "    .colab-df-container {\n",
              "      display:flex;\n",
              "      flex-wrap:wrap;\n",
              "      gap: 12px;\n",
              "    }\n",
              "\n",
              "    .colab-df-convert {\n",
              "      background-color: #E8F0FE;\n",
              "      border: none;\n",
              "      border-radius: 50%;\n",
              "      cursor: pointer;\n",
              "      display: none;\n",
              "      fill: #1967D2;\n",
              "      height: 32px;\n",
              "      padding: 0 0 0 0;\n",
              "      width: 32px;\n",
              "    }\n",
              "\n",
              "    .colab-df-convert:hover {\n",
              "      background-color: #E2EBFA;\n",
              "      box-shadow: 0px 1px 2px rgba(60, 64, 67, 0.3), 0px 1px 3px 1px rgba(60, 64, 67, 0.15);\n",
              "      fill: #174EA6;\n",
              "    }\n",
              "\n",
              "    [theme=dark] .colab-df-convert {\n",
              "      background-color: #3B4455;\n",
              "      fill: #D2E3FC;\n",
              "    }\n",
              "\n",
              "    [theme=dark] .colab-df-convert:hover {\n",
              "      background-color: #434B5C;\n",
              "      box-shadow: 0px 1px 3px 1px rgba(0, 0, 0, 0.15);\n",
              "      filter: drop-shadow(0px 1px 2px rgba(0, 0, 0, 0.3));\n",
              "      fill: #FFFFFF;\n",
              "    }\n",
              "  </style>\n",
              "\n",
              "      <script>\n",
              "        const buttonEl =\n",
              "          document.querySelector('#df-2c14f15b-0952-4335-a31a-157ec5c24930 button.colab-df-convert');\n",
              "        buttonEl.style.display =\n",
              "          google.colab.kernel.accessAllowed ? 'block' : 'none';\n",
              "\n",
              "        async function convertToInteractive(key) {\n",
              "          const element = document.querySelector('#df-2c14f15b-0952-4335-a31a-157ec5c24930');\n",
              "          const dataTable =\n",
              "            await google.colab.kernel.invokeFunction('convertToInteractive',\n",
              "                                                     [key], {});\n",
              "          if (!dataTable) return;\n",
              "\n",
              "          const docLinkHtml = 'Like what you see? Visit the ' +\n",
              "            '<a target=\"_blank\" href=https://colab.research.google.com/notebooks/data_table.ipynb>data table notebook</a>'\n",
              "            + ' to learn more about interactive tables.';\n",
              "          element.innerHTML = '';\n",
              "          dataTable['output_type'] = 'display_data';\n",
              "          await google.colab.output.renderOutput(dataTable, element);\n",
              "          const docLink = document.createElement('div');\n",
              "          docLink.innerHTML = docLinkHtml;\n",
              "          element.appendChild(docLink);\n",
              "        }\n",
              "      </script>\n",
              "    </div>\n",
              "  </div>\n",
              "  "
            ]
          },
          "metadata": {},
          "execution_count": 19
        }
      ]
    },
    {
      "cell_type": "code",
      "source": [
        "# aapl = pd.read_csv('/content/drive/MyDrive/Colab Notebooks/data/preprocessed/Aapl_NewsPriceHistDirection.csv', nrows=5000)\n",
        "# aapl.shape\n",
        "# print('AAPL:')\n",
        "# aapl.head()\n",
        "\n",
        "#group by year-month\n",
        "aapl_cv=split_generator(df_aapl)\n",
        "# print(aapl_cv)\n",
        "\n",
        "# amzn = pd.read_csv('/content/drive/MyDrive/Colab Notebooks/data/preprocessed/Amzn_NewsPriceHistDirection.csv', nrows=5000)\n",
        "# amzn.shape\n",
        "# print('AMZN:')\n",
        "# amzn.head()\n",
        "\n",
        "#group by year-month\n",
        "amzn_cv=split_generator(df_amzn)\n",
        "\n",
        "# print(amzn_cv)\n"
      ],
      "metadata": {
        "colab": {
          "base_uri": "https://localhost:8080/"
        },
        "id": "5XUkzFaUyIPv",
        "outputId": "45792a8b-16aa-4456-bebd-c721b7c44806"
      },
      "execution_count": null,
      "outputs": [
        {
          "output_type": "stream",
          "name": "stdout",
          "text": [
            "spilt number:3\n",
            "spilt number:7\n"
          ]
        }
      ]
    },
    {
      "cell_type": "code",
      "source": [
        "!pip install scikeras\n",
        "from tensorflow.keras.layers import Bidirectional, LSTM, Dense\n",
        "from keras.optimizers import Adam\n",
        "from scikeras.wrappers import KerasClassifier\n",
        "from sklearn.model_selection import train_test_split\n",
        "from sklearn.model_selection import cross_val_score, cross_val_predict"
      ],
      "metadata": {
        "colab": {
          "base_uri": "https://localhost:8080/"
        },
        "id": "XKB-85v_R5X8",
        "outputId": "0dee2c24-ad49-49d8-cda4-e62ac7fd1cd7"
      },
      "execution_count": null,
      "outputs": [
        {
          "output_type": "stream",
          "name": "stdout",
          "text": [
            "Looking in indexes: https://pypi.org/simple, https://us-python.pkg.dev/colab-wheels/public/simple/\n",
            "Collecting scikeras\n",
            "  Downloading scikeras-0.9.0-py3-none-any.whl (27 kB)\n",
            "Requirement already satisfied: packaging>=0.21 in /usr/local/lib/python3.7/dist-packages (from scikeras) (21.3)\n",
            "Requirement already satisfied: importlib-metadata>=3 in /usr/local/lib/python3.7/dist-packages (from scikeras) (4.13.0)\n",
            "Requirement already satisfied: scikit-learn>=1.0.0 in /usr/local/lib/python3.7/dist-packages (from scikeras) (1.0.2)\n",
            "Requirement already satisfied: typing-extensions>=3.6.4 in /usr/local/lib/python3.7/dist-packages (from importlib-metadata>=3->scikeras) (4.1.1)\n",
            "Requirement already satisfied: zipp>=0.5 in /usr/local/lib/python3.7/dist-packages (from importlib-metadata>=3->scikeras) (3.10.0)\n",
            "Requirement already satisfied: pyparsing!=3.0.5,>=2.0.2 in /usr/local/lib/python3.7/dist-packages (from packaging>=0.21->scikeras) (3.0.9)\n",
            "Requirement already satisfied: scipy>=1.1.0 in /usr/local/lib/python3.7/dist-packages (from scikit-learn>=1.0.0->scikeras) (1.7.3)\n",
            "Requirement already satisfied: threadpoolctl>=2.0.0 in /usr/local/lib/python3.7/dist-packages (from scikit-learn>=1.0.0->scikeras) (3.1.0)\n",
            "Requirement already satisfied: numpy>=1.14.6 in /usr/local/lib/python3.7/dist-packages (from scikit-learn>=1.0.0->scikeras) (1.21.6)\n",
            "Requirement already satisfied: joblib>=0.11 in /usr/local/lib/python3.7/dist-packages (from scikit-learn>=1.0.0->scikeras) (1.2.0)\n",
            "Installing collected packages: scikeras\n",
            "Successfully installed scikeras-0.9.0\n"
          ]
        }
      ]
    },
    {
      "cell_type": "code",
      "source": [
        "\n",
        "#def lstm_model(TrainX, TrainY):\n",
        "def lstm_model(shape):\n",
        "  layers = [LSTM(128,input_shape=(1,shape),dropout=0.2), Dense(2)]\n",
        "  model = tf.keras.models.Sequential(layers)\n",
        "  model.compile(loss=tf.keras.losses.SparseCategoricalCrossentropy(from_logits=True), optimizer=tf.keras.optimizers.Adam(),metrics=['accuracy'])\n",
        "  keras_clf = KerasClassifier(model = model, loss=tf.keras.losses.SparseCategoricalCrossentropy(from_logits=True), metrics=['accuracy'], optimizer=tf.keras.optimizers.Adam(), epochs=40, batch_size=64, verbose=0,validation_split=0.2)\n",
        "\n",
        "  #predictions = cross_val_predict(keras_clf, TrainX, trainY, cv=3)\n",
        "  return keras_clf"
      ],
      "metadata": {
        "id": "gTCEKSB623QX"
      },
      "execution_count": null,
      "outputs": []
    },
    {
      "cell_type": "code",
      "source": [
        "def lstm_cv(df, stock, desc, features, label, cv, print_summary=False, print_box_plot=False):\n",
        "    print('Running: ', len(features))\n",
        "    X = df[features].to_numpy()\n",
        "    y = (df[label] + 1) / 2\n",
        "    model = lstm_model(X.shape[1])\n",
        "    print(X.shape)\n",
        "    TrainX = np.reshape(X, (X.shape[0], 1, X.shape[1]))\n",
        "    #print(\"TrainX: \", TrainX)\n",
        "    #class_label = pd.get_dummies(y).values\n",
        "    #model = lstm_model(trainX=X, trainY = class_label)\n",
        "    \n",
        "    print(\"model: \", model)\n",
        "\n",
        "    results = pd.DataFrame(\n",
        "        cross_validate(model, TrainX, y, cv=cv, scoring=['accuracy', 'precision', 'recall', 'f1']))\n",
        "\n",
        "    if print_box_plot:\n",
        "        results.drop('fit_time', axis=1).plot.box(figsize=(10, 5))\n",
        "\n",
        "    summary = results.describe()\n",
        "    if print_summary:\n",
        "        print(summary.loc['mean', :])\n",
        "\n",
        "    summary = summary.loc['mean', :]\n",
        "    summary['stock'] = stock\n",
        "    summary['desc'] = desc\n",
        "    #print(summary.shape)\n",
        "    return summary"
      ],
      "metadata": {
        "id": "kSwOZ0TG1HMK"
      },
      "execution_count": null,
      "outputs": []
    },
    {
      "cell_type": "code",
      "source": [
        "prevClose = [\n",
        "    'prevClose_1',\n",
        "    'prevClose_2',\n",
        "    'prevClose_3',\n",
        "    'prevClose_4',\n",
        "    'prevClose_5',\n",
        "    'prevClose_6',\n",
        "    'prevClose_7',\n",
        "    'prevClose_8',\n",
        "    'prevClose_9',\n",
        "    'prevClose_10',\n",
        "    'prevClose_11',\n",
        "    'prevClose_12',\n",
        "    'prevClose_13',\n",
        "    'prevClose_14',\n",
        "    'prevClose_15',\n",
        "    'prevClose_16',\n",
        "    'prevClose_17',\n",
        "    'prevClose_18',\n",
        "    'prevClose_19',\n",
        "    'prevClose_20',\n",
        "    'prevClose_21',\n",
        "    'prevClose_22',\n",
        "    'prevClose_23',\n",
        "    'prevClose_24',\n",
        "    'prevClose_25'\n",
        "]\n",
        "label = 'direction'\n",
        "\n",
        "aapl_prevClose_accuracies = []\n",
        "amzn_prevClose_accuracies = []\n",
        "#print(aapl_cv.shape)\n",
        "for i in range(len(prevClose)):\n",
        "    precClose_feat = prevClose[0:i+1]\n",
        "    #print(df_aapl[precClose_feat].to_numpy())\n",
        "    aapl_prevClose_accuracies.append(lstm_cv(df_aapl, 'AAPL', f'{i+1} days close price', precClose_feat, label, aapl_cv)['test_accuracy'])\n",
        "    amzn_prevClose_accuracies.append(lstm_cv(df_amzn, 'AMZN', f'{i+1} days close price', precClose_feat, label, amzn_cv)['test_accuracy'])"
      ],
      "metadata": {
        "colab": {
          "base_uri": "https://localhost:8080/"
        },
        "id": "xXEKo2_w4M66",
        "outputId": "660a0e91-a66f-42c9-91da-3317821c404b"
      },
      "execution_count": null,
      "outputs": [
        {
          "metadata": {
            "tags": null
          },
          "name": "stdout",
          "output_type": "stream",
          "text": [
            "Running:  1\n",
            "(5000, 1)\n",
            "model:  KerasClassifier(\n",
            "\tmodel=<keras.engine.sequential.Sequential object at 0x7f51faecee50>\n",
            "\tbuild_fn=None\n",
            "\twarm_start=False\n",
            "\trandom_state=None\n",
            "\toptimizer=<keras.optimizers.optimizer_v2.adam.Adam object at 0x7f51faea5750>\n",
            "\tloss=<keras.losses.SparseCategoricalCrossentropy object at 0x7f51f998fe90>\n",
            "\tmetrics=['accuracy']\n",
            "\tbatch_size=64\n",
            "\tvalidation_batch_size=None\n",
            "\tverbose=0\n",
            "\tcallbacks=None\n",
            "\tvalidation_split=0.2\n",
            "\tshuffle=True\n",
            "\trun_eagerly=False\n",
            "\tepochs=40\n",
            "\tclass_weight=None\n",
            ")\n"
          ]
        },
        {
          "metadata": {
            "tags": null
          },
          "name": "stderr",
          "output_type": "stream",
          "text": [
            "WARNING:absl:Found untraced functions such as lstm_cell_35_layer_call_fn, lstm_cell_35_layer_call_and_return_conditional_losses while saving (showing 2 of 2). These functions will not be directly callable after loading.\n",
            "WARNING:absl:Found untraced functions such as lstm_cell_35_layer_call_fn, lstm_cell_35_layer_call_and_return_conditional_losses while saving (showing 2 of 2). These functions will not be directly callable after loading.\n",
            "/usr/local/lib/python3.7/dist-packages/sklearn/metrics/_classification.py:1318: UndefinedMetricWarning: Precision is ill-defined and being set to 0.0 due to no predicted samples. Use `zero_division` parameter to control this behavior.\n",
            "  _warn_prf(average, modifier, msg_start, len(result))\n",
            "WARNING:absl:Found untraced functions such as lstm_cell_35_layer_call_fn, lstm_cell_35_layer_call_and_return_conditional_losses while saving (showing 2 of 2). These functions will not be directly callable after loading.\n",
            "/usr/local/lib/python3.7/dist-packages/sklearn/metrics/_classification.py:1318: UndefinedMetricWarning: Precision is ill-defined and being set to 0.0 due to no predicted samples. Use `zero_division` parameter to control this behavior.\n",
            "  _warn_prf(average, modifier, msg_start, len(result))\n",
            "/usr/local/lib/python3.7/dist-packages/sklearn/metrics/_classification.py:1318: UndefinedMetricWarning: Recall is ill-defined and being set to 0.0 due to no true samples. Use `zero_division` parameter to control this behavior.\n",
            "  _warn_prf(average, modifier, msg_start, len(result))\n",
            "/usr/local/lib/python3.7/dist-packages/sklearn/metrics/_classification.py:1580: UndefinedMetricWarning: F-score is ill-defined and being set to 0.0 due to no true nor predicted samples. Use `zero_division` parameter to control this behavior.\n",
            "  _warn_prf(average, \"true nor predicted\", \"F-score is\", len(true_sum))\n"
          ]
        },
        {
          "metadata": {
            "tags": null
          },
          "name": "stdout",
          "output_type": "stream",
          "text": [
            "Running:  1\n",
            "(5000, 1)\n",
            "model:  KerasClassifier(\n",
            "\tmodel=<keras.engine.sequential.Sequential object at 0x7f51faebd5d0>\n",
            "\tbuild_fn=None\n",
            "\twarm_start=False\n",
            "\trandom_state=None\n",
            "\toptimizer=<keras.optimizers.optimizer_v2.adam.Adam object at 0x7f51efc971d0>\n",
            "\tloss=<keras.losses.SparseCategoricalCrossentropy object at 0x7f51ef34ca10>\n",
            "\tmetrics=['accuracy']\n",
            "\tbatch_size=64\n",
            "\tvalidation_batch_size=None\n",
            "\tverbose=0\n",
            "\tcallbacks=None\n",
            "\tvalidation_split=0.2\n",
            "\tshuffle=True\n",
            "\trun_eagerly=False\n",
            "\tepochs=40\n",
            "\tclass_weight=None\n",
            ")\n"
          ]
        },
        {
          "metadata": {
            "tags": null
          },
          "name": "stderr",
          "output_type": "stream",
          "text": [
            "WARNING:absl:Found untraced functions such as lstm_cell_39_layer_call_fn, lstm_cell_39_layer_call_and_return_conditional_losses while saving (showing 2 of 2). These functions will not be directly callable after loading.\n",
            "/usr/local/lib/python3.7/dist-packages/sklearn/metrics/_classification.py:1318: UndefinedMetricWarning: Precision is ill-defined and being set to 0.0 due to no predicted samples. Use `zero_division` parameter to control this behavior.\n",
            "  _warn_prf(average, modifier, msg_start, len(result))\n",
            "WARNING:absl:Found untraced functions such as lstm_cell_39_layer_call_fn, lstm_cell_39_layer_call_and_return_conditional_losses while saving (showing 2 of 2). These functions will not be directly callable after loading.\n",
            "WARNING:absl:Found untraced functions such as lstm_cell_39_layer_call_fn, lstm_cell_39_layer_call_and_return_conditional_losses while saving (showing 2 of 2). These functions will not be directly callable after loading.\n",
            "WARNING:absl:Found untraced functions such as lstm_cell_39_layer_call_fn, lstm_cell_39_layer_call_and_return_conditional_losses while saving (showing 2 of 2). These functions will not be directly callable after loading.\n",
            "/usr/local/lib/python3.7/dist-packages/sklearn/metrics/_classification.py:1318: UndefinedMetricWarning: Recall is ill-defined and being set to 0.0 due to no true samples. Use `zero_division` parameter to control this behavior.\n",
            "  _warn_prf(average, modifier, msg_start, len(result))\n",
            "WARNING:absl:Found untraced functions such as lstm_cell_39_layer_call_fn, lstm_cell_39_layer_call_and_return_conditional_losses while saving (showing 2 of 2). These functions will not be directly callable after loading.\n",
            "WARNING:absl:Found untraced functions such as lstm_cell_39_layer_call_fn, lstm_cell_39_layer_call_and_return_conditional_losses while saving (showing 2 of 2). These functions will not be directly callable after loading.\n",
            "WARNING:absl:Found untraced functions such as lstm_cell_39_layer_call_fn, lstm_cell_39_layer_call_and_return_conditional_losses while saving (showing 2 of 2). These functions will not be directly callable after loading.\n",
            "/usr/local/lib/python3.7/dist-packages/sklearn/metrics/_classification.py:1318: UndefinedMetricWarning: Recall is ill-defined and being set to 0.0 due to no true samples. Use `zero_division` parameter to control this behavior.\n",
            "  _warn_prf(average, modifier, msg_start, len(result))\n"
          ]
        },
        {
          "metadata": {
            "tags": null
          },
          "name": "stdout",
          "output_type": "stream",
          "text": [
            "Running:  2\n",
            "(5000, 2)\n",
            "model:  KerasClassifier(\n",
            "\tmodel=<keras.engine.sequential.Sequential object at 0x7f51ef2b0610>\n",
            "\tbuild_fn=None\n",
            "\twarm_start=False\n",
            "\trandom_state=None\n",
            "\toptimizer=<keras.optimizers.optimizer_v2.adam.Adam object at 0x7f51ed911790>\n",
            "\tloss=<keras.losses.SparseCategoricalCrossentropy object at 0x7f51f7d1fad0>\n",
            "\tmetrics=['accuracy']\n",
            "\tbatch_size=64\n",
            "\tvalidation_batch_size=None\n",
            "\tverbose=0\n",
            "\tcallbacks=None\n",
            "\tvalidation_split=0.2\n",
            "\tshuffle=True\n",
            "\trun_eagerly=False\n",
            "\tepochs=40\n",
            "\tclass_weight=None\n",
            ")\n"
          ]
        },
        {
          "metadata": {
            "tags": null
          },
          "name": "stderr",
          "output_type": "stream",
          "text": [
            "WARNING:absl:Found untraced functions such as lstm_cell_47_layer_call_fn, lstm_cell_47_layer_call_and_return_conditional_losses while saving (showing 2 of 2). These functions will not be directly callable after loading.\n",
            "/usr/local/lib/python3.7/dist-packages/sklearn/metrics/_classification.py:1318: UndefinedMetricWarning: Precision is ill-defined and being set to 0.0 due to no predicted samples. Use `zero_division` parameter to control this behavior.\n",
            "  _warn_prf(average, modifier, msg_start, len(result))\n",
            "WARNING:absl:Found untraced functions such as lstm_cell_47_layer_call_fn, lstm_cell_47_layer_call_and_return_conditional_losses while saving (showing 2 of 2). These functions will not be directly callable after loading.\n",
            "WARNING:absl:Found untraced functions such as lstm_cell_47_layer_call_fn, lstm_cell_47_layer_call_and_return_conditional_losses while saving (showing 2 of 2). These functions will not be directly callable after loading.\n",
            "/usr/local/lib/python3.7/dist-packages/sklearn/metrics/_classification.py:1318: UndefinedMetricWarning: Recall is ill-defined and being set to 0.0 due to no true samples. Use `zero_division` parameter to control this behavior.\n",
            "  _warn_prf(average, modifier, msg_start, len(result))\n"
          ]
        },
        {
          "metadata": {
            "tags": null
          },
          "name": "stdout",
          "output_type": "stream",
          "text": [
            "Running:  2\n",
            "(5000, 2)\n",
            "model:  KerasClassifier(\n",
            "\tmodel=<keras.engine.sequential.Sequential object at 0x7f51f7d38450>\n",
            "\tbuild_fn=None\n",
            "\twarm_start=False\n",
            "\trandom_state=None\n",
            "\toptimizer=<keras.optimizers.optimizer_v2.adam.Adam object at 0x7f51ef2dc710>\n",
            "\tloss=<keras.losses.SparseCategoricalCrossentropy object at 0x7f51f776aa50>\n",
            "\tmetrics=['accuracy']\n",
            "\tbatch_size=64\n",
            "\tvalidation_batch_size=None\n",
            "\tverbose=0\n",
            "\tcallbacks=None\n",
            "\tvalidation_split=0.2\n",
            "\tshuffle=True\n",
            "\trun_eagerly=False\n",
            "\tepochs=40\n",
            "\tclass_weight=None\n",
            ")\n"
          ]
        },
        {
          "output_type": "stream",
          "name": "stderr",
          "text": [
            "WARNING:absl:Found untraced functions such as lstm_cell_51_layer_call_fn, lstm_cell_51_layer_call_and_return_conditional_losses while saving (showing 2 of 2). These functions will not be directly callable after loading.\n",
            "/usr/local/lib/python3.7/dist-packages/sklearn/metrics/_classification.py:1318: UndefinedMetricWarning: Precision is ill-defined and being set to 0.0 due to no predicted samples. Use `zero_division` parameter to control this behavior.\n",
            "  _warn_prf(average, modifier, msg_start, len(result))\n",
            "WARNING:absl:Found untraced functions such as lstm_cell_51_layer_call_fn, lstm_cell_51_layer_call_and_return_conditional_losses while saving (showing 2 of 2). These functions will not be directly callable after loading.\n",
            "WARNING:absl:Found untraced functions such as lstm_cell_51_layer_call_fn, lstm_cell_51_layer_call_and_return_conditional_losses while saving (showing 2 of 2). These functions will not be directly callable after loading.\n",
            "WARNING:absl:Found untraced functions such as lstm_cell_51_layer_call_fn, lstm_cell_51_layer_call_and_return_conditional_losses while saving (showing 2 of 2). These functions will not be directly callable after loading.\n",
            "/usr/local/lib/python3.7/dist-packages/sklearn/metrics/_classification.py:1318: UndefinedMetricWarning: Recall is ill-defined and being set to 0.0 due to no true samples. Use `zero_division` parameter to control this behavior.\n",
            "  _warn_prf(average, modifier, msg_start, len(result))\n",
            "WARNING:absl:Found untraced functions such as lstm_cell_51_layer_call_fn, lstm_cell_51_layer_call_and_return_conditional_losses while saving (showing 2 of 2). These functions will not be directly callable after loading.\n",
            "WARNING:absl:Found untraced functions such as lstm_cell_51_layer_call_fn, lstm_cell_51_layer_call_and_return_conditional_losses while saving (showing 2 of 2). These functions will not be directly callable after loading.\n",
            "WARNING:absl:Found untraced functions such as lstm_cell_51_layer_call_fn, lstm_cell_51_layer_call_and_return_conditional_losses while saving (showing 2 of 2). These functions will not be directly callable after loading.\n",
            "/usr/local/lib/python3.7/dist-packages/sklearn/metrics/_classification.py:1318: UndefinedMetricWarning: Recall is ill-defined and being set to 0.0 due to no true samples. Use `zero_division` parameter to control this behavior.\n",
            "  _warn_prf(average, modifier, msg_start, len(result))\n"
          ]
        },
        {
          "output_type": "stream",
          "name": "stdout",
          "text": [
            "Running:  3\n",
            "(5000, 3)\n",
            "model:  KerasClassifier(\n",
            "\tmodel=<keras.engine.sequential.Sequential object at 0x7f51fa2aad90>\n",
            "\tbuild_fn=None\n",
            "\twarm_start=False\n",
            "\trandom_state=None\n",
            "\toptimizer=<keras.optimizers.optimizer_v2.adam.Adam object at 0x7f51fcc57ad0>\n",
            "\tloss=<keras.losses.SparseCategoricalCrossentropy object at 0x7f51f914bfd0>\n",
            "\tmetrics=['accuracy']\n",
            "\tbatch_size=64\n",
            "\tvalidation_batch_size=None\n",
            "\tverbose=0\n",
            "\tcallbacks=None\n",
            "\tvalidation_split=0.2\n",
            "\tshuffle=True\n",
            "\trun_eagerly=False\n",
            "\tepochs=40\n",
            "\tclass_weight=None\n",
            ")\n"
          ]
        },
        {
          "output_type": "stream",
          "name": "stderr",
          "text": [
            "WARNING:absl:Found untraced functions such as lstm_cell_59_layer_call_fn, lstm_cell_59_layer_call_and_return_conditional_losses while saving (showing 2 of 2). These functions will not be directly callable after loading.\n",
            "/usr/local/lib/python3.7/dist-packages/sklearn/metrics/_classification.py:1318: UndefinedMetricWarning: Precision is ill-defined and being set to 0.0 due to no predicted samples. Use `zero_division` parameter to control this behavior.\n",
            "  _warn_prf(average, modifier, msg_start, len(result))\n",
            "WARNING:absl:Found untraced functions such as lstm_cell_59_layer_call_fn, lstm_cell_59_layer_call_and_return_conditional_losses while saving (showing 2 of 2). These functions will not be directly callable after loading.\n",
            "WARNING:absl:Found untraced functions such as lstm_cell_59_layer_call_fn, lstm_cell_59_layer_call_and_return_conditional_losses while saving (showing 2 of 2). These functions will not be directly callable after loading.\n",
            "/usr/local/lib/python3.7/dist-packages/sklearn/metrics/_classification.py:1318: UndefinedMetricWarning: Recall is ill-defined and being set to 0.0 due to no true samples. Use `zero_division` parameter to control this behavior.\n",
            "  _warn_prf(average, modifier, msg_start, len(result))\n"
          ]
        },
        {
          "output_type": "stream",
          "name": "stdout",
          "text": [
            "Running:  3\n",
            "(5000, 3)\n",
            "model:  KerasClassifier(\n",
            "\tmodel=<keras.engine.sequential.Sequential object at 0x7f51fa653990>\n",
            "\tbuild_fn=None\n",
            "\twarm_start=False\n",
            "\trandom_state=None\n",
            "\toptimizer=<keras.optimizers.optimizer_v2.adam.Adam object at 0x7f51fc706ad0>\n",
            "\tloss=<keras.losses.SparseCategoricalCrossentropy object at 0x7f51fc706cd0>\n",
            "\tmetrics=['accuracy']\n",
            "\tbatch_size=64\n",
            "\tvalidation_batch_size=None\n",
            "\tverbose=0\n",
            "\tcallbacks=None\n",
            "\tvalidation_split=0.2\n",
            "\tshuffle=True\n",
            "\trun_eagerly=False\n",
            "\tepochs=40\n",
            "\tclass_weight=None\n",
            ")\n"
          ]
        },
        {
          "output_type": "stream",
          "name": "stderr",
          "text": [
            "WARNING:absl:Found untraced functions such as lstm_cell_63_layer_call_fn, lstm_cell_63_layer_call_and_return_conditional_losses while saving (showing 2 of 2). These functions will not be directly callable after loading.\n",
            "/usr/local/lib/python3.7/dist-packages/sklearn/metrics/_classification.py:1318: UndefinedMetricWarning: Precision is ill-defined and being set to 0.0 due to no predicted samples. Use `zero_division` parameter to control this behavior.\n",
            "  _warn_prf(average, modifier, msg_start, len(result))\n",
            "WARNING:absl:Found untraced functions such as lstm_cell_63_layer_call_fn, lstm_cell_63_layer_call_and_return_conditional_losses while saving (showing 2 of 2). These functions will not be directly callable after loading.\n",
            "WARNING:absl:Found untraced functions such as lstm_cell_63_layer_call_fn, lstm_cell_63_layer_call_and_return_conditional_losses while saving (showing 2 of 2). These functions will not be directly callable after loading.\n",
            "WARNING:absl:Found untraced functions such as lstm_cell_63_layer_call_fn, lstm_cell_63_layer_call_and_return_conditional_losses while saving (showing 2 of 2). These functions will not be directly callable after loading.\n",
            "/usr/local/lib/python3.7/dist-packages/sklearn/metrics/_classification.py:1318: UndefinedMetricWarning: Recall is ill-defined and being set to 0.0 due to no true samples. Use `zero_division` parameter to control this behavior.\n",
            "  _warn_prf(average, modifier, msg_start, len(result))\n",
            "WARNING:absl:Found untraced functions such as lstm_cell_63_layer_call_fn, lstm_cell_63_layer_call_and_return_conditional_losses while saving (showing 2 of 2). These functions will not be directly callable after loading.\n",
            "WARNING:absl:Found untraced functions such as lstm_cell_63_layer_call_fn, lstm_cell_63_layer_call_and_return_conditional_losses while saving (showing 2 of 2). These functions will not be directly callable after loading.\n",
            "WARNING:absl:Found untraced functions such as lstm_cell_63_layer_call_fn, lstm_cell_63_layer_call_and_return_conditional_losses while saving (showing 2 of 2). These functions will not be directly callable after loading.\n",
            "/usr/local/lib/python3.7/dist-packages/sklearn/metrics/_classification.py:1318: UndefinedMetricWarning: Recall is ill-defined and being set to 0.0 due to no true samples. Use `zero_division` parameter to control this behavior.\n",
            "  _warn_prf(average, modifier, msg_start, len(result))\n"
          ]
        },
        {
          "output_type": "stream",
          "name": "stdout",
          "text": [
            "Running:  4\n",
            "(5000, 4)\n",
            "model:  KerasClassifier(\n",
            "\tmodel=<keras.engine.sequential.Sequential object at 0x7f51efb94110>\n",
            "\tbuild_fn=None\n",
            "\twarm_start=False\n",
            "\trandom_state=None\n",
            "\toptimizer=<keras.optimizers.optimizer_v2.adam.Adam object at 0x7f51eda7dfd0>\n",
            "\tloss=<keras.losses.SparseCategoricalCrossentropy object at 0x7f51fbc76850>\n",
            "\tmetrics=['accuracy']\n",
            "\tbatch_size=64\n",
            "\tvalidation_batch_size=None\n",
            "\tverbose=0\n",
            "\tcallbacks=None\n",
            "\tvalidation_split=0.2\n",
            "\tshuffle=True\n",
            "\trun_eagerly=False\n",
            "\tepochs=40\n",
            "\tclass_weight=None\n",
            ")\n"
          ]
        },
        {
          "output_type": "stream",
          "name": "stderr",
          "text": [
            "WARNING:absl:Found untraced functions such as lstm_cell_71_layer_call_fn, lstm_cell_71_layer_call_and_return_conditional_losses while saving (showing 2 of 2). These functions will not be directly callable after loading.\n",
            "/usr/local/lib/python3.7/dist-packages/sklearn/metrics/_classification.py:1318: UndefinedMetricWarning: Precision is ill-defined and being set to 0.0 due to no predicted samples. Use `zero_division` parameter to control this behavior.\n",
            "  _warn_prf(average, modifier, msg_start, len(result))\n",
            "WARNING:absl:Found untraced functions such as lstm_cell_71_layer_call_fn, lstm_cell_71_layer_call_and_return_conditional_losses while saving (showing 2 of 2). These functions will not be directly callable after loading.\n",
            "/usr/local/lib/python3.7/dist-packages/sklearn/metrics/_classification.py:1318: UndefinedMetricWarning: Precision is ill-defined and being set to 0.0 due to no predicted samples. Use `zero_division` parameter to control this behavior.\n",
            "  _warn_prf(average, modifier, msg_start, len(result))\n",
            "WARNING:absl:Found untraced functions such as lstm_cell_71_layer_call_fn, lstm_cell_71_layer_call_and_return_conditional_losses while saving (showing 2 of 2). These functions will not be directly callable after loading.\n",
            "/usr/local/lib/python3.7/dist-packages/sklearn/metrics/_classification.py:1318: UndefinedMetricWarning: Recall is ill-defined and being set to 0.0 due to no true samples. Use `zero_division` parameter to control this behavior.\n",
            "  _warn_prf(average, modifier, msg_start, len(result))\n"
          ]
        },
        {
          "output_type": "stream",
          "name": "stdout",
          "text": [
            "Running:  4\n",
            "(5000, 4)\n",
            "model:  KerasClassifier(\n",
            "\tmodel=<keras.engine.sequential.Sequential object at 0x7f51fc4d5110>\n",
            "\tbuild_fn=None\n",
            "\twarm_start=False\n",
            "\trandom_state=None\n",
            "\toptimizer=<keras.optimizers.optimizer_v2.adam.Adam object at 0x7f51ef0b6c10>\n",
            "\tloss=<keras.losses.SparseCategoricalCrossentropy object at 0x7f51f01567d0>\n",
            "\tmetrics=['accuracy']\n",
            "\tbatch_size=64\n",
            "\tvalidation_batch_size=None\n",
            "\tverbose=0\n",
            "\tcallbacks=None\n",
            "\tvalidation_split=0.2\n",
            "\tshuffle=True\n",
            "\trun_eagerly=False\n",
            "\tepochs=40\n",
            "\tclass_weight=None\n",
            ")\n"
          ]
        },
        {
          "output_type": "stream",
          "name": "stderr",
          "text": [
            "WARNING:absl:Found untraced functions such as lstm_cell_75_layer_call_fn, lstm_cell_75_layer_call_and_return_conditional_losses while saving (showing 2 of 2). These functions will not be directly callable after loading.\n",
            "/usr/local/lib/python3.7/dist-packages/sklearn/metrics/_classification.py:1318: UndefinedMetricWarning: Precision is ill-defined and being set to 0.0 due to no predicted samples. Use `zero_division` parameter to control this behavior.\n",
            "  _warn_prf(average, modifier, msg_start, len(result))\n",
            "WARNING:absl:Found untraced functions such as lstm_cell_75_layer_call_fn, lstm_cell_75_layer_call_and_return_conditional_losses while saving (showing 2 of 2). These functions will not be directly callable after loading.\n",
            "WARNING:absl:Found untraced functions such as lstm_cell_75_layer_call_fn, lstm_cell_75_layer_call_and_return_conditional_losses while saving (showing 2 of 2). These functions will not be directly callable after loading.\n",
            "WARNING:absl:Found untraced functions such as lstm_cell_75_layer_call_fn, lstm_cell_75_layer_call_and_return_conditional_losses while saving (showing 2 of 2). These functions will not be directly callable after loading.\n",
            "/usr/local/lib/python3.7/dist-packages/sklearn/metrics/_classification.py:1318: UndefinedMetricWarning: Recall is ill-defined and being set to 0.0 due to no true samples. Use `zero_division` parameter to control this behavior.\n",
            "  _warn_prf(average, modifier, msg_start, len(result))\n",
            "WARNING:absl:Found untraced functions such as lstm_cell_75_layer_call_fn, lstm_cell_75_layer_call_and_return_conditional_losses while saving (showing 2 of 2). These functions will not be directly callable after loading.\n",
            "WARNING:absl:Found untraced functions such as lstm_cell_75_layer_call_fn, lstm_cell_75_layer_call_and_return_conditional_losses while saving (showing 2 of 2). These functions will not be directly callable after loading.\n",
            "WARNING:absl:Found untraced functions such as lstm_cell_75_layer_call_fn, lstm_cell_75_layer_call_and_return_conditional_losses while saving (showing 2 of 2). These functions will not be directly callable after loading.\n",
            "/usr/local/lib/python3.7/dist-packages/sklearn/metrics/_classification.py:1318: UndefinedMetricWarning: Recall is ill-defined and being set to 0.0 due to no true samples. Use `zero_division` parameter to control this behavior.\n",
            "  _warn_prf(average, modifier, msg_start, len(result))\n"
          ]
        },
        {
          "output_type": "stream",
          "name": "stdout",
          "text": [
            "Running:  5\n",
            "(5000, 5)\n",
            "model:  KerasClassifier(\n",
            "\tmodel=<keras.engine.sequential.Sequential object at 0x7f51fac1b0d0>\n",
            "\tbuild_fn=None\n",
            "\twarm_start=False\n",
            "\trandom_state=None\n",
            "\toptimizer=<keras.optimizers.optimizer_v2.adam.Adam object at 0x7f51eee86390>\n",
            "\tloss=<keras.losses.SparseCategoricalCrossentropy object at 0x7f51ede77950>\n",
            "\tmetrics=['accuracy']\n",
            "\tbatch_size=64\n",
            "\tvalidation_batch_size=None\n",
            "\tverbose=0\n",
            "\tcallbacks=None\n",
            "\tvalidation_split=0.2\n",
            "\tshuffle=True\n",
            "\trun_eagerly=False\n",
            "\tepochs=40\n",
            "\tclass_weight=None\n",
            ")\n"
          ]
        },
        {
          "output_type": "stream",
          "name": "stderr",
          "text": [
            "WARNING:absl:Found untraced functions such as lstm_cell_83_layer_call_fn, lstm_cell_83_layer_call_and_return_conditional_losses while saving (showing 2 of 2). These functions will not be directly callable after loading.\n",
            "/usr/local/lib/python3.7/dist-packages/sklearn/metrics/_classification.py:1318: UndefinedMetricWarning: Precision is ill-defined and being set to 0.0 due to no predicted samples. Use `zero_division` parameter to control this behavior.\n",
            "  _warn_prf(average, modifier, msg_start, len(result))\n",
            "WARNING:absl:Found untraced functions such as lstm_cell_83_layer_call_fn, lstm_cell_83_layer_call_and_return_conditional_losses while saving (showing 2 of 2). These functions will not be directly callable after loading.\n",
            "/usr/local/lib/python3.7/dist-packages/sklearn/metrics/_classification.py:1318: UndefinedMetricWarning: Precision is ill-defined and being set to 0.0 due to no predicted samples. Use `zero_division` parameter to control this behavior.\n",
            "  _warn_prf(average, modifier, msg_start, len(result))\n",
            "WARNING:absl:Found untraced functions such as lstm_cell_83_layer_call_fn, lstm_cell_83_layer_call_and_return_conditional_losses while saving (showing 2 of 2). These functions will not be directly callable after loading.\n",
            "/usr/local/lib/python3.7/dist-packages/sklearn/metrics/_classification.py:1318: UndefinedMetricWarning: Recall is ill-defined and being set to 0.0 due to no true samples. Use `zero_division` parameter to control this behavior.\n",
            "  _warn_prf(average, modifier, msg_start, len(result))\n"
          ]
        },
        {
          "output_type": "stream",
          "name": "stdout",
          "text": [
            "Running:  5\n",
            "(5000, 5)\n",
            "model:  KerasClassifier(\n",
            "\tmodel=<keras.engine.sequential.Sequential object at 0x7f51faa04b90>\n",
            "\tbuild_fn=None\n",
            "\twarm_start=False\n",
            "\trandom_state=None\n",
            "\toptimizer=<keras.optimizers.optimizer_v2.adam.Adam object at 0x7f51ed741c90>\n",
            "\tloss=<keras.losses.SparseCategoricalCrossentropy object at 0x7f51fa63e410>\n",
            "\tmetrics=['accuracy']\n",
            "\tbatch_size=64\n",
            "\tvalidation_batch_size=None\n",
            "\tverbose=0\n",
            "\tcallbacks=None\n",
            "\tvalidation_split=0.2\n",
            "\tshuffle=True\n",
            "\trun_eagerly=False\n",
            "\tepochs=40\n",
            "\tclass_weight=None\n",
            ")\n"
          ]
        },
        {
          "output_type": "stream",
          "name": "stderr",
          "text": [
            "WARNING:absl:Found untraced functions such as lstm_cell_87_layer_call_fn, lstm_cell_87_layer_call_and_return_conditional_losses while saving (showing 2 of 2). These functions will not be directly callable after loading.\n",
            "WARNING:absl:Found untraced functions such as lstm_cell_87_layer_call_fn, lstm_cell_87_layer_call_and_return_conditional_losses while saving (showing 2 of 2). These functions will not be directly callable after loading.\n",
            "WARNING:absl:Found untraced functions such as lstm_cell_87_layer_call_fn, lstm_cell_87_layer_call_and_return_conditional_losses while saving (showing 2 of 2). These functions will not be directly callable after loading.\n",
            "WARNING:absl:Found untraced functions such as lstm_cell_87_layer_call_fn, lstm_cell_87_layer_call_and_return_conditional_losses while saving (showing 2 of 2). These functions will not be directly callable after loading.\n",
            "/usr/local/lib/python3.7/dist-packages/sklearn/metrics/_classification.py:1318: UndefinedMetricWarning: Recall is ill-defined and being set to 0.0 due to no true samples. Use `zero_division` parameter to control this behavior.\n",
            "  _warn_prf(average, modifier, msg_start, len(result))\n",
            "WARNING:absl:Found untraced functions such as lstm_cell_87_layer_call_fn, lstm_cell_87_layer_call_and_return_conditional_losses while saving (showing 2 of 2). These functions will not be directly callable after loading.\n",
            "WARNING:absl:Found untraced functions such as lstm_cell_87_layer_call_fn, lstm_cell_87_layer_call_and_return_conditional_losses while saving (showing 2 of 2). These functions will not be directly callable after loading.\n",
            "WARNING:absl:Found untraced functions such as lstm_cell_87_layer_call_fn, lstm_cell_87_layer_call_and_return_conditional_losses while saving (showing 2 of 2). These functions will not be directly callable after loading.\n",
            "/usr/local/lib/python3.7/dist-packages/sklearn/metrics/_classification.py:1318: UndefinedMetricWarning: Recall is ill-defined and being set to 0.0 due to no true samples. Use `zero_division` parameter to control this behavior.\n",
            "  _warn_prf(average, modifier, msg_start, len(result))\n"
          ]
        },
        {
          "output_type": "stream",
          "name": "stdout",
          "text": [
            "Running:  6\n",
            "(5000, 6)\n",
            "model:  KerasClassifier(\n",
            "\tmodel=<keras.engine.sequential.Sequential object at 0x7f51f69fea50>\n",
            "\tbuild_fn=None\n",
            "\twarm_start=False\n",
            "\trandom_state=None\n",
            "\toptimizer=<keras.optimizers.optimizer_v2.adam.Adam object at 0x7f51f6b5a590>\n",
            "\tloss=<keras.losses.SparseCategoricalCrossentropy object at 0x7f51f77cdd90>\n",
            "\tmetrics=['accuracy']\n",
            "\tbatch_size=64\n",
            "\tvalidation_batch_size=None\n",
            "\tverbose=0\n",
            "\tcallbacks=None\n",
            "\tvalidation_split=0.2\n",
            "\tshuffle=True\n",
            "\trun_eagerly=False\n",
            "\tepochs=40\n",
            "\tclass_weight=None\n",
            ")\n"
          ]
        },
        {
          "output_type": "stream",
          "name": "stderr",
          "text": [
            "WARNING:absl:Found untraced functions such as lstm_cell_95_layer_call_fn, lstm_cell_95_layer_call_and_return_conditional_losses while saving (showing 2 of 2). These functions will not be directly callable after loading.\n",
            "/usr/local/lib/python3.7/dist-packages/sklearn/metrics/_classification.py:1318: UndefinedMetricWarning: Precision is ill-defined and being set to 0.0 due to no predicted samples. Use `zero_division` parameter to control this behavior.\n",
            "  _warn_prf(average, modifier, msg_start, len(result))\n",
            "WARNING:absl:Found untraced functions such as lstm_cell_95_layer_call_fn, lstm_cell_95_layer_call_and_return_conditional_losses while saving (showing 2 of 2). These functions will not be directly callable after loading.\n",
            "/usr/local/lib/python3.7/dist-packages/sklearn/metrics/_classification.py:1318: UndefinedMetricWarning: Precision is ill-defined and being set to 0.0 due to no predicted samples. Use `zero_division` parameter to control this behavior.\n",
            "  _warn_prf(average, modifier, msg_start, len(result))\n",
            "WARNING:absl:Found untraced functions such as lstm_cell_95_layer_call_fn, lstm_cell_95_layer_call_and_return_conditional_losses while saving (showing 2 of 2). These functions will not be directly callable after loading.\n",
            "/usr/local/lib/python3.7/dist-packages/sklearn/metrics/_classification.py:1318: UndefinedMetricWarning: Recall is ill-defined and being set to 0.0 due to no true samples. Use `zero_division` parameter to control this behavior.\n",
            "  _warn_prf(average, modifier, msg_start, len(result))\n"
          ]
        },
        {
          "output_type": "stream",
          "name": "stdout",
          "text": [
            "Running:  6\n",
            "(5000, 6)\n",
            "model:  KerasClassifier(\n",
            "\tmodel=<keras.engine.sequential.Sequential object at 0x7f51fa19d390>\n",
            "\tbuild_fn=None\n",
            "\twarm_start=False\n",
            "\trandom_state=None\n",
            "\toptimizer=<keras.optimizers.optimizer_v2.adam.Adam object at 0x7f51f90204d0>\n",
            "\tloss=<keras.losses.SparseCategoricalCrossentropy object at 0x7f51f7d31a10>\n",
            "\tmetrics=['accuracy']\n",
            "\tbatch_size=64\n",
            "\tvalidation_batch_size=None\n",
            "\tverbose=0\n",
            "\tcallbacks=None\n",
            "\tvalidation_split=0.2\n",
            "\tshuffle=True\n",
            "\trun_eagerly=False\n",
            "\tepochs=40\n",
            "\tclass_weight=None\n",
            ")\n"
          ]
        },
        {
          "output_type": "stream",
          "name": "stderr",
          "text": [
            "WARNING:absl:Found untraced functions such as lstm_cell_99_layer_call_fn, lstm_cell_99_layer_call_and_return_conditional_losses while saving (showing 2 of 2). These functions will not be directly callable after loading.\n",
            "WARNING:absl:Found untraced functions such as lstm_cell_99_layer_call_fn, lstm_cell_99_layer_call_and_return_conditional_losses while saving (showing 2 of 2). These functions will not be directly callable after loading.\n",
            "WARNING:absl:Found untraced functions such as lstm_cell_99_layer_call_fn, lstm_cell_99_layer_call_and_return_conditional_losses while saving (showing 2 of 2). These functions will not be directly callable after loading.\n",
            "WARNING:absl:Found untraced functions such as lstm_cell_99_layer_call_fn, lstm_cell_99_layer_call_and_return_conditional_losses while saving (showing 2 of 2). These functions will not be directly callable after loading.\n",
            "/usr/local/lib/python3.7/dist-packages/sklearn/metrics/_classification.py:1318: UndefinedMetricWarning: Recall is ill-defined and being set to 0.0 due to no true samples. Use `zero_division` parameter to control this behavior.\n",
            "  _warn_prf(average, modifier, msg_start, len(result))\n",
            "WARNING:absl:Found untraced functions such as lstm_cell_99_layer_call_fn, lstm_cell_99_layer_call_and_return_conditional_losses while saving (showing 2 of 2). These functions will not be directly callable after loading.\n",
            "WARNING:absl:Found untraced functions such as lstm_cell_99_layer_call_fn, lstm_cell_99_layer_call_and_return_conditional_losses while saving (showing 2 of 2). These functions will not be directly callable after loading.\n",
            "WARNING:absl:Found untraced functions such as lstm_cell_99_layer_call_fn, lstm_cell_99_layer_call_and_return_conditional_losses while saving (showing 2 of 2). These functions will not be directly callable after loading.\n",
            "/usr/local/lib/python3.7/dist-packages/sklearn/metrics/_classification.py:1318: UndefinedMetricWarning: Recall is ill-defined and being set to 0.0 due to no true samples. Use `zero_division` parameter to control this behavior.\n",
            "  _warn_prf(average, modifier, msg_start, len(result))\n"
          ]
        },
        {
          "output_type": "stream",
          "name": "stdout",
          "text": [
            "Running:  7\n",
            "(5000, 7)\n",
            "model:  KerasClassifier(\n",
            "\tmodel=<keras.engine.sequential.Sequential object at 0x7f51fcac5850>\n",
            "\tbuild_fn=None\n",
            "\twarm_start=False\n",
            "\trandom_state=None\n",
            "\toptimizer=<keras.optimizers.optimizer_v2.adam.Adam object at 0x7f51f042b750>\n",
            "\tloss=<keras.losses.SparseCategoricalCrossentropy object at 0x7f51f777cc90>\n",
            "\tmetrics=['accuracy']\n",
            "\tbatch_size=64\n",
            "\tvalidation_batch_size=None\n",
            "\tverbose=0\n",
            "\tcallbacks=None\n",
            "\tvalidation_split=0.2\n",
            "\tshuffle=True\n",
            "\trun_eagerly=False\n",
            "\tepochs=40\n",
            "\tclass_weight=None\n",
            ")\n"
          ]
        },
        {
          "output_type": "stream",
          "name": "stderr",
          "text": [
            "WARNING:absl:Found untraced functions such as lstm_cell_107_layer_call_fn, lstm_cell_107_layer_call_and_return_conditional_losses while saving (showing 2 of 2). These functions will not be directly callable after loading.\n",
            "/usr/local/lib/python3.7/dist-packages/sklearn/metrics/_classification.py:1318: UndefinedMetricWarning: Precision is ill-defined and being set to 0.0 due to no predicted samples. Use `zero_division` parameter to control this behavior.\n",
            "  _warn_prf(average, modifier, msg_start, len(result))\n",
            "WARNING:absl:Found untraced functions such as lstm_cell_107_layer_call_fn, lstm_cell_107_layer_call_and_return_conditional_losses while saving (showing 2 of 2). These functions will not be directly callable after loading.\n",
            "/usr/local/lib/python3.7/dist-packages/sklearn/metrics/_classification.py:1318: UndefinedMetricWarning: Precision is ill-defined and being set to 0.0 due to no predicted samples. Use `zero_division` parameter to control this behavior.\n",
            "  _warn_prf(average, modifier, msg_start, len(result))\n",
            "WARNING:absl:Found untraced functions such as lstm_cell_107_layer_call_fn, lstm_cell_107_layer_call_and_return_conditional_losses while saving (showing 2 of 2). These functions will not be directly callable after loading.\n",
            "/usr/local/lib/python3.7/dist-packages/sklearn/metrics/_classification.py:1318: UndefinedMetricWarning: Precision is ill-defined and being set to 0.0 due to no predicted samples. Use `zero_division` parameter to control this behavior.\n",
            "  _warn_prf(average, modifier, msg_start, len(result))\n",
            "/usr/local/lib/python3.7/dist-packages/sklearn/metrics/_classification.py:1318: UndefinedMetricWarning: Recall is ill-defined and being set to 0.0 due to no true samples. Use `zero_division` parameter to control this behavior.\n",
            "  _warn_prf(average, modifier, msg_start, len(result))\n",
            "/usr/local/lib/python3.7/dist-packages/sklearn/metrics/_classification.py:1580: UndefinedMetricWarning: F-score is ill-defined and being set to 0.0 due to no true nor predicted samples. Use `zero_division` parameter to control this behavior.\n",
            "  _warn_prf(average, \"true nor predicted\", \"F-score is\", len(true_sum))\n"
          ]
        },
        {
          "output_type": "stream",
          "name": "stdout",
          "text": [
            "Running:  7\n",
            "(5000, 7)\n",
            "model:  KerasClassifier(\n",
            "\tmodel=<keras.engine.sequential.Sequential object at 0x7f51ee599c90>\n",
            "\tbuild_fn=None\n",
            "\twarm_start=False\n",
            "\trandom_state=None\n",
            "\toptimizer=<keras.optimizers.optimizer_v2.adam.Adam object at 0x7f51ee01ed50>\n",
            "\tloss=<keras.losses.SparseCategoricalCrossentropy object at 0x7f51fc481450>\n",
            "\tmetrics=['accuracy']\n",
            "\tbatch_size=64\n",
            "\tvalidation_batch_size=None\n",
            "\tverbose=0\n",
            "\tcallbacks=None\n",
            "\tvalidation_split=0.2\n",
            "\tshuffle=True\n",
            "\trun_eagerly=False\n",
            "\tepochs=40\n",
            "\tclass_weight=None\n",
            ")\n"
          ]
        },
        {
          "output_type": "stream",
          "name": "stderr",
          "text": [
            "WARNING:absl:Found untraced functions such as lstm_cell_111_layer_call_fn, lstm_cell_111_layer_call_and_return_conditional_losses while saving (showing 2 of 2). These functions will not be directly callable after loading.\n",
            "/usr/local/lib/python3.7/dist-packages/sklearn/metrics/_classification.py:1318: UndefinedMetricWarning: Precision is ill-defined and being set to 0.0 due to no predicted samples. Use `zero_division` parameter to control this behavior.\n",
            "  _warn_prf(average, modifier, msg_start, len(result))\n",
            "WARNING:absl:Found untraced functions such as lstm_cell_111_layer_call_fn, lstm_cell_111_layer_call_and_return_conditional_losses while saving (showing 2 of 2). These functions will not be directly callable after loading.\n",
            "WARNING:absl:Found untraced functions such as lstm_cell_111_layer_call_fn, lstm_cell_111_layer_call_and_return_conditional_losses while saving (showing 2 of 2). These functions will not be directly callable after loading.\n",
            "WARNING:absl:Found untraced functions such as lstm_cell_111_layer_call_fn, lstm_cell_111_layer_call_and_return_conditional_losses while saving (showing 2 of 2). These functions will not be directly callable after loading.\n",
            "/usr/local/lib/python3.7/dist-packages/sklearn/metrics/_classification.py:1318: UndefinedMetricWarning: Recall is ill-defined and being set to 0.0 due to no true samples. Use `zero_division` parameter to control this behavior.\n",
            "  _warn_prf(average, modifier, msg_start, len(result))\n",
            "WARNING:absl:Found untraced functions such as lstm_cell_111_layer_call_fn, lstm_cell_111_layer_call_and_return_conditional_losses while saving (showing 2 of 2). These functions will not be directly callable after loading.\n",
            "WARNING:absl:Found untraced functions such as lstm_cell_111_layer_call_fn, lstm_cell_111_layer_call_and_return_conditional_losses while saving (showing 2 of 2). These functions will not be directly callable after loading.\n",
            "WARNING:absl:Found untraced functions such as lstm_cell_111_layer_call_fn, lstm_cell_111_layer_call_and_return_conditional_losses while saving (showing 2 of 2). These functions will not be directly callable after loading.\n",
            "/usr/local/lib/python3.7/dist-packages/sklearn/metrics/_classification.py:1318: UndefinedMetricWarning: Recall is ill-defined and being set to 0.0 due to no true samples. Use `zero_division` parameter to control this behavior.\n",
            "  _warn_prf(average, modifier, msg_start, len(result))\n"
          ]
        },
        {
          "output_type": "stream",
          "name": "stdout",
          "text": [
            "Running:  8\n",
            "(5000, 8)\n",
            "model:  KerasClassifier(\n",
            "\tmodel=<keras.engine.sequential.Sequential object at 0x7f51efc687d0>\n",
            "\tbuild_fn=None\n",
            "\twarm_start=False\n",
            "\trandom_state=None\n",
            "\toptimizer=<keras.optimizers.optimizer_v2.adam.Adam object at 0x7f51f6776390>\n",
            "\tloss=<keras.losses.SparseCategoricalCrossentropy object at 0x7f51fc70ca90>\n",
            "\tmetrics=['accuracy']\n",
            "\tbatch_size=64\n",
            "\tvalidation_batch_size=None\n",
            "\tverbose=0\n",
            "\tcallbacks=None\n",
            "\tvalidation_split=0.2\n",
            "\tshuffle=True\n",
            "\trun_eagerly=False\n",
            "\tepochs=40\n",
            "\tclass_weight=None\n",
            ")\n"
          ]
        },
        {
          "output_type": "stream",
          "name": "stderr",
          "text": [
            "WARNING:absl:Found untraced functions such as lstm_cell_119_layer_call_fn, lstm_cell_119_layer_call_and_return_conditional_losses while saving (showing 2 of 2). These functions will not be directly callable after loading.\n",
            "/usr/local/lib/python3.7/dist-packages/sklearn/metrics/_classification.py:1318: UndefinedMetricWarning: Precision is ill-defined and being set to 0.0 due to no predicted samples. Use `zero_division` parameter to control this behavior.\n",
            "  _warn_prf(average, modifier, msg_start, len(result))\n",
            "WARNING:absl:Found untraced functions such as lstm_cell_119_layer_call_fn, lstm_cell_119_layer_call_and_return_conditional_losses while saving (showing 2 of 2). These functions will not be directly callable after loading.\n",
            "/usr/local/lib/python3.7/dist-packages/sklearn/metrics/_classification.py:1318: UndefinedMetricWarning: Precision is ill-defined and being set to 0.0 due to no predicted samples. Use `zero_division` parameter to control this behavior.\n",
            "  _warn_prf(average, modifier, msg_start, len(result))\n",
            "WARNING:absl:Found untraced functions such as lstm_cell_119_layer_call_fn, lstm_cell_119_layer_call_and_return_conditional_losses while saving (showing 2 of 2). These functions will not be directly callable after loading.\n",
            "/usr/local/lib/python3.7/dist-packages/sklearn/metrics/_classification.py:1318: UndefinedMetricWarning: Recall is ill-defined and being set to 0.0 due to no true samples. Use `zero_division` parameter to control this behavior.\n",
            "  _warn_prf(average, modifier, msg_start, len(result))\n"
          ]
        },
        {
          "output_type": "stream",
          "name": "stdout",
          "text": [
            "Running:  8\n",
            "(5000, 8)\n",
            "model:  KerasClassifier(\n",
            "\tmodel=<keras.engine.sequential.Sequential object at 0x7f51ff711a10>\n",
            "\tbuild_fn=None\n",
            "\twarm_start=False\n",
            "\trandom_state=None\n",
            "\toptimizer=<keras.optimizers.optimizer_v2.adam.Adam object at 0x7f51ed8f5410>\n",
            "\tloss=<keras.losses.SparseCategoricalCrossentropy object at 0x7f51f6d89d50>\n",
            "\tmetrics=['accuracy']\n",
            "\tbatch_size=64\n",
            "\tvalidation_batch_size=None\n",
            "\tverbose=0\n",
            "\tcallbacks=None\n",
            "\tvalidation_split=0.2\n",
            "\tshuffle=True\n",
            "\trun_eagerly=False\n",
            "\tepochs=40\n",
            "\tclass_weight=None\n",
            ")\n"
          ]
        },
        {
          "output_type": "stream",
          "name": "stderr",
          "text": [
            "WARNING:absl:Found untraced functions such as lstm_cell_123_layer_call_fn, lstm_cell_123_layer_call_and_return_conditional_losses while saving (showing 2 of 2). These functions will not be directly callable after loading.\n",
            "WARNING:absl:Found untraced functions such as lstm_cell_123_layer_call_fn, lstm_cell_123_layer_call_and_return_conditional_losses while saving (showing 2 of 2). These functions will not be directly callable after loading.\n",
            "WARNING:absl:Found untraced functions such as lstm_cell_123_layer_call_fn, lstm_cell_123_layer_call_and_return_conditional_losses while saving (showing 2 of 2). These functions will not be directly callable after loading.\n",
            "WARNING:absl:Found untraced functions such as lstm_cell_123_layer_call_fn, lstm_cell_123_layer_call_and_return_conditional_losses while saving (showing 2 of 2). These functions will not be directly callable after loading.\n",
            "/usr/local/lib/python3.7/dist-packages/sklearn/metrics/_classification.py:1318: UndefinedMetricWarning: Recall is ill-defined and being set to 0.0 due to no true samples. Use `zero_division` parameter to control this behavior.\n",
            "  _warn_prf(average, modifier, msg_start, len(result))\n",
            "WARNING:absl:Found untraced functions such as lstm_cell_123_layer_call_fn, lstm_cell_123_layer_call_and_return_conditional_losses while saving (showing 2 of 2). These functions will not be directly callable after loading.\n",
            "WARNING:absl:Found untraced functions such as lstm_cell_123_layer_call_fn, lstm_cell_123_layer_call_and_return_conditional_losses while saving (showing 2 of 2). These functions will not be directly callable after loading.\n",
            "WARNING:absl:Found untraced functions such as lstm_cell_123_layer_call_fn, lstm_cell_123_layer_call_and_return_conditional_losses while saving (showing 2 of 2). These functions will not be directly callable after loading.\n",
            "/usr/local/lib/python3.7/dist-packages/sklearn/metrics/_classification.py:1318: UndefinedMetricWarning: Recall is ill-defined and being set to 0.0 due to no true samples. Use `zero_division` parameter to control this behavior.\n",
            "  _warn_prf(average, modifier, msg_start, len(result))\n"
          ]
        },
        {
          "output_type": "stream",
          "name": "stdout",
          "text": [
            "Running:  9\n",
            "(5000, 9)\n",
            "model:  KerasClassifier(\n",
            "\tmodel=<keras.engine.sequential.Sequential object at 0x7f51edbc2f90>\n",
            "\tbuild_fn=None\n",
            "\twarm_start=False\n",
            "\trandom_state=None\n",
            "\toptimizer=<keras.optimizers.optimizer_v2.adam.Adam object at 0x7f51f9db7910>\n",
            "\tloss=<keras.losses.SparseCategoricalCrossentropy object at 0x7f51edf61e90>\n",
            "\tmetrics=['accuracy']\n",
            "\tbatch_size=64\n",
            "\tvalidation_batch_size=None\n",
            "\tverbose=0\n",
            "\tcallbacks=None\n",
            "\tvalidation_split=0.2\n",
            "\tshuffle=True\n",
            "\trun_eagerly=False\n",
            "\tepochs=40\n",
            "\tclass_weight=None\n",
            ")\n"
          ]
        },
        {
          "output_type": "stream",
          "name": "stderr",
          "text": [
            "WARNING:absl:Found untraced functions such as lstm_cell_131_layer_call_fn, lstm_cell_131_layer_call_and_return_conditional_losses while saving (showing 2 of 2). These functions will not be directly callable after loading.\n",
            "/usr/local/lib/python3.7/dist-packages/sklearn/metrics/_classification.py:1318: UndefinedMetricWarning: Precision is ill-defined and being set to 0.0 due to no predicted samples. Use `zero_division` parameter to control this behavior.\n",
            "  _warn_prf(average, modifier, msg_start, len(result))\n",
            "WARNING:absl:Found untraced functions such as lstm_cell_131_layer_call_fn, lstm_cell_131_layer_call_and_return_conditional_losses while saving (showing 2 of 2). These functions will not be directly callable after loading.\n",
            "/usr/local/lib/python3.7/dist-packages/sklearn/metrics/_classification.py:1318: UndefinedMetricWarning: Precision is ill-defined and being set to 0.0 due to no predicted samples. Use `zero_division` parameter to control this behavior.\n",
            "  _warn_prf(average, modifier, msg_start, len(result))\n",
            "WARNING:absl:Found untraced functions such as lstm_cell_131_layer_call_fn, lstm_cell_131_layer_call_and_return_conditional_losses while saving (showing 2 of 2). These functions will not be directly callable after loading.\n",
            "/usr/local/lib/python3.7/dist-packages/sklearn/metrics/_classification.py:1318: UndefinedMetricWarning: Recall is ill-defined and being set to 0.0 due to no true samples. Use `zero_division` parameter to control this behavior.\n",
            "  _warn_prf(average, modifier, msg_start, len(result))\n"
          ]
        },
        {
          "output_type": "stream",
          "name": "stdout",
          "text": [
            "Running:  9\n",
            "(5000, 9)\n",
            "model:  KerasClassifier(\n",
            "\tmodel=<keras.engine.sequential.Sequential object at 0x7f51f6730990>\n",
            "\tbuild_fn=None\n",
            "\twarm_start=False\n",
            "\trandom_state=None\n",
            "\toptimizer=<keras.optimizers.optimizer_v2.adam.Adam object at 0x7f51ef0a1a90>\n",
            "\tloss=<keras.losses.SparseCategoricalCrossentropy object at 0x7f51ee1c7cd0>\n",
            "\tmetrics=['accuracy']\n",
            "\tbatch_size=64\n",
            "\tvalidation_batch_size=None\n",
            "\tverbose=0\n",
            "\tcallbacks=None\n",
            "\tvalidation_split=0.2\n",
            "\tshuffle=True\n",
            "\trun_eagerly=False\n",
            "\tepochs=40\n",
            "\tclass_weight=None\n",
            ")\n"
          ]
        },
        {
          "output_type": "stream",
          "name": "stderr",
          "text": [
            "WARNING:absl:Found untraced functions such as lstm_cell_135_layer_call_fn, lstm_cell_135_layer_call_and_return_conditional_losses while saving (showing 2 of 2). These functions will not be directly callable after loading.\n",
            "/usr/local/lib/python3.7/dist-packages/sklearn/metrics/_classification.py:1318: UndefinedMetricWarning: Precision is ill-defined and being set to 0.0 due to no predicted samples. Use `zero_division` parameter to control this behavior.\n",
            "  _warn_prf(average, modifier, msg_start, len(result))\n",
            "WARNING:absl:Found untraced functions such as lstm_cell_135_layer_call_fn, lstm_cell_135_layer_call_and_return_conditional_losses while saving (showing 2 of 2). These functions will not be directly callable after loading.\n",
            "WARNING:absl:Found untraced functions such as lstm_cell_135_layer_call_fn, lstm_cell_135_layer_call_and_return_conditional_losses while saving (showing 2 of 2). These functions will not be directly callable after loading.\n",
            "WARNING:absl:Found untraced functions such as lstm_cell_135_layer_call_fn, lstm_cell_135_layer_call_and_return_conditional_losses while saving (showing 2 of 2). These functions will not be directly callable after loading.\n",
            "/usr/local/lib/python3.7/dist-packages/sklearn/metrics/_classification.py:1318: UndefinedMetricWarning: Recall is ill-defined and being set to 0.0 due to no true samples. Use `zero_division` parameter to control this behavior.\n",
            "  _warn_prf(average, modifier, msg_start, len(result))\n",
            "WARNING:absl:Found untraced functions such as lstm_cell_135_layer_call_fn, lstm_cell_135_layer_call_and_return_conditional_losses while saving (showing 2 of 2). These functions will not be directly callable after loading.\n",
            "WARNING:absl:Found untraced functions such as lstm_cell_135_layer_call_fn, lstm_cell_135_layer_call_and_return_conditional_losses while saving (showing 2 of 2). These functions will not be directly callable after loading.\n",
            "WARNING:absl:Found untraced functions such as lstm_cell_135_layer_call_fn, lstm_cell_135_layer_call_and_return_conditional_losses while saving (showing 2 of 2). These functions will not be directly callable after loading.\n",
            "/usr/local/lib/python3.7/dist-packages/sklearn/metrics/_classification.py:1318: UndefinedMetricWarning: Recall is ill-defined and being set to 0.0 due to no true samples. Use `zero_division` parameter to control this behavior.\n",
            "  _warn_prf(average, modifier, msg_start, len(result))\n"
          ]
        },
        {
          "output_type": "stream",
          "name": "stdout",
          "text": [
            "Running:  10\n",
            "(5000, 10)\n",
            "model:  KerasClassifier(\n",
            "\tmodel=<keras.engine.sequential.Sequential object at 0x7f5204fbbf90>\n",
            "\tbuild_fn=None\n",
            "\twarm_start=False\n",
            "\trandom_state=None\n",
            "\toptimizer=<keras.optimizers.optimizer_v2.adam.Adam object at 0x7f51faa239d0>\n",
            "\tloss=<keras.losses.SparseCategoricalCrossentropy object at 0x7f51ef08c8d0>\n",
            "\tmetrics=['accuracy']\n",
            "\tbatch_size=64\n",
            "\tvalidation_batch_size=None\n",
            "\tverbose=0\n",
            "\tcallbacks=None\n",
            "\tvalidation_split=0.2\n",
            "\tshuffle=True\n",
            "\trun_eagerly=False\n",
            "\tepochs=40\n",
            "\tclass_weight=None\n",
            ")\n"
          ]
        },
        {
          "output_type": "stream",
          "name": "stderr",
          "text": [
            "WARNING:absl:Found untraced functions such as lstm_cell_143_layer_call_fn, lstm_cell_143_layer_call_and_return_conditional_losses while saving (showing 2 of 2). These functions will not be directly callable after loading.\n",
            "/usr/local/lib/python3.7/dist-packages/sklearn/metrics/_classification.py:1318: UndefinedMetricWarning: Precision is ill-defined and being set to 0.0 due to no predicted samples. Use `zero_division` parameter to control this behavior.\n",
            "  _warn_prf(average, modifier, msg_start, len(result))\n",
            "WARNING:absl:Found untraced functions such as lstm_cell_143_layer_call_fn, lstm_cell_143_layer_call_and_return_conditional_losses while saving (showing 2 of 2). These functions will not be directly callable after loading.\n",
            "/usr/local/lib/python3.7/dist-packages/sklearn/metrics/_classification.py:1318: UndefinedMetricWarning: Precision is ill-defined and being set to 0.0 due to no predicted samples. Use `zero_division` parameter to control this behavior.\n",
            "  _warn_prf(average, modifier, msg_start, len(result))\n",
            "WARNING:absl:Found untraced functions such as lstm_cell_143_layer_call_fn, lstm_cell_143_layer_call_and_return_conditional_losses while saving (showing 2 of 2). These functions will not be directly callable after loading.\n",
            "/usr/local/lib/python3.7/dist-packages/sklearn/metrics/_classification.py:1318: UndefinedMetricWarning: Recall is ill-defined and being set to 0.0 due to no true samples. Use `zero_division` parameter to control this behavior.\n",
            "  _warn_prf(average, modifier, msg_start, len(result))\n"
          ]
        },
        {
          "output_type": "stream",
          "name": "stdout",
          "text": [
            "Running:  10\n",
            "(5000, 10)\n",
            "model:  KerasClassifier(\n",
            "\tmodel=<keras.engine.sequential.Sequential object at 0x7f5204b787d0>\n",
            "\tbuild_fn=None\n",
            "\twarm_start=False\n",
            "\trandom_state=None\n",
            "\toptimizer=<keras.optimizers.optimizer_v2.adam.Adam object at 0x7f51f79cab90>\n",
            "\tloss=<keras.losses.SparseCategoricalCrossentropy object at 0x7f51edcea4d0>\n",
            "\tmetrics=['accuracy']\n",
            "\tbatch_size=64\n",
            "\tvalidation_batch_size=None\n",
            "\tverbose=0\n",
            "\tcallbacks=None\n",
            "\tvalidation_split=0.2\n",
            "\tshuffle=True\n",
            "\trun_eagerly=False\n",
            "\tepochs=40\n",
            "\tclass_weight=None\n",
            ")\n"
          ]
        },
        {
          "output_type": "stream",
          "name": "stderr",
          "text": [
            "WARNING:absl:Found untraced functions such as lstm_cell_147_layer_call_fn, lstm_cell_147_layer_call_and_return_conditional_losses while saving (showing 2 of 2). These functions will not be directly callable after loading.\n",
            "WARNING:absl:Found untraced functions such as lstm_cell_147_layer_call_fn, lstm_cell_147_layer_call_and_return_conditional_losses while saving (showing 2 of 2). These functions will not be directly callable after loading.\n",
            "WARNING:absl:Found untraced functions such as lstm_cell_147_layer_call_fn, lstm_cell_147_layer_call_and_return_conditional_losses while saving (showing 2 of 2). These functions will not be directly callable after loading.\n",
            "WARNING:absl:Found untraced functions such as lstm_cell_147_layer_call_fn, lstm_cell_147_layer_call_and_return_conditional_losses while saving (showing 2 of 2). These functions will not be directly callable after loading.\n",
            "/usr/local/lib/python3.7/dist-packages/sklearn/metrics/_classification.py:1318: UndefinedMetricWarning: Recall is ill-defined and being set to 0.0 due to no true samples. Use `zero_division` parameter to control this behavior.\n",
            "  _warn_prf(average, modifier, msg_start, len(result))\n",
            "WARNING:absl:Found untraced functions such as lstm_cell_147_layer_call_fn, lstm_cell_147_layer_call_and_return_conditional_losses while saving (showing 2 of 2). These functions will not be directly callable after loading.\n",
            "WARNING:absl:Found untraced functions such as lstm_cell_147_layer_call_fn, lstm_cell_147_layer_call_and_return_conditional_losses while saving (showing 2 of 2). These functions will not be directly callable after loading.\n",
            "WARNING:absl:Found untraced functions such as lstm_cell_147_layer_call_fn, lstm_cell_147_layer_call_and_return_conditional_losses while saving (showing 2 of 2). These functions will not be directly callable after loading.\n",
            "/usr/local/lib/python3.7/dist-packages/sklearn/metrics/_classification.py:1318: UndefinedMetricWarning: Recall is ill-defined and being set to 0.0 due to no true samples. Use `zero_division` parameter to control this behavior.\n",
            "  _warn_prf(average, modifier, msg_start, len(result))\n"
          ]
        },
        {
          "output_type": "stream",
          "name": "stdout",
          "text": [
            "Running:  11\n",
            "(5000, 11)\n",
            "model:  KerasClassifier(\n",
            "\tmodel=<keras.engine.sequential.Sequential object at 0x7f51f9c2e2d0>\n",
            "\tbuild_fn=None\n",
            "\twarm_start=False\n",
            "\trandom_state=None\n",
            "\toptimizer=<keras.optimizers.optimizer_v2.adam.Adam object at 0x7f51f002db50>\n",
            "\tloss=<keras.losses.SparseCategoricalCrossentropy object at 0x7f51f03ee990>\n",
            "\tmetrics=['accuracy']\n",
            "\tbatch_size=64\n",
            "\tvalidation_batch_size=None\n",
            "\tverbose=0\n",
            "\tcallbacks=None\n",
            "\tvalidation_split=0.2\n",
            "\tshuffle=True\n",
            "\trun_eagerly=False\n",
            "\tepochs=40\n",
            "\tclass_weight=None\n",
            ")\n"
          ]
        },
        {
          "output_type": "stream",
          "name": "stderr",
          "text": [
            "WARNING:absl:Found untraced functions such as lstm_cell_155_layer_call_fn, lstm_cell_155_layer_call_and_return_conditional_losses while saving (showing 2 of 2). These functions will not be directly callable after loading.\n",
            "WARNING:absl:Found untraced functions such as lstm_cell_155_layer_call_fn, lstm_cell_155_layer_call_and_return_conditional_losses while saving (showing 2 of 2). These functions will not be directly callable after loading.\n",
            "/usr/local/lib/python3.7/dist-packages/sklearn/metrics/_classification.py:1318: UndefinedMetricWarning: Precision is ill-defined and being set to 0.0 due to no predicted samples. Use `zero_division` parameter to control this behavior.\n",
            "  _warn_prf(average, modifier, msg_start, len(result))\n",
            "WARNING:absl:Found untraced functions such as lstm_cell_155_layer_call_fn, lstm_cell_155_layer_call_and_return_conditional_losses while saving (showing 2 of 2). These functions will not be directly callable after loading.\n",
            "/usr/local/lib/python3.7/dist-packages/sklearn/metrics/_classification.py:1318: UndefinedMetricWarning: Recall is ill-defined and being set to 0.0 due to no true samples. Use `zero_division` parameter to control this behavior.\n",
            "  _warn_prf(average, modifier, msg_start, len(result))\n"
          ]
        },
        {
          "output_type": "stream",
          "name": "stdout",
          "text": [
            "Running:  11\n",
            "(5000, 11)\n",
            "model:  KerasClassifier(\n",
            "\tmodel=<keras.engine.sequential.Sequential object at 0x7f51fc596d10>\n",
            "\tbuild_fn=None\n",
            "\twarm_start=False\n",
            "\trandom_state=None\n",
            "\toptimizer=<keras.optimizers.optimizer_v2.adam.Adam object at 0x7f51ed862990>\n",
            "\tloss=<keras.losses.SparseCategoricalCrossentropy object at 0x7f51edda3090>\n",
            "\tmetrics=['accuracy']\n",
            "\tbatch_size=64\n",
            "\tvalidation_batch_size=None\n",
            "\tverbose=0\n",
            "\tcallbacks=None\n",
            "\tvalidation_split=0.2\n",
            "\tshuffle=True\n",
            "\trun_eagerly=False\n",
            "\tepochs=40\n",
            "\tclass_weight=None\n",
            ")\n"
          ]
        },
        {
          "output_type": "stream",
          "name": "stderr",
          "text": [
            "WARNING:absl:Found untraced functions such as lstm_cell_159_layer_call_fn, lstm_cell_159_layer_call_and_return_conditional_losses while saving (showing 2 of 2). These functions will not be directly callable after loading.\n",
            "/usr/local/lib/python3.7/dist-packages/sklearn/metrics/_classification.py:1318: UndefinedMetricWarning: Precision is ill-defined and being set to 0.0 due to no predicted samples. Use `zero_division` parameter to control this behavior.\n",
            "  _warn_prf(average, modifier, msg_start, len(result))\n",
            "WARNING:absl:Found untraced functions such as lstm_cell_159_layer_call_fn, lstm_cell_159_layer_call_and_return_conditional_losses while saving (showing 2 of 2). These functions will not be directly callable after loading.\n",
            "WARNING:absl:Found untraced functions such as lstm_cell_159_layer_call_fn, lstm_cell_159_layer_call_and_return_conditional_losses while saving (showing 2 of 2). These functions will not be directly callable after loading.\n",
            "WARNING:absl:Found untraced functions such as lstm_cell_159_layer_call_fn, lstm_cell_159_layer_call_and_return_conditional_losses while saving (showing 2 of 2). These functions will not be directly callable after loading.\n",
            "/usr/local/lib/python3.7/dist-packages/sklearn/metrics/_classification.py:1318: UndefinedMetricWarning: Recall is ill-defined and being set to 0.0 due to no true samples. Use `zero_division` parameter to control this behavior.\n",
            "  _warn_prf(average, modifier, msg_start, len(result))\n",
            "WARNING:absl:Found untraced functions such as lstm_cell_159_layer_call_fn, lstm_cell_159_layer_call_and_return_conditional_losses while saving (showing 2 of 2). These functions will not be directly callable after loading.\n",
            "WARNING:absl:Found untraced functions such as lstm_cell_159_layer_call_fn, lstm_cell_159_layer_call_and_return_conditional_losses while saving (showing 2 of 2). These functions will not be directly callable after loading.\n",
            "WARNING:absl:Found untraced functions such as lstm_cell_159_layer_call_fn, lstm_cell_159_layer_call_and_return_conditional_losses while saving (showing 2 of 2). These functions will not be directly callable after loading.\n",
            "/usr/local/lib/python3.7/dist-packages/sklearn/metrics/_classification.py:1318: UndefinedMetricWarning: Recall is ill-defined and being set to 0.0 due to no true samples. Use `zero_division` parameter to control this behavior.\n",
            "  _warn_prf(average, modifier, msg_start, len(result))\n"
          ]
        },
        {
          "output_type": "stream",
          "name": "stdout",
          "text": [
            "Running:  12\n",
            "(5000, 12)\n",
            "model:  KerasClassifier(\n",
            "\tmodel=<keras.engine.sequential.Sequential object at 0x7f51f03ee990>\n",
            "\tbuild_fn=None\n",
            "\twarm_start=False\n",
            "\trandom_state=None\n",
            "\toptimizer=<keras.optimizers.optimizer_v2.adam.Adam object at 0x7f51faad47d0>\n",
            "\tloss=<keras.losses.SparseCategoricalCrossentropy object at 0x7f51f7c9c510>\n",
            "\tmetrics=['accuracy']\n",
            "\tbatch_size=64\n",
            "\tvalidation_batch_size=None\n",
            "\tverbose=0\n",
            "\tcallbacks=None\n",
            "\tvalidation_split=0.2\n",
            "\tshuffle=True\n",
            "\trun_eagerly=False\n",
            "\tepochs=40\n",
            "\tclass_weight=None\n",
            ")\n"
          ]
        },
        {
          "output_type": "stream",
          "name": "stderr",
          "text": [
            "WARNING:absl:Found untraced functions such as lstm_cell_167_layer_call_fn, lstm_cell_167_layer_call_and_return_conditional_losses while saving (showing 2 of 2). These functions will not be directly callable after loading.\n",
            "/usr/local/lib/python3.7/dist-packages/sklearn/metrics/_classification.py:1318: UndefinedMetricWarning: Precision is ill-defined and being set to 0.0 due to no predicted samples. Use `zero_division` parameter to control this behavior.\n",
            "  _warn_prf(average, modifier, msg_start, len(result))\n",
            "WARNING:absl:Found untraced functions such as lstm_cell_167_layer_call_fn, lstm_cell_167_layer_call_and_return_conditional_losses while saving (showing 2 of 2). These functions will not be directly callable after loading.\n",
            "/usr/local/lib/python3.7/dist-packages/sklearn/metrics/_classification.py:1318: UndefinedMetricWarning: Precision is ill-defined and being set to 0.0 due to no predicted samples. Use `zero_division` parameter to control this behavior.\n",
            "  _warn_prf(average, modifier, msg_start, len(result))\n",
            "WARNING:absl:Found untraced functions such as lstm_cell_167_layer_call_fn, lstm_cell_167_layer_call_and_return_conditional_losses while saving (showing 2 of 2). These functions will not be directly callable after loading.\n",
            "/usr/local/lib/python3.7/dist-packages/sklearn/metrics/_classification.py:1318: UndefinedMetricWarning: Precision is ill-defined and being set to 0.0 due to no predicted samples. Use `zero_division` parameter to control this behavior.\n",
            "  _warn_prf(average, modifier, msg_start, len(result))\n",
            "/usr/local/lib/python3.7/dist-packages/sklearn/metrics/_classification.py:1318: UndefinedMetricWarning: Recall is ill-defined and being set to 0.0 due to no true samples. Use `zero_division` parameter to control this behavior.\n",
            "  _warn_prf(average, modifier, msg_start, len(result))\n",
            "/usr/local/lib/python3.7/dist-packages/sklearn/metrics/_classification.py:1580: UndefinedMetricWarning: F-score is ill-defined and being set to 0.0 due to no true nor predicted samples. Use `zero_division` parameter to control this behavior.\n",
            "  _warn_prf(average, \"true nor predicted\", \"F-score is\", len(true_sum))\n"
          ]
        },
        {
          "output_type": "stream",
          "name": "stdout",
          "text": [
            "Running:  12\n",
            "(5000, 12)\n",
            "model:  KerasClassifier(\n",
            "\tmodel=<keras.engine.sequential.Sequential object at 0x7f51f5cef7d0>\n",
            "\tbuild_fn=None\n",
            "\twarm_start=False\n",
            "\trandom_state=None\n",
            "\toptimizer=<keras.optimizers.optimizer_v2.adam.Adam object at 0x7f51fece6c50>\n",
            "\tloss=<keras.losses.SparseCategoricalCrossentropy object at 0x7f51f3fffd50>\n",
            "\tmetrics=['accuracy']\n",
            "\tbatch_size=64\n",
            "\tvalidation_batch_size=None\n",
            "\tverbose=0\n",
            "\tcallbacks=None\n",
            "\tvalidation_split=0.2\n",
            "\tshuffle=True\n",
            "\trun_eagerly=False\n",
            "\tepochs=40\n",
            "\tclass_weight=None\n",
            ")\n"
          ]
        },
        {
          "output_type": "stream",
          "name": "stderr",
          "text": [
            "WARNING:absl:Found untraced functions such as lstm_cell_171_layer_call_fn, lstm_cell_171_layer_call_and_return_conditional_losses while saving (showing 2 of 2). These functions will not be directly callable after loading.\n",
            "WARNING:absl:Found untraced functions such as lstm_cell_171_layer_call_fn, lstm_cell_171_layer_call_and_return_conditional_losses while saving (showing 2 of 2). These functions will not be directly callable after loading.\n",
            "WARNING:absl:Found untraced functions such as lstm_cell_171_layer_call_fn, lstm_cell_171_layer_call_and_return_conditional_losses while saving (showing 2 of 2). These functions will not be directly callable after loading.\n",
            "WARNING:absl:Found untraced functions such as lstm_cell_171_layer_call_fn, lstm_cell_171_layer_call_and_return_conditional_losses while saving (showing 2 of 2). These functions will not be directly callable after loading.\n",
            "/usr/local/lib/python3.7/dist-packages/sklearn/metrics/_classification.py:1318: UndefinedMetricWarning: Recall is ill-defined and being set to 0.0 due to no true samples. Use `zero_division` parameter to control this behavior.\n",
            "  _warn_prf(average, modifier, msg_start, len(result))\n",
            "WARNING:absl:Found untraced functions such as lstm_cell_171_layer_call_fn, lstm_cell_171_layer_call_and_return_conditional_losses while saving (showing 2 of 2). These functions will not be directly callable after loading.\n",
            "WARNING:absl:Found untraced functions such as lstm_cell_171_layer_call_fn, lstm_cell_171_layer_call_and_return_conditional_losses while saving (showing 2 of 2). These functions will not be directly callable after loading.\n",
            "WARNING:absl:Found untraced functions such as lstm_cell_171_layer_call_fn, lstm_cell_171_layer_call_and_return_conditional_losses while saving (showing 2 of 2). These functions will not be directly callable after loading.\n",
            "/usr/local/lib/python3.7/dist-packages/sklearn/metrics/_classification.py:1318: UndefinedMetricWarning: Recall is ill-defined and being set to 0.0 due to no true samples. Use `zero_division` parameter to control this behavior.\n",
            "  _warn_prf(average, modifier, msg_start, len(result))\n"
          ]
        },
        {
          "output_type": "stream",
          "name": "stdout",
          "text": [
            "Running:  13\n",
            "(5000, 13)\n",
            "model:  KerasClassifier(\n",
            "\tmodel=<keras.engine.sequential.Sequential object at 0x7f51fe6e0690>\n",
            "\tbuild_fn=None\n",
            "\twarm_start=False\n",
            "\trandom_state=None\n",
            "\toptimizer=<keras.optimizers.optimizer_v2.adam.Adam object at 0x7f51f3f38450>\n",
            "\tloss=<keras.losses.SparseCategoricalCrossentropy object at 0x7f51fcb6c750>\n",
            "\tmetrics=['accuracy']\n",
            "\tbatch_size=64\n",
            "\tvalidation_batch_size=None\n",
            "\tverbose=0\n",
            "\tcallbacks=None\n",
            "\tvalidation_split=0.2\n",
            "\tshuffle=True\n",
            "\trun_eagerly=False\n",
            "\tepochs=40\n",
            "\tclass_weight=None\n",
            ")\n"
          ]
        },
        {
          "output_type": "stream",
          "name": "stderr",
          "text": [
            "WARNING:absl:Found untraced functions such as lstm_cell_179_layer_call_fn, lstm_cell_179_layer_call_and_return_conditional_losses while saving (showing 2 of 2). These functions will not be directly callable after loading.\n",
            "/usr/local/lib/python3.7/dist-packages/sklearn/metrics/_classification.py:1318: UndefinedMetricWarning: Precision is ill-defined and being set to 0.0 due to no predicted samples. Use `zero_division` parameter to control this behavior.\n",
            "  _warn_prf(average, modifier, msg_start, len(result))\n",
            "WARNING:absl:Found untraced functions such as lstm_cell_179_layer_call_fn, lstm_cell_179_layer_call_and_return_conditional_losses while saving (showing 2 of 2). These functions will not be directly callable after loading.\n",
            "/usr/local/lib/python3.7/dist-packages/sklearn/metrics/_classification.py:1318: UndefinedMetricWarning: Precision is ill-defined and being set to 0.0 due to no predicted samples. Use `zero_division` parameter to control this behavior.\n",
            "  _warn_prf(average, modifier, msg_start, len(result))\n",
            "WARNING:absl:Found untraced functions such as lstm_cell_179_layer_call_fn, lstm_cell_179_layer_call_and_return_conditional_losses while saving (showing 2 of 2). These functions will not be directly callable after loading.\n",
            "/usr/local/lib/python3.7/dist-packages/sklearn/metrics/_classification.py:1318: UndefinedMetricWarning: Recall is ill-defined and being set to 0.0 due to no true samples. Use `zero_division` parameter to control this behavior.\n",
            "  _warn_prf(average, modifier, msg_start, len(result))\n"
          ]
        },
        {
          "output_type": "stream",
          "name": "stdout",
          "text": [
            "Running:  13\n",
            "(5000, 13)\n",
            "model:  KerasClassifier(\n",
            "\tmodel=<keras.engine.sequential.Sequential object at 0x7f51f40c6150>\n",
            "\tbuild_fn=None\n",
            "\twarm_start=False\n",
            "\trandom_state=None\n",
            "\toptimizer=<keras.optimizers.optimizer_v2.adam.Adam object at 0x7f51fc6e9c10>\n",
            "\tloss=<keras.losses.SparseCategoricalCrossentropy object at 0x7f51fc6e9bd0>\n",
            "\tmetrics=['accuracy']\n",
            "\tbatch_size=64\n",
            "\tvalidation_batch_size=None\n",
            "\tverbose=0\n",
            "\tcallbacks=None\n",
            "\tvalidation_split=0.2\n",
            "\tshuffle=True\n",
            "\trun_eagerly=False\n",
            "\tepochs=40\n",
            "\tclass_weight=None\n",
            ")\n"
          ]
        },
        {
          "output_type": "stream",
          "name": "stderr",
          "text": [
            "WARNING:absl:Found untraced functions such as lstm_cell_183_layer_call_fn, lstm_cell_183_layer_call_and_return_conditional_losses while saving (showing 2 of 2). These functions will not be directly callable after loading.\n",
            "/usr/local/lib/python3.7/dist-packages/sklearn/metrics/_classification.py:1318: UndefinedMetricWarning: Precision is ill-defined and being set to 0.0 due to no predicted samples. Use `zero_division` parameter to control this behavior.\n",
            "  _warn_prf(average, modifier, msg_start, len(result))\n",
            "WARNING:absl:Found untraced functions such as lstm_cell_183_layer_call_fn, lstm_cell_183_layer_call_and_return_conditional_losses while saving (showing 2 of 2). These functions will not be directly callable after loading.\n",
            "WARNING:absl:Found untraced functions such as lstm_cell_183_layer_call_fn, lstm_cell_183_layer_call_and_return_conditional_losses while saving (showing 2 of 2). These functions will not be directly callable after loading.\n",
            "WARNING:absl:Found untraced functions such as lstm_cell_183_layer_call_fn, lstm_cell_183_layer_call_and_return_conditional_losses while saving (showing 2 of 2). These functions will not be directly callable after loading.\n",
            "/usr/local/lib/python3.7/dist-packages/sklearn/metrics/_classification.py:1318: UndefinedMetricWarning: Recall is ill-defined and being set to 0.0 due to no true samples. Use `zero_division` parameter to control this behavior.\n",
            "  _warn_prf(average, modifier, msg_start, len(result))\n",
            "WARNING:absl:Found untraced functions such as lstm_cell_183_layer_call_fn, lstm_cell_183_layer_call_and_return_conditional_losses while saving (showing 2 of 2). These functions will not be directly callable after loading.\n",
            "WARNING:absl:Found untraced functions such as lstm_cell_183_layer_call_fn, lstm_cell_183_layer_call_and_return_conditional_losses while saving (showing 2 of 2). These functions will not be directly callable after loading.\n",
            "WARNING:absl:Found untraced functions such as lstm_cell_183_layer_call_fn, lstm_cell_183_layer_call_and_return_conditional_losses while saving (showing 2 of 2). These functions will not be directly callable after loading.\n",
            "/usr/local/lib/python3.7/dist-packages/sklearn/metrics/_classification.py:1318: UndefinedMetricWarning: Recall is ill-defined and being set to 0.0 due to no true samples. Use `zero_division` parameter to control this behavior.\n",
            "  _warn_prf(average, modifier, msg_start, len(result))\n"
          ]
        },
        {
          "output_type": "stream",
          "name": "stdout",
          "text": [
            "Running:  14\n",
            "(5000, 14)\n",
            "model:  KerasClassifier(\n",
            "\tmodel=<keras.engine.sequential.Sequential object at 0x7f51f9b03f10>\n",
            "\tbuild_fn=None\n",
            "\twarm_start=False\n",
            "\trandom_state=None\n",
            "\toptimizer=<keras.optimizers.optimizer_v2.adam.Adam object at 0x7f51fa443d90>\n",
            "\tloss=<keras.losses.SparseCategoricalCrossentropy object at 0x7f51edcd1f90>\n",
            "\tmetrics=['accuracy']\n",
            "\tbatch_size=64\n",
            "\tvalidation_batch_size=None\n",
            "\tverbose=0\n",
            "\tcallbacks=None\n",
            "\tvalidation_split=0.2\n",
            "\tshuffle=True\n",
            "\trun_eagerly=False\n",
            "\tepochs=40\n",
            "\tclass_weight=None\n",
            ")\n"
          ]
        },
        {
          "output_type": "stream",
          "name": "stderr",
          "text": [
            "WARNING:absl:Found untraced functions such as lstm_cell_191_layer_call_fn, lstm_cell_191_layer_call_and_return_conditional_losses while saving (showing 2 of 2). These functions will not be directly callable after loading.\n",
            "/usr/local/lib/python3.7/dist-packages/sklearn/metrics/_classification.py:1318: UndefinedMetricWarning: Precision is ill-defined and being set to 0.0 due to no predicted samples. Use `zero_division` parameter to control this behavior.\n",
            "  _warn_prf(average, modifier, msg_start, len(result))\n",
            "WARNING:absl:Found untraced functions such as lstm_cell_191_layer_call_fn, lstm_cell_191_layer_call_and_return_conditional_losses while saving (showing 2 of 2). These functions will not be directly callable after loading.\n",
            "/usr/local/lib/python3.7/dist-packages/sklearn/metrics/_classification.py:1318: UndefinedMetricWarning: Precision is ill-defined and being set to 0.0 due to no predicted samples. Use `zero_division` parameter to control this behavior.\n",
            "  _warn_prf(average, modifier, msg_start, len(result))\n",
            "WARNING:absl:Found untraced functions such as lstm_cell_191_layer_call_fn, lstm_cell_191_layer_call_and_return_conditional_losses while saving (showing 2 of 2). These functions will not be directly callable after loading.\n",
            "/usr/local/lib/python3.7/dist-packages/sklearn/metrics/_classification.py:1318: UndefinedMetricWarning: Recall is ill-defined and being set to 0.0 due to no true samples. Use `zero_division` parameter to control this behavior.\n",
            "  _warn_prf(average, modifier, msg_start, len(result))\n"
          ]
        },
        {
          "output_type": "stream",
          "name": "stdout",
          "text": [
            "Running:  14\n",
            "(5000, 14)\n",
            "model:  KerasClassifier(\n",
            "\tmodel=<keras.engine.sequential.Sequential object at 0x7f51fc73e4d0>\n",
            "\tbuild_fn=None\n",
            "\twarm_start=False\n",
            "\trandom_state=None\n",
            "\toptimizer=<keras.optimizers.optimizer_v2.adam.Adam object at 0x7f51ef0b5f10>\n",
            "\tloss=<keras.losses.SparseCategoricalCrossentropy object at 0x7f51f696d350>\n",
            "\tmetrics=['accuracy']\n",
            "\tbatch_size=64\n",
            "\tvalidation_batch_size=None\n",
            "\tverbose=0\n",
            "\tcallbacks=None\n",
            "\tvalidation_split=0.2\n",
            "\tshuffle=True\n",
            "\trun_eagerly=False\n",
            "\tepochs=40\n",
            "\tclass_weight=None\n",
            ")\n"
          ]
        },
        {
          "output_type": "stream",
          "name": "stderr",
          "text": [
            "WARNING:absl:Found untraced functions such as lstm_cell_195_layer_call_fn, lstm_cell_195_layer_call_and_return_conditional_losses while saving (showing 2 of 2). These functions will not be directly callable after loading.\n",
            "WARNING:absl:Found untraced functions such as lstm_cell_195_layer_call_fn, lstm_cell_195_layer_call_and_return_conditional_losses while saving (showing 2 of 2). These functions will not be directly callable after loading.\n",
            "WARNING:absl:Found untraced functions such as lstm_cell_195_layer_call_fn, lstm_cell_195_layer_call_and_return_conditional_losses while saving (showing 2 of 2). These functions will not be directly callable after loading.\n",
            "WARNING:absl:Found untraced functions such as lstm_cell_195_layer_call_fn, lstm_cell_195_layer_call_and_return_conditional_losses while saving (showing 2 of 2). These functions will not be directly callable after loading.\n",
            "/usr/local/lib/python3.7/dist-packages/sklearn/metrics/_classification.py:1318: UndefinedMetricWarning: Recall is ill-defined and being set to 0.0 due to no true samples. Use `zero_division` parameter to control this behavior.\n",
            "  _warn_prf(average, modifier, msg_start, len(result))\n",
            "WARNING:absl:Found untraced functions such as lstm_cell_195_layer_call_fn, lstm_cell_195_layer_call_and_return_conditional_losses while saving (showing 2 of 2). These functions will not be directly callable after loading.\n",
            "WARNING:absl:Found untraced functions such as lstm_cell_195_layer_call_fn, lstm_cell_195_layer_call_and_return_conditional_losses while saving (showing 2 of 2). These functions will not be directly callable after loading.\n",
            "WARNING:absl:Found untraced functions such as lstm_cell_195_layer_call_fn, lstm_cell_195_layer_call_and_return_conditional_losses while saving (showing 2 of 2). These functions will not be directly callable after loading.\n",
            "/usr/local/lib/python3.7/dist-packages/sklearn/metrics/_classification.py:1318: UndefinedMetricWarning: Recall is ill-defined and being set to 0.0 due to no true samples. Use `zero_division` parameter to control this behavior.\n",
            "  _warn_prf(average, modifier, msg_start, len(result))\n"
          ]
        },
        {
          "output_type": "stream",
          "name": "stdout",
          "text": [
            "Running:  15\n",
            "(5000, 15)\n",
            "model:  KerasClassifier(\n",
            "\tmodel=<keras.engine.sequential.Sequential object at 0x7f51f7662f10>\n",
            "\tbuild_fn=None\n",
            "\twarm_start=False\n",
            "\trandom_state=None\n",
            "\toptimizer=<keras.optimizers.optimizer_v2.adam.Adam object at 0x7f51f44ad550>\n",
            "\tloss=<keras.losses.SparseCategoricalCrossentropy object at 0x7f51ee4bc510>\n",
            "\tmetrics=['accuracy']\n",
            "\tbatch_size=64\n",
            "\tvalidation_batch_size=None\n",
            "\tverbose=0\n",
            "\tcallbacks=None\n",
            "\tvalidation_split=0.2\n",
            "\tshuffle=True\n",
            "\trun_eagerly=False\n",
            "\tepochs=40\n",
            "\tclass_weight=None\n",
            ")\n"
          ]
        },
        {
          "output_type": "stream",
          "name": "stderr",
          "text": [
            "WARNING:absl:Found untraced functions such as lstm_cell_203_layer_call_fn, lstm_cell_203_layer_call_and_return_conditional_losses while saving (showing 2 of 2). These functions will not be directly callable after loading.\n",
            "/usr/local/lib/python3.7/dist-packages/sklearn/metrics/_classification.py:1318: UndefinedMetricWarning: Precision is ill-defined and being set to 0.0 due to no predicted samples. Use `zero_division` parameter to control this behavior.\n",
            "  _warn_prf(average, modifier, msg_start, len(result))\n",
            "WARNING:absl:Found untraced functions such as lstm_cell_203_layer_call_fn, lstm_cell_203_layer_call_and_return_conditional_losses while saving (showing 2 of 2). These functions will not be directly callable after loading.\n",
            "/usr/local/lib/python3.7/dist-packages/sklearn/metrics/_classification.py:1318: UndefinedMetricWarning: Precision is ill-defined and being set to 0.0 due to no predicted samples. Use `zero_division` parameter to control this behavior.\n",
            "  _warn_prf(average, modifier, msg_start, len(result))\n",
            "WARNING:absl:Found untraced functions such as lstm_cell_203_layer_call_fn, lstm_cell_203_layer_call_and_return_conditional_losses while saving (showing 2 of 2). These functions will not be directly callable after loading.\n",
            "/usr/local/lib/python3.7/dist-packages/sklearn/metrics/_classification.py:1318: UndefinedMetricWarning: Precision is ill-defined and being set to 0.0 due to no predicted samples. Use `zero_division` parameter to control this behavior.\n",
            "  _warn_prf(average, modifier, msg_start, len(result))\n",
            "/usr/local/lib/python3.7/dist-packages/sklearn/metrics/_classification.py:1318: UndefinedMetricWarning: Recall is ill-defined and being set to 0.0 due to no true samples. Use `zero_division` parameter to control this behavior.\n",
            "  _warn_prf(average, modifier, msg_start, len(result))\n",
            "/usr/local/lib/python3.7/dist-packages/sklearn/metrics/_classification.py:1580: UndefinedMetricWarning: F-score is ill-defined and being set to 0.0 due to no true nor predicted samples. Use `zero_division` parameter to control this behavior.\n",
            "  _warn_prf(average, \"true nor predicted\", \"F-score is\", len(true_sum))\n"
          ]
        },
        {
          "output_type": "stream",
          "name": "stdout",
          "text": [
            "Running:  15\n",
            "(5000, 15)\n",
            "model:  KerasClassifier(\n",
            "\tmodel=<keras.engine.sequential.Sequential object at 0x7f51fc4cf450>\n",
            "\tbuild_fn=None\n",
            "\twarm_start=False\n",
            "\trandom_state=None\n",
            "\toptimizer=<keras.optimizers.optimizer_v2.adam.Adam object at 0x7f51fe580050>\n",
            "\tloss=<keras.losses.SparseCategoricalCrossentropy object at 0x7f51faafb190>\n",
            "\tmetrics=['accuracy']\n",
            "\tbatch_size=64\n",
            "\tvalidation_batch_size=None\n",
            "\tverbose=0\n",
            "\tcallbacks=None\n",
            "\tvalidation_split=0.2\n",
            "\tshuffle=True\n",
            "\trun_eagerly=False\n",
            "\tepochs=40\n",
            "\tclass_weight=None\n",
            ")\n"
          ]
        },
        {
          "output_type": "stream",
          "name": "stderr",
          "text": [
            "WARNING:absl:Found untraced functions such as lstm_cell_207_layer_call_fn, lstm_cell_207_layer_call_and_return_conditional_losses while saving (showing 2 of 2). These functions will not be directly callable after loading.\n",
            "/usr/local/lib/python3.7/dist-packages/sklearn/metrics/_classification.py:1318: UndefinedMetricWarning: Precision is ill-defined and being set to 0.0 due to no predicted samples. Use `zero_division` parameter to control this behavior.\n",
            "  _warn_prf(average, modifier, msg_start, len(result))\n",
            "WARNING:absl:Found untraced functions such as lstm_cell_207_layer_call_fn, lstm_cell_207_layer_call_and_return_conditional_losses while saving (showing 2 of 2). These functions will not be directly callable after loading.\n",
            "WARNING:absl:Found untraced functions such as lstm_cell_207_layer_call_fn, lstm_cell_207_layer_call_and_return_conditional_losses while saving (showing 2 of 2). These functions will not be directly callable after loading.\n",
            "WARNING:absl:Found untraced functions such as lstm_cell_207_layer_call_fn, lstm_cell_207_layer_call_and_return_conditional_losses while saving (showing 2 of 2). These functions will not be directly callable after loading.\n",
            "/usr/local/lib/python3.7/dist-packages/sklearn/metrics/_classification.py:1318: UndefinedMetricWarning: Recall is ill-defined and being set to 0.0 due to no true samples. Use `zero_division` parameter to control this behavior.\n",
            "  _warn_prf(average, modifier, msg_start, len(result))\n",
            "WARNING:absl:Found untraced functions such as lstm_cell_207_layer_call_fn, lstm_cell_207_layer_call_and_return_conditional_losses while saving (showing 2 of 2). These functions will not be directly callable after loading.\n",
            "WARNING:absl:Found untraced functions such as lstm_cell_207_layer_call_fn, lstm_cell_207_layer_call_and_return_conditional_losses while saving (showing 2 of 2). These functions will not be directly callable after loading.\n",
            "WARNING:absl:Found untraced functions such as lstm_cell_207_layer_call_fn, lstm_cell_207_layer_call_and_return_conditional_losses while saving (showing 2 of 2). These functions will not be directly callable after loading.\n",
            "/usr/local/lib/python3.7/dist-packages/sklearn/metrics/_classification.py:1318: UndefinedMetricWarning: Recall is ill-defined and being set to 0.0 due to no true samples. Use `zero_division` parameter to control this behavior.\n",
            "  _warn_prf(average, modifier, msg_start, len(result))\n"
          ]
        },
        {
          "output_type": "stream",
          "name": "stdout",
          "text": [
            "Running:  16\n",
            "(5000, 16)\n",
            "model:  KerasClassifier(\n",
            "\tmodel=<keras.engine.sequential.Sequential object at 0x7f51ed9fb610>\n",
            "\tbuild_fn=None\n",
            "\twarm_start=False\n",
            "\trandom_state=None\n",
            "\toptimizer=<keras.optimizers.optimizer_v2.adam.Adam object at 0x7f51f9d45a90>\n",
            "\tloss=<keras.losses.SparseCategoricalCrossentropy object at 0x7f51fe6d6c90>\n",
            "\tmetrics=['accuracy']\n",
            "\tbatch_size=64\n",
            "\tvalidation_batch_size=None\n",
            "\tverbose=0\n",
            "\tcallbacks=None\n",
            "\tvalidation_split=0.2\n",
            "\tshuffle=True\n",
            "\trun_eagerly=False\n",
            "\tepochs=40\n",
            "\tclass_weight=None\n",
            ")\n"
          ]
        },
        {
          "output_type": "stream",
          "name": "stderr",
          "text": [
            "WARNING:absl:Found untraced functions such as lstm_cell_215_layer_call_fn, lstm_cell_215_layer_call_and_return_conditional_losses while saving (showing 2 of 2). These functions will not be directly callable after loading.\n",
            "/usr/local/lib/python3.7/dist-packages/sklearn/metrics/_classification.py:1318: UndefinedMetricWarning: Precision is ill-defined and being set to 0.0 due to no predicted samples. Use `zero_division` parameter to control this behavior.\n",
            "  _warn_prf(average, modifier, msg_start, len(result))\n",
            "WARNING:absl:Found untraced functions such as lstm_cell_215_layer_call_fn, lstm_cell_215_layer_call_and_return_conditional_losses while saving (showing 2 of 2). These functions will not be directly callable after loading.\n",
            "/usr/local/lib/python3.7/dist-packages/sklearn/metrics/_classification.py:1318: UndefinedMetricWarning: Precision is ill-defined and being set to 0.0 due to no predicted samples. Use `zero_division` parameter to control this behavior.\n",
            "  _warn_prf(average, modifier, msg_start, len(result))\n",
            "WARNING:absl:Found untraced functions such as lstm_cell_215_layer_call_fn, lstm_cell_215_layer_call_and_return_conditional_losses while saving (showing 2 of 2). These functions will not be directly callable after loading.\n",
            "/usr/local/lib/python3.7/dist-packages/sklearn/metrics/_classification.py:1318: UndefinedMetricWarning: Recall is ill-defined and being set to 0.0 due to no true samples. Use `zero_division` parameter to control this behavior.\n",
            "  _warn_prf(average, modifier, msg_start, len(result))\n"
          ]
        },
        {
          "output_type": "stream",
          "name": "stdout",
          "text": [
            "Running:  16\n",
            "(5000, 16)\n",
            "model:  KerasClassifier(\n",
            "\tmodel=<keras.engine.sequential.Sequential object at 0x7f51ef2a9990>\n",
            "\tbuild_fn=None\n",
            "\twarm_start=False\n",
            "\trandom_state=None\n",
            "\toptimizer=<keras.optimizers.optimizer_v2.adam.Adam object at 0x7f51ee16c950>\n",
            "\tloss=<keras.losses.SparseCategoricalCrossentropy object at 0x7f51edc449d0>\n",
            "\tmetrics=['accuracy']\n",
            "\tbatch_size=64\n",
            "\tvalidation_batch_size=None\n",
            "\tverbose=0\n",
            "\tcallbacks=None\n",
            "\tvalidation_split=0.2\n",
            "\tshuffle=True\n",
            "\trun_eagerly=False\n",
            "\tepochs=40\n",
            "\tclass_weight=None\n",
            ")\n"
          ]
        },
        {
          "output_type": "stream",
          "name": "stderr",
          "text": [
            "WARNING:absl:Found untraced functions such as lstm_cell_219_layer_call_fn, lstm_cell_219_layer_call_and_return_conditional_losses while saving (showing 2 of 2). These functions will not be directly callable after loading.\n",
            "WARNING:absl:Found untraced functions such as lstm_cell_219_layer_call_fn, lstm_cell_219_layer_call_and_return_conditional_losses while saving (showing 2 of 2). These functions will not be directly callable after loading.\n",
            "WARNING:absl:Found untraced functions such as lstm_cell_219_layer_call_fn, lstm_cell_219_layer_call_and_return_conditional_losses while saving (showing 2 of 2). These functions will not be directly callable after loading.\n",
            "WARNING:absl:Found untraced functions such as lstm_cell_219_layer_call_fn, lstm_cell_219_layer_call_and_return_conditional_losses while saving (showing 2 of 2). These functions will not be directly callable after loading.\n",
            "/usr/local/lib/python3.7/dist-packages/sklearn/metrics/_classification.py:1318: UndefinedMetricWarning: Recall is ill-defined and being set to 0.0 due to no true samples. Use `zero_division` parameter to control this behavior.\n",
            "  _warn_prf(average, modifier, msg_start, len(result))\n",
            "WARNING:absl:Found untraced functions such as lstm_cell_219_layer_call_fn, lstm_cell_219_layer_call_and_return_conditional_losses while saving (showing 2 of 2). These functions will not be directly callable after loading.\n",
            "WARNING:absl:Found untraced functions such as lstm_cell_219_layer_call_fn, lstm_cell_219_layer_call_and_return_conditional_losses while saving (showing 2 of 2). These functions will not be directly callable after loading.\n",
            "WARNING:absl:Found untraced functions such as lstm_cell_219_layer_call_fn, lstm_cell_219_layer_call_and_return_conditional_losses while saving (showing 2 of 2). These functions will not be directly callable after loading.\n",
            "/usr/local/lib/python3.7/dist-packages/sklearn/metrics/_classification.py:1318: UndefinedMetricWarning: Recall is ill-defined and being set to 0.0 due to no true samples. Use `zero_division` parameter to control this behavior.\n",
            "  _warn_prf(average, modifier, msg_start, len(result))\n"
          ]
        },
        {
          "output_type": "stream",
          "name": "stdout",
          "text": [
            "Running:  17\n",
            "(5000, 17)\n",
            "model:  KerasClassifier(\n",
            "\tmodel=<keras.engine.sequential.Sequential object at 0x7f51f04e3ad0>\n",
            "\tbuild_fn=None\n",
            "\twarm_start=False\n",
            "\trandom_state=None\n",
            "\toptimizer=<keras.optimizers.optimizer_v2.adam.Adam object at 0x7f51ede166d0>\n",
            "\tloss=<keras.losses.SparseCategoricalCrossentropy object at 0x7f51f6b4d150>\n",
            "\tmetrics=['accuracy']\n",
            "\tbatch_size=64\n",
            "\tvalidation_batch_size=None\n",
            "\tverbose=0\n",
            "\tcallbacks=None\n",
            "\tvalidation_split=0.2\n",
            "\tshuffle=True\n",
            "\trun_eagerly=False\n",
            "\tepochs=40\n",
            "\tclass_weight=None\n",
            ")\n"
          ]
        },
        {
          "output_type": "stream",
          "name": "stderr",
          "text": [
            "WARNING:absl:Found untraced functions such as lstm_cell_227_layer_call_fn, lstm_cell_227_layer_call_and_return_conditional_losses while saving (showing 2 of 2). These functions will not be directly callable after loading.\n",
            "/usr/local/lib/python3.7/dist-packages/sklearn/metrics/_classification.py:1318: UndefinedMetricWarning: Precision is ill-defined and being set to 0.0 due to no predicted samples. Use `zero_division` parameter to control this behavior.\n",
            "  _warn_prf(average, modifier, msg_start, len(result))\n",
            "WARNING:absl:Found untraced functions such as lstm_cell_227_layer_call_fn, lstm_cell_227_layer_call_and_return_conditional_losses while saving (showing 2 of 2). These functions will not be directly callable after loading.\n",
            "/usr/local/lib/python3.7/dist-packages/sklearn/metrics/_classification.py:1318: UndefinedMetricWarning: Precision is ill-defined and being set to 0.0 due to no predicted samples. Use `zero_division` parameter to control this behavior.\n",
            "  _warn_prf(average, modifier, msg_start, len(result))\n",
            "WARNING:absl:Found untraced functions such as lstm_cell_227_layer_call_fn, lstm_cell_227_layer_call_and_return_conditional_losses while saving (showing 2 of 2). These functions will not be directly callable after loading.\n",
            "/usr/local/lib/python3.7/dist-packages/sklearn/metrics/_classification.py:1318: UndefinedMetricWarning: Recall is ill-defined and being set to 0.0 due to no true samples. Use `zero_division` parameter to control this behavior.\n",
            "  _warn_prf(average, modifier, msg_start, len(result))\n"
          ]
        },
        {
          "output_type": "stream",
          "name": "stdout",
          "text": [
            "Running:  17\n",
            "(5000, 17)\n",
            "model:  KerasClassifier(\n",
            "\tmodel=<keras.engine.sequential.Sequential object at 0x7f51f42ac6d0>\n",
            "\tbuild_fn=None\n",
            "\twarm_start=False\n",
            "\trandom_state=None\n",
            "\toptimizer=<keras.optimizers.optimizer_v2.adam.Adam object at 0x7f51fe8cb9d0>\n",
            "\tloss=<keras.losses.SparseCategoricalCrossentropy object at 0x7f51f0146d50>\n",
            "\tmetrics=['accuracy']\n",
            "\tbatch_size=64\n",
            "\tvalidation_batch_size=None\n",
            "\tverbose=0\n",
            "\tcallbacks=None\n",
            "\tvalidation_split=0.2\n",
            "\tshuffle=True\n",
            "\trun_eagerly=False\n",
            "\tepochs=40\n",
            "\tclass_weight=None\n",
            ")\n"
          ]
        },
        {
          "output_type": "stream",
          "name": "stderr",
          "text": [
            "WARNING:absl:Found untraced functions such as lstm_cell_231_layer_call_fn, lstm_cell_231_layer_call_and_return_conditional_losses while saving (showing 2 of 2). These functions will not be directly callable after loading.\n",
            "/usr/local/lib/python3.7/dist-packages/sklearn/metrics/_classification.py:1318: UndefinedMetricWarning: Precision is ill-defined and being set to 0.0 due to no predicted samples. Use `zero_division` parameter to control this behavior.\n",
            "  _warn_prf(average, modifier, msg_start, len(result))\n",
            "WARNING:absl:Found untraced functions such as lstm_cell_231_layer_call_fn, lstm_cell_231_layer_call_and_return_conditional_losses while saving (showing 2 of 2). These functions will not be directly callable after loading.\n",
            "WARNING:absl:Found untraced functions such as lstm_cell_231_layer_call_fn, lstm_cell_231_layer_call_and_return_conditional_losses while saving (showing 2 of 2). These functions will not be directly callable after loading.\n",
            "WARNING:absl:Found untraced functions such as lstm_cell_231_layer_call_fn, lstm_cell_231_layer_call_and_return_conditional_losses while saving (showing 2 of 2). These functions will not be directly callable after loading.\n",
            "/usr/local/lib/python3.7/dist-packages/sklearn/metrics/_classification.py:1318: UndefinedMetricWarning: Recall is ill-defined and being set to 0.0 due to no true samples. Use `zero_division` parameter to control this behavior.\n",
            "  _warn_prf(average, modifier, msg_start, len(result))\n",
            "WARNING:absl:Found untraced functions such as lstm_cell_231_layer_call_fn, lstm_cell_231_layer_call_and_return_conditional_losses while saving (showing 2 of 2). These functions will not be directly callable after loading.\n",
            "WARNING:absl:Found untraced functions such as lstm_cell_231_layer_call_fn, lstm_cell_231_layer_call_and_return_conditional_losses while saving (showing 2 of 2). These functions will not be directly callable after loading.\n",
            "WARNING:absl:Found untraced functions such as lstm_cell_231_layer_call_fn, lstm_cell_231_layer_call_and_return_conditional_losses while saving (showing 2 of 2). These functions will not be directly callable after loading.\n",
            "/usr/local/lib/python3.7/dist-packages/sklearn/metrics/_classification.py:1318: UndefinedMetricWarning: Recall is ill-defined and being set to 0.0 due to no true samples. Use `zero_division` parameter to control this behavior.\n",
            "  _warn_prf(average, modifier, msg_start, len(result))\n"
          ]
        },
        {
          "output_type": "stream",
          "name": "stdout",
          "text": [
            "Running:  18\n",
            "(5000, 18)\n",
            "model:  KerasClassifier(\n",
            "\tmodel=<keras.engine.sequential.Sequential object at 0x7f51ee28f110>\n",
            "\tbuild_fn=None\n",
            "\twarm_start=False\n",
            "\trandom_state=None\n",
            "\toptimizer=<keras.optimizers.optimizer_v2.adam.Adam object at 0x7f51f9acdc50>\n",
            "\tloss=<keras.losses.SparseCategoricalCrossentropy object at 0x7f51edaa2b10>\n",
            "\tmetrics=['accuracy']\n",
            "\tbatch_size=64\n",
            "\tvalidation_batch_size=None\n",
            "\tverbose=0\n",
            "\tcallbacks=None\n",
            "\tvalidation_split=0.2\n",
            "\tshuffle=True\n",
            "\trun_eagerly=False\n",
            "\tepochs=40\n",
            "\tclass_weight=None\n",
            ")\n"
          ]
        },
        {
          "output_type": "stream",
          "name": "stderr",
          "text": [
            "WARNING:absl:Found untraced functions such as lstm_cell_239_layer_call_fn, lstm_cell_239_layer_call_and_return_conditional_losses while saving (showing 2 of 2). These functions will not be directly callable after loading.\n",
            "/usr/local/lib/python3.7/dist-packages/sklearn/metrics/_classification.py:1318: UndefinedMetricWarning: Precision is ill-defined and being set to 0.0 due to no predicted samples. Use `zero_division` parameter to control this behavior.\n",
            "  _warn_prf(average, modifier, msg_start, len(result))\n",
            "WARNING:absl:Found untraced functions such as lstm_cell_239_layer_call_fn, lstm_cell_239_layer_call_and_return_conditional_losses while saving (showing 2 of 2). These functions will not be directly callable after loading.\n",
            "/usr/local/lib/python3.7/dist-packages/sklearn/metrics/_classification.py:1318: UndefinedMetricWarning: Precision is ill-defined and being set to 0.0 due to no predicted samples. Use `zero_division` parameter to control this behavior.\n",
            "  _warn_prf(average, modifier, msg_start, len(result))\n",
            "WARNING:absl:Found untraced functions such as lstm_cell_239_layer_call_fn, lstm_cell_239_layer_call_and_return_conditional_losses while saving (showing 2 of 2). These functions will not be directly callable after loading.\n",
            "/usr/local/lib/python3.7/dist-packages/sklearn/metrics/_classification.py:1318: UndefinedMetricWarning: Precision is ill-defined and being set to 0.0 due to no predicted samples. Use `zero_division` parameter to control this behavior.\n",
            "  _warn_prf(average, modifier, msg_start, len(result))\n",
            "/usr/local/lib/python3.7/dist-packages/sklearn/metrics/_classification.py:1318: UndefinedMetricWarning: Recall is ill-defined and being set to 0.0 due to no true samples. Use `zero_division` parameter to control this behavior.\n",
            "  _warn_prf(average, modifier, msg_start, len(result))\n",
            "/usr/local/lib/python3.7/dist-packages/sklearn/metrics/_classification.py:1580: UndefinedMetricWarning: F-score is ill-defined and being set to 0.0 due to no true nor predicted samples. Use `zero_division` parameter to control this behavior.\n",
            "  _warn_prf(average, \"true nor predicted\", \"F-score is\", len(true_sum))\n"
          ]
        },
        {
          "output_type": "stream",
          "name": "stdout",
          "text": [
            "Running:  18\n",
            "(5000, 18)\n",
            "model:  KerasClassifier(\n",
            "\tmodel=<keras.engine.sequential.Sequential object at 0x7f51f02eb090>\n",
            "\tbuild_fn=None\n",
            "\twarm_start=False\n",
            "\trandom_state=None\n",
            "\toptimizer=<keras.optimizers.optimizer_v2.adam.Adam object at 0x7f51fad1cad0>\n",
            "\tloss=<keras.losses.SparseCategoricalCrossentropy object at 0x7f51f00de850>\n",
            "\tmetrics=['accuracy']\n",
            "\tbatch_size=64\n",
            "\tvalidation_batch_size=None\n",
            "\tverbose=0\n",
            "\tcallbacks=None\n",
            "\tvalidation_split=0.2\n",
            "\tshuffle=True\n",
            "\trun_eagerly=False\n",
            "\tepochs=40\n",
            "\tclass_weight=None\n",
            ")\n"
          ]
        },
        {
          "output_type": "stream",
          "name": "stderr",
          "text": [
            "WARNING:absl:Found untraced functions such as lstm_cell_243_layer_call_fn, lstm_cell_243_layer_call_and_return_conditional_losses while saving (showing 2 of 2). These functions will not be directly callable after loading.\n",
            "WARNING:absl:Found untraced functions such as lstm_cell_243_layer_call_fn, lstm_cell_243_layer_call_and_return_conditional_losses while saving (showing 2 of 2). These functions will not be directly callable after loading.\n",
            "WARNING:absl:Found untraced functions such as lstm_cell_243_layer_call_fn, lstm_cell_243_layer_call_and_return_conditional_losses while saving (showing 2 of 2). These functions will not be directly callable after loading.\n",
            "WARNING:absl:Found untraced functions such as lstm_cell_243_layer_call_fn, lstm_cell_243_layer_call_and_return_conditional_losses while saving (showing 2 of 2). These functions will not be directly callable after loading.\n",
            "/usr/local/lib/python3.7/dist-packages/sklearn/metrics/_classification.py:1318: UndefinedMetricWarning: Recall is ill-defined and being set to 0.0 due to no true samples. Use `zero_division` parameter to control this behavior.\n",
            "  _warn_prf(average, modifier, msg_start, len(result))\n",
            "WARNING:absl:Found untraced functions such as lstm_cell_243_layer_call_fn, lstm_cell_243_layer_call_and_return_conditional_losses while saving (showing 2 of 2). These functions will not be directly callable after loading.\n",
            "WARNING:absl:Found untraced functions such as lstm_cell_243_layer_call_fn, lstm_cell_243_layer_call_and_return_conditional_losses while saving (showing 2 of 2). These functions will not be directly callable after loading.\n",
            "WARNING:absl:Found untraced functions such as lstm_cell_243_layer_call_fn, lstm_cell_243_layer_call_and_return_conditional_losses while saving (showing 2 of 2). These functions will not be directly callable after loading.\n",
            "/usr/local/lib/python3.7/dist-packages/sklearn/metrics/_classification.py:1318: UndefinedMetricWarning: Recall is ill-defined and being set to 0.0 due to no true samples. Use `zero_division` parameter to control this behavior.\n",
            "  _warn_prf(average, modifier, msg_start, len(result))\n"
          ]
        },
        {
          "output_type": "stream",
          "name": "stdout",
          "text": [
            "Running:  19\n",
            "(5000, 19)\n",
            "model:  KerasClassifier(\n",
            "\tmodel=<keras.engine.sequential.Sequential object at 0x7f51f4114fd0>\n",
            "\tbuild_fn=None\n",
            "\twarm_start=False\n",
            "\trandom_state=None\n",
            "\toptimizer=<keras.optimizers.optimizer_v2.adam.Adam object at 0x7f51fc75b590>\n",
            "\tloss=<keras.losses.SparseCategoricalCrossentropy object at 0x7f51f4008e90>\n",
            "\tmetrics=['accuracy']\n",
            "\tbatch_size=64\n",
            "\tvalidation_batch_size=None\n",
            "\tverbose=0\n",
            "\tcallbacks=None\n",
            "\tvalidation_split=0.2\n",
            "\tshuffle=True\n",
            "\trun_eagerly=False\n",
            "\tepochs=40\n",
            "\tclass_weight=None\n",
            ")\n"
          ]
        },
        {
          "output_type": "stream",
          "name": "stderr",
          "text": [
            "WARNING:absl:Found untraced functions such as lstm_cell_251_layer_call_fn, lstm_cell_251_layer_call_and_return_conditional_losses while saving (showing 2 of 2). These functions will not be directly callable after loading.\n",
            "/usr/local/lib/python3.7/dist-packages/sklearn/metrics/_classification.py:1318: UndefinedMetricWarning: Precision is ill-defined and being set to 0.0 due to no predicted samples. Use `zero_division` parameter to control this behavior.\n",
            "  _warn_prf(average, modifier, msg_start, len(result))\n",
            "WARNING:absl:Found untraced functions such as lstm_cell_251_layer_call_fn, lstm_cell_251_layer_call_and_return_conditional_losses while saving (showing 2 of 2). These functions will not be directly callable after loading.\n",
            "/usr/local/lib/python3.7/dist-packages/sklearn/metrics/_classification.py:1318: UndefinedMetricWarning: Precision is ill-defined and being set to 0.0 due to no predicted samples. Use `zero_division` parameter to control this behavior.\n",
            "  _warn_prf(average, modifier, msg_start, len(result))\n",
            "WARNING:absl:Found untraced functions such as lstm_cell_251_layer_call_fn, lstm_cell_251_layer_call_and_return_conditional_losses while saving (showing 2 of 2). These functions will not be directly callable after loading.\n",
            "/usr/local/lib/python3.7/dist-packages/sklearn/metrics/_classification.py:1318: UndefinedMetricWarning: Recall is ill-defined and being set to 0.0 due to no true samples. Use `zero_division` parameter to control this behavior.\n",
            "  _warn_prf(average, modifier, msg_start, len(result))\n"
          ]
        },
        {
          "output_type": "stream",
          "name": "stdout",
          "text": [
            "Running:  19\n",
            "(5000, 19)\n",
            "model:  KerasClassifier(\n",
            "\tmodel=<keras.engine.sequential.Sequential object at 0x7f51fab18b10>\n",
            "\tbuild_fn=None\n",
            "\twarm_start=False\n",
            "\trandom_state=None\n",
            "\toptimizer=<keras.optimizers.optimizer_v2.adam.Adam object at 0x7f51ee069fd0>\n",
            "\tloss=<keras.losses.SparseCategoricalCrossentropy object at 0x7f51f9adc650>\n",
            "\tmetrics=['accuracy']\n",
            "\tbatch_size=64\n",
            "\tvalidation_batch_size=None\n",
            "\tverbose=0\n",
            "\tcallbacks=None\n",
            "\tvalidation_split=0.2\n",
            "\tshuffle=True\n",
            "\trun_eagerly=False\n",
            "\tepochs=40\n",
            "\tclass_weight=None\n",
            ")\n"
          ]
        },
        {
          "output_type": "stream",
          "name": "stderr",
          "text": [
            "WARNING:absl:Found untraced functions such as lstm_cell_255_layer_call_fn, lstm_cell_255_layer_call_and_return_conditional_losses while saving (showing 2 of 2). These functions will not be directly callable after loading.\n",
            "/usr/local/lib/python3.7/dist-packages/sklearn/metrics/_classification.py:1318: UndefinedMetricWarning: Precision is ill-defined and being set to 0.0 due to no predicted samples. Use `zero_division` parameter to control this behavior.\n",
            "  _warn_prf(average, modifier, msg_start, len(result))\n",
            "WARNING:absl:Found untraced functions such as lstm_cell_255_layer_call_fn, lstm_cell_255_layer_call_and_return_conditional_losses while saving (showing 2 of 2). These functions will not be directly callable after loading.\n",
            "WARNING:absl:Found untraced functions such as lstm_cell_255_layer_call_fn, lstm_cell_255_layer_call_and_return_conditional_losses while saving (showing 2 of 2). These functions will not be directly callable after loading.\n",
            "WARNING:absl:Found untraced functions such as lstm_cell_255_layer_call_fn, lstm_cell_255_layer_call_and_return_conditional_losses while saving (showing 2 of 2). These functions will not be directly callable after loading.\n",
            "/usr/local/lib/python3.7/dist-packages/sklearn/metrics/_classification.py:1318: UndefinedMetricWarning: Recall is ill-defined and being set to 0.0 due to no true samples. Use `zero_division` parameter to control this behavior.\n",
            "  _warn_prf(average, modifier, msg_start, len(result))\n",
            "WARNING:absl:Found untraced functions such as lstm_cell_255_layer_call_fn, lstm_cell_255_layer_call_and_return_conditional_losses while saving (showing 2 of 2). These functions will not be directly callable after loading.\n",
            "WARNING:absl:Found untraced functions such as lstm_cell_255_layer_call_fn, lstm_cell_255_layer_call_and_return_conditional_losses while saving (showing 2 of 2). These functions will not be directly callable after loading.\n",
            "WARNING:absl:Found untraced functions such as lstm_cell_255_layer_call_fn, lstm_cell_255_layer_call_and_return_conditional_losses while saving (showing 2 of 2). These functions will not be directly callable after loading.\n",
            "/usr/local/lib/python3.7/dist-packages/sklearn/metrics/_classification.py:1318: UndefinedMetricWarning: Recall is ill-defined and being set to 0.0 due to no true samples. Use `zero_division` parameter to control this behavior.\n",
            "  _warn_prf(average, modifier, msg_start, len(result))\n"
          ]
        },
        {
          "output_type": "stream",
          "name": "stdout",
          "text": [
            "Running:  20\n",
            "(5000, 20)\n",
            "model:  KerasClassifier(\n",
            "\tmodel=<keras.engine.sequential.Sequential object at 0x7f51fe9afcd0>\n",
            "\tbuild_fn=None\n",
            "\twarm_start=False\n",
            "\trandom_state=None\n",
            "\toptimizer=<keras.optimizers.optimizer_v2.adam.Adam object at 0x7f51ef00a410>\n",
            "\tloss=<keras.losses.SparseCategoricalCrossentropy object at 0x7f51fcb81250>\n",
            "\tmetrics=['accuracy']\n",
            "\tbatch_size=64\n",
            "\tvalidation_batch_size=None\n",
            "\tverbose=0\n",
            "\tcallbacks=None\n",
            "\tvalidation_split=0.2\n",
            "\tshuffle=True\n",
            "\trun_eagerly=False\n",
            "\tepochs=40\n",
            "\tclass_weight=None\n",
            ")\n"
          ]
        },
        {
          "output_type": "stream",
          "name": "stderr",
          "text": [
            "WARNING:absl:Found untraced functions such as lstm_cell_263_layer_call_fn, lstm_cell_263_layer_call_and_return_conditional_losses while saving (showing 2 of 2). These functions will not be directly callable after loading.\n",
            "/usr/local/lib/python3.7/dist-packages/sklearn/metrics/_classification.py:1318: UndefinedMetricWarning: Precision is ill-defined and being set to 0.0 due to no predicted samples. Use `zero_division` parameter to control this behavior.\n",
            "  _warn_prf(average, modifier, msg_start, len(result))\n",
            "WARNING:absl:Found untraced functions such as lstm_cell_263_layer_call_fn, lstm_cell_263_layer_call_and_return_conditional_losses while saving (showing 2 of 2). These functions will not be directly callable after loading.\n",
            "/usr/local/lib/python3.7/dist-packages/sklearn/metrics/_classification.py:1318: UndefinedMetricWarning: Precision is ill-defined and being set to 0.0 due to no predicted samples. Use `zero_division` parameter to control this behavior.\n",
            "  _warn_prf(average, modifier, msg_start, len(result))\n",
            "WARNING:absl:Found untraced functions such as lstm_cell_263_layer_call_fn, lstm_cell_263_layer_call_and_return_conditional_losses while saving (showing 2 of 2). These functions will not be directly callable after loading.\n",
            "/usr/local/lib/python3.7/dist-packages/sklearn/metrics/_classification.py:1318: UndefinedMetricWarning: Recall is ill-defined and being set to 0.0 due to no true samples. Use `zero_division` parameter to control this behavior.\n",
            "  _warn_prf(average, modifier, msg_start, len(result))\n"
          ]
        },
        {
          "output_type": "stream",
          "name": "stdout",
          "text": [
            "Running:  20\n",
            "(5000, 20)\n",
            "model:  KerasClassifier(\n",
            "\tmodel=<keras.engine.sequential.Sequential object at 0x7f51f0630c90>\n",
            "\tbuild_fn=None\n",
            "\twarm_start=False\n",
            "\trandom_state=None\n",
            "\toptimizer=<keras.optimizers.optimizer_v2.adam.Adam object at 0x7f51f6a88a10>\n",
            "\tloss=<keras.losses.SparseCategoricalCrossentropy object at 0x7f51ef27a410>\n",
            "\tmetrics=['accuracy']\n",
            "\tbatch_size=64\n",
            "\tvalidation_batch_size=None\n",
            "\tverbose=0\n",
            "\tcallbacks=None\n",
            "\tvalidation_split=0.2\n",
            "\tshuffle=True\n",
            "\trun_eagerly=False\n",
            "\tepochs=40\n",
            "\tclass_weight=None\n",
            ")\n"
          ]
        },
        {
          "output_type": "stream",
          "name": "stderr",
          "text": [
            "WARNING:absl:Found untraced functions such as lstm_cell_267_layer_call_fn, lstm_cell_267_layer_call_and_return_conditional_losses while saving (showing 2 of 2). These functions will not be directly callable after loading.\n",
            "/usr/local/lib/python3.7/dist-packages/sklearn/metrics/_classification.py:1318: UndefinedMetricWarning: Precision is ill-defined and being set to 0.0 due to no predicted samples. Use `zero_division` parameter to control this behavior.\n",
            "  _warn_prf(average, modifier, msg_start, len(result))\n",
            "WARNING:absl:Found untraced functions such as lstm_cell_267_layer_call_fn, lstm_cell_267_layer_call_and_return_conditional_losses while saving (showing 2 of 2). These functions will not be directly callable after loading.\n",
            "WARNING:absl:Found untraced functions such as lstm_cell_267_layer_call_fn, lstm_cell_267_layer_call_and_return_conditional_losses while saving (showing 2 of 2). These functions will not be directly callable after loading.\n",
            "WARNING:absl:Found untraced functions such as lstm_cell_267_layer_call_fn, lstm_cell_267_layer_call_and_return_conditional_losses while saving (showing 2 of 2). These functions will not be directly callable after loading.\n",
            "/usr/local/lib/python3.7/dist-packages/sklearn/metrics/_classification.py:1318: UndefinedMetricWarning: Recall is ill-defined and being set to 0.0 due to no true samples. Use `zero_division` parameter to control this behavior.\n",
            "  _warn_prf(average, modifier, msg_start, len(result))\n",
            "WARNING:absl:Found untraced functions such as lstm_cell_267_layer_call_fn, lstm_cell_267_layer_call_and_return_conditional_losses while saving (showing 2 of 2). These functions will not be directly callable after loading.\n",
            "WARNING:absl:Found untraced functions such as lstm_cell_267_layer_call_fn, lstm_cell_267_layer_call_and_return_conditional_losses while saving (showing 2 of 2). These functions will not be directly callable after loading.\n",
            "WARNING:absl:Found untraced functions such as lstm_cell_267_layer_call_fn, lstm_cell_267_layer_call_and_return_conditional_losses while saving (showing 2 of 2). These functions will not be directly callable after loading.\n",
            "/usr/local/lib/python3.7/dist-packages/sklearn/metrics/_classification.py:1318: UndefinedMetricWarning: Recall is ill-defined and being set to 0.0 due to no true samples. Use `zero_division` parameter to control this behavior.\n",
            "  _warn_prf(average, modifier, msg_start, len(result))\n"
          ]
        },
        {
          "output_type": "stream",
          "name": "stdout",
          "text": [
            "Running:  21\n",
            "(5000, 21)\n",
            "model:  KerasClassifier(\n",
            "\tmodel=<keras.engine.sequential.Sequential object at 0x7f5204fd8250>\n",
            "\tbuild_fn=None\n",
            "\twarm_start=False\n",
            "\trandom_state=None\n",
            "\toptimizer=<keras.optimizers.optimizer_v2.adam.Adam object at 0x7f51ee1fe410>\n",
            "\tloss=<keras.losses.SparseCategoricalCrossentropy object at 0x7f51f8f7fb10>\n",
            "\tmetrics=['accuracy']\n",
            "\tbatch_size=64\n",
            "\tvalidation_batch_size=None\n",
            "\tverbose=0\n",
            "\tcallbacks=None\n",
            "\tvalidation_split=0.2\n",
            "\tshuffle=True\n",
            "\trun_eagerly=False\n",
            "\tepochs=40\n",
            "\tclass_weight=None\n",
            ")\n"
          ]
        },
        {
          "output_type": "stream",
          "name": "stderr",
          "text": [
            "WARNING:absl:Found untraced functions such as lstm_cell_275_layer_call_fn, lstm_cell_275_layer_call_and_return_conditional_losses while saving (showing 2 of 2). These functions will not be directly callable after loading.\n",
            "/usr/local/lib/python3.7/dist-packages/sklearn/metrics/_classification.py:1318: UndefinedMetricWarning: Precision is ill-defined and being set to 0.0 due to no predicted samples. Use `zero_division` parameter to control this behavior.\n",
            "  _warn_prf(average, modifier, msg_start, len(result))\n",
            "WARNING:absl:Found untraced functions such as lstm_cell_275_layer_call_fn, lstm_cell_275_layer_call_and_return_conditional_losses while saving (showing 2 of 2). These functions will not be directly callable after loading.\n",
            "/usr/local/lib/python3.7/dist-packages/sklearn/metrics/_classification.py:1318: UndefinedMetricWarning: Precision is ill-defined and being set to 0.0 due to no predicted samples. Use `zero_division` parameter to control this behavior.\n",
            "  _warn_prf(average, modifier, msg_start, len(result))\n",
            "WARNING:absl:Found untraced functions such as lstm_cell_275_layer_call_fn, lstm_cell_275_layer_call_and_return_conditional_losses while saving (showing 2 of 2). These functions will not be directly callable after loading.\n",
            "/usr/local/lib/python3.7/dist-packages/sklearn/metrics/_classification.py:1318: UndefinedMetricWarning: Recall is ill-defined and being set to 0.0 due to no true samples. Use `zero_division` parameter to control this behavior.\n",
            "  _warn_prf(average, modifier, msg_start, len(result))\n"
          ]
        },
        {
          "output_type": "stream",
          "name": "stdout",
          "text": [
            "Running:  21\n",
            "(5000, 21)\n",
            "model:  KerasClassifier(\n",
            "\tmodel=<keras.engine.sequential.Sequential object at 0x7f51f68eb390>\n",
            "\tbuild_fn=None\n",
            "\twarm_start=False\n",
            "\trandom_state=None\n",
            "\toptimizer=<keras.optimizers.optimizer_v2.adam.Adam object at 0x7f51f4100dd0>\n",
            "\tloss=<keras.losses.SparseCategoricalCrossentropy object at 0x7f51f6a882d0>\n",
            "\tmetrics=['accuracy']\n",
            "\tbatch_size=64\n",
            "\tvalidation_batch_size=None\n",
            "\tverbose=0\n",
            "\tcallbacks=None\n",
            "\tvalidation_split=0.2\n",
            "\tshuffle=True\n",
            "\trun_eagerly=False\n",
            "\tepochs=40\n",
            "\tclass_weight=None\n",
            ")\n"
          ]
        },
        {
          "output_type": "stream",
          "name": "stderr",
          "text": [
            "WARNING:absl:Found untraced functions such as lstm_cell_279_layer_call_fn, lstm_cell_279_layer_call_and_return_conditional_losses while saving (showing 2 of 2). These functions will not be directly callable after loading.\n",
            "WARNING:absl:Found untraced functions such as lstm_cell_279_layer_call_fn, lstm_cell_279_layer_call_and_return_conditional_losses while saving (showing 2 of 2). These functions will not be directly callable after loading.\n",
            "WARNING:absl:Found untraced functions such as lstm_cell_279_layer_call_fn, lstm_cell_279_layer_call_and_return_conditional_losses while saving (showing 2 of 2). These functions will not be directly callable after loading.\n",
            "WARNING:absl:Found untraced functions such as lstm_cell_279_layer_call_fn, lstm_cell_279_layer_call_and_return_conditional_losses while saving (showing 2 of 2). These functions will not be directly callable after loading.\n",
            "/usr/local/lib/python3.7/dist-packages/sklearn/metrics/_classification.py:1318: UndefinedMetricWarning: Recall is ill-defined and being set to 0.0 due to no true samples. Use `zero_division` parameter to control this behavior.\n",
            "  _warn_prf(average, modifier, msg_start, len(result))\n",
            "WARNING:absl:Found untraced functions such as lstm_cell_279_layer_call_fn, lstm_cell_279_layer_call_and_return_conditional_losses while saving (showing 2 of 2). These functions will not be directly callable after loading.\n",
            "WARNING:absl:Found untraced functions such as lstm_cell_279_layer_call_fn, lstm_cell_279_layer_call_and_return_conditional_losses while saving (showing 2 of 2). These functions will not be directly callable after loading.\n",
            "WARNING:absl:Found untraced functions such as lstm_cell_279_layer_call_fn, lstm_cell_279_layer_call_and_return_conditional_losses while saving (showing 2 of 2). These functions will not be directly callable after loading.\n",
            "/usr/local/lib/python3.7/dist-packages/sklearn/metrics/_classification.py:1318: UndefinedMetricWarning: Recall is ill-defined and being set to 0.0 due to no true samples. Use `zero_division` parameter to control this behavior.\n",
            "  _warn_prf(average, modifier, msg_start, len(result))\n"
          ]
        },
        {
          "output_type": "stream",
          "name": "stdout",
          "text": [
            "Running:  22\n",
            "(5000, 22)\n",
            "model:  KerasClassifier(\n",
            "\tmodel=<keras.engine.sequential.Sequential object at 0x7f51edbc2110>\n",
            "\tbuild_fn=None\n",
            "\twarm_start=False\n",
            "\trandom_state=None\n",
            "\toptimizer=<keras.optimizers.optimizer_v2.adam.Adam object at 0x7f51f7bb4650>\n",
            "\tloss=<keras.losses.SparseCategoricalCrossentropy object at 0x7f51fb86e1d0>\n",
            "\tmetrics=['accuracy']\n",
            "\tbatch_size=64\n",
            "\tvalidation_batch_size=None\n",
            "\tverbose=0\n",
            "\tcallbacks=None\n",
            "\tvalidation_split=0.2\n",
            "\tshuffle=True\n",
            "\trun_eagerly=False\n",
            "\tepochs=40\n",
            "\tclass_weight=None\n",
            ")\n"
          ]
        },
        {
          "output_type": "stream",
          "name": "stderr",
          "text": [
            "WARNING:absl:Found untraced functions such as lstm_cell_287_layer_call_fn, lstm_cell_287_layer_call_and_return_conditional_losses while saving (showing 2 of 2). These functions will not be directly callable after loading.\n",
            "/usr/local/lib/python3.7/dist-packages/sklearn/metrics/_classification.py:1318: UndefinedMetricWarning: Precision is ill-defined and being set to 0.0 due to no predicted samples. Use `zero_division` parameter to control this behavior.\n",
            "  _warn_prf(average, modifier, msg_start, len(result))\n",
            "WARNING:absl:Found untraced functions such as lstm_cell_287_layer_call_fn, lstm_cell_287_layer_call_and_return_conditional_losses while saving (showing 2 of 2). These functions will not be directly callable after loading.\n",
            "/usr/local/lib/python3.7/dist-packages/sklearn/metrics/_classification.py:1318: UndefinedMetricWarning: Precision is ill-defined and being set to 0.0 due to no predicted samples. Use `zero_division` parameter to control this behavior.\n",
            "  _warn_prf(average, modifier, msg_start, len(result))\n",
            "WARNING:absl:Found untraced functions such as lstm_cell_287_layer_call_fn, lstm_cell_287_layer_call_and_return_conditional_losses while saving (showing 2 of 2). These functions will not be directly callable after loading.\n",
            "/usr/local/lib/python3.7/dist-packages/sklearn/metrics/_classification.py:1318: UndefinedMetricWarning: Recall is ill-defined and being set to 0.0 due to no true samples. Use `zero_division` parameter to control this behavior.\n",
            "  _warn_prf(average, modifier, msg_start, len(result))\n"
          ]
        },
        {
          "output_type": "stream",
          "name": "stdout",
          "text": [
            "Running:  22\n",
            "(5000, 22)\n",
            "model:  KerasClassifier(\n",
            "\tmodel=<keras.engine.sequential.Sequential object at 0x7f51f40490d0>\n",
            "\tbuild_fn=None\n",
            "\twarm_start=False\n",
            "\trandom_state=None\n",
            "\toptimizer=<keras.optimizers.optimizer_v2.adam.Adam object at 0x7f51ee2d1f10>\n",
            "\tloss=<keras.losses.SparseCategoricalCrossentropy object at 0x7f51eefc1210>\n",
            "\tmetrics=['accuracy']\n",
            "\tbatch_size=64\n",
            "\tvalidation_batch_size=None\n",
            "\tverbose=0\n",
            "\tcallbacks=None\n",
            "\tvalidation_split=0.2\n",
            "\tshuffle=True\n",
            "\trun_eagerly=False\n",
            "\tepochs=40\n",
            "\tclass_weight=None\n",
            ")\n"
          ]
        },
        {
          "output_type": "stream",
          "name": "stderr",
          "text": [
            "WARNING:absl:Found untraced functions such as lstm_cell_291_layer_call_fn, lstm_cell_291_layer_call_and_return_conditional_losses while saving (showing 2 of 2). These functions will not be directly callable after loading.\n",
            "/usr/local/lib/python3.7/dist-packages/sklearn/metrics/_classification.py:1318: UndefinedMetricWarning: Precision is ill-defined and being set to 0.0 due to no predicted samples. Use `zero_division` parameter to control this behavior.\n",
            "  _warn_prf(average, modifier, msg_start, len(result))\n",
            "WARNING:absl:Found untraced functions such as lstm_cell_291_layer_call_fn, lstm_cell_291_layer_call_and_return_conditional_losses while saving (showing 2 of 2). These functions will not be directly callable after loading.\n",
            "WARNING:absl:Found untraced functions such as lstm_cell_291_layer_call_fn, lstm_cell_291_layer_call_and_return_conditional_losses while saving (showing 2 of 2). These functions will not be directly callable after loading.\n",
            "WARNING:absl:Found untraced functions such as lstm_cell_291_layer_call_fn, lstm_cell_291_layer_call_and_return_conditional_losses while saving (showing 2 of 2). These functions will not be directly callable after loading.\n",
            "/usr/local/lib/python3.7/dist-packages/sklearn/metrics/_classification.py:1318: UndefinedMetricWarning: Recall is ill-defined and being set to 0.0 due to no true samples. Use `zero_division` parameter to control this behavior.\n",
            "  _warn_prf(average, modifier, msg_start, len(result))\n",
            "WARNING:absl:Found untraced functions such as lstm_cell_291_layer_call_fn, lstm_cell_291_layer_call_and_return_conditional_losses while saving (showing 2 of 2). These functions will not be directly callable after loading.\n",
            "WARNING:absl:Found untraced functions such as lstm_cell_291_layer_call_fn, lstm_cell_291_layer_call_and_return_conditional_losses while saving (showing 2 of 2). These functions will not be directly callable after loading.\n",
            "WARNING:absl:Found untraced functions such as lstm_cell_291_layer_call_fn, lstm_cell_291_layer_call_and_return_conditional_losses while saving (showing 2 of 2). These functions will not be directly callable after loading.\n",
            "/usr/local/lib/python3.7/dist-packages/sklearn/metrics/_classification.py:1318: UndefinedMetricWarning: Recall is ill-defined and being set to 0.0 due to no true samples. Use `zero_division` parameter to control this behavior.\n",
            "  _warn_prf(average, modifier, msg_start, len(result))\n"
          ]
        },
        {
          "output_type": "stream",
          "name": "stdout",
          "text": [
            "Running:  23\n",
            "(5000, 23)\n",
            "model:  KerasClassifier(\n",
            "\tmodel=<keras.engine.sequential.Sequential object at 0x7f51f00ee350>\n",
            "\tbuild_fn=None\n",
            "\twarm_start=False\n",
            "\trandom_state=None\n",
            "\toptimizer=<keras.optimizers.optimizer_v2.adam.Adam object at 0x7f51f7b4ef90>\n",
            "\tloss=<keras.losses.SparseCategoricalCrossentropy object at 0x7f51fbd49dd0>\n",
            "\tmetrics=['accuracy']\n",
            "\tbatch_size=64\n",
            "\tvalidation_batch_size=None\n",
            "\tverbose=0\n",
            "\tcallbacks=None\n",
            "\tvalidation_split=0.2\n",
            "\tshuffle=True\n",
            "\trun_eagerly=False\n",
            "\tepochs=40\n",
            "\tclass_weight=None\n",
            ")\n"
          ]
        },
        {
          "output_type": "stream",
          "name": "stderr",
          "text": [
            "WARNING:absl:Found untraced functions such as lstm_cell_299_layer_call_fn, lstm_cell_299_layer_call_and_return_conditional_losses while saving (showing 2 of 2). These functions will not be directly callable after loading.\n",
            "WARNING:absl:Found untraced functions such as lstm_cell_299_layer_call_fn, lstm_cell_299_layer_call_and_return_conditional_losses while saving (showing 2 of 2). These functions will not be directly callable after loading.\n",
            "/usr/local/lib/python3.7/dist-packages/sklearn/metrics/_classification.py:1318: UndefinedMetricWarning: Precision is ill-defined and being set to 0.0 due to no predicted samples. Use `zero_division` parameter to control this behavior.\n",
            "  _warn_prf(average, modifier, msg_start, len(result))\n",
            "WARNING:absl:Found untraced functions such as lstm_cell_299_layer_call_fn, lstm_cell_299_layer_call_and_return_conditional_losses while saving (showing 2 of 2). These functions will not be directly callable after loading.\n",
            "/usr/local/lib/python3.7/dist-packages/sklearn/metrics/_classification.py:1318: UndefinedMetricWarning: Precision is ill-defined and being set to 0.0 due to no predicted samples. Use `zero_division` parameter to control this behavior.\n",
            "  _warn_prf(average, modifier, msg_start, len(result))\n",
            "/usr/local/lib/python3.7/dist-packages/sklearn/metrics/_classification.py:1318: UndefinedMetricWarning: Recall is ill-defined and being set to 0.0 due to no true samples. Use `zero_division` parameter to control this behavior.\n",
            "  _warn_prf(average, modifier, msg_start, len(result))\n",
            "/usr/local/lib/python3.7/dist-packages/sklearn/metrics/_classification.py:1580: UndefinedMetricWarning: F-score is ill-defined and being set to 0.0 due to no true nor predicted samples. Use `zero_division` parameter to control this behavior.\n",
            "  _warn_prf(average, \"true nor predicted\", \"F-score is\", len(true_sum))\n"
          ]
        },
        {
          "output_type": "stream",
          "name": "stdout",
          "text": [
            "Running:  23\n",
            "(5000, 23)\n",
            "model:  KerasClassifier(\n",
            "\tmodel=<keras.engine.sequential.Sequential object at 0x7f51eda4e410>\n",
            "\tbuild_fn=None\n",
            "\twarm_start=False\n",
            "\trandom_state=None\n",
            "\toptimizer=<keras.optimizers.optimizer_v2.adam.Adam object at 0x7f51f6ccd350>\n",
            "\tloss=<keras.losses.SparseCategoricalCrossentropy object at 0x7f51fc500e10>\n",
            "\tmetrics=['accuracy']\n",
            "\tbatch_size=64\n",
            "\tvalidation_batch_size=None\n",
            "\tverbose=0\n",
            "\tcallbacks=None\n",
            "\tvalidation_split=0.2\n",
            "\tshuffle=True\n",
            "\trun_eagerly=False\n",
            "\tepochs=40\n",
            "\tclass_weight=None\n",
            ")\n"
          ]
        },
        {
          "output_type": "stream",
          "name": "stderr",
          "text": [
            "WARNING:absl:Found untraced functions such as lstm_cell_303_layer_call_fn, lstm_cell_303_layer_call_and_return_conditional_losses while saving (showing 2 of 2). These functions will not be directly callable after loading.\n",
            "/usr/local/lib/python3.7/dist-packages/sklearn/metrics/_classification.py:1318: UndefinedMetricWarning: Precision is ill-defined and being set to 0.0 due to no predicted samples. Use `zero_division` parameter to control this behavior.\n",
            "  _warn_prf(average, modifier, msg_start, len(result))\n",
            "WARNING:absl:Found untraced functions such as lstm_cell_303_layer_call_fn, lstm_cell_303_layer_call_and_return_conditional_losses while saving (showing 2 of 2). These functions will not be directly callable after loading.\n",
            "WARNING:absl:Found untraced functions such as lstm_cell_303_layer_call_fn, lstm_cell_303_layer_call_and_return_conditional_losses while saving (showing 2 of 2). These functions will not be directly callable after loading.\n",
            "WARNING:absl:Found untraced functions such as lstm_cell_303_layer_call_fn, lstm_cell_303_layer_call_and_return_conditional_losses while saving (showing 2 of 2). These functions will not be directly callable after loading.\n",
            "/usr/local/lib/python3.7/dist-packages/sklearn/metrics/_classification.py:1318: UndefinedMetricWarning: Recall is ill-defined and being set to 0.0 due to no true samples. Use `zero_division` parameter to control this behavior.\n",
            "  _warn_prf(average, modifier, msg_start, len(result))\n",
            "WARNING:absl:Found untraced functions such as lstm_cell_303_layer_call_fn, lstm_cell_303_layer_call_and_return_conditional_losses while saving (showing 2 of 2). These functions will not be directly callable after loading.\n",
            "WARNING:absl:Found untraced functions such as lstm_cell_303_layer_call_fn, lstm_cell_303_layer_call_and_return_conditional_losses while saving (showing 2 of 2). These functions will not be directly callable after loading.\n",
            "WARNING:absl:Found untraced functions such as lstm_cell_303_layer_call_fn, lstm_cell_303_layer_call_and_return_conditional_losses while saving (showing 2 of 2). These functions will not be directly callable after loading.\n",
            "/usr/local/lib/python3.7/dist-packages/sklearn/metrics/_classification.py:1318: UndefinedMetricWarning: Recall is ill-defined and being set to 0.0 due to no true samples. Use `zero_division` parameter to control this behavior.\n",
            "  _warn_prf(average, modifier, msg_start, len(result))\n"
          ]
        },
        {
          "output_type": "stream",
          "name": "stdout",
          "text": [
            "Running:  24\n",
            "(5000, 24)\n",
            "model:  KerasClassifier(\n",
            "\tmodel=<keras.engine.sequential.Sequential object at 0x7f51fbd49dd0>\n",
            "\tbuild_fn=None\n",
            "\twarm_start=False\n",
            "\trandom_state=None\n",
            "\toptimizer=<keras.optimizers.optimizer_v2.adam.Adam object at 0x7f51faad4f50>\n",
            "\tloss=<keras.losses.SparseCategoricalCrossentropy object at 0x7f51ee3c2d50>\n",
            "\tmetrics=['accuracy']\n",
            "\tbatch_size=64\n",
            "\tvalidation_batch_size=None\n",
            "\tverbose=0\n",
            "\tcallbacks=None\n",
            "\tvalidation_split=0.2\n",
            "\tshuffle=True\n",
            "\trun_eagerly=False\n",
            "\tepochs=40\n",
            "\tclass_weight=None\n",
            ")\n"
          ]
        },
        {
          "output_type": "stream",
          "name": "stderr",
          "text": [
            "WARNING:absl:Found untraced functions such as lstm_cell_311_layer_call_fn, lstm_cell_311_layer_call_and_return_conditional_losses while saving (showing 2 of 2). These functions will not be directly callable after loading.\n",
            "/usr/local/lib/python3.7/dist-packages/sklearn/metrics/_classification.py:1318: UndefinedMetricWarning: Precision is ill-defined and being set to 0.0 due to no predicted samples. Use `zero_division` parameter to control this behavior.\n",
            "  _warn_prf(average, modifier, msg_start, len(result))\n",
            "WARNING:absl:Found untraced functions such as lstm_cell_311_layer_call_fn, lstm_cell_311_layer_call_and_return_conditional_losses while saving (showing 2 of 2). These functions will not be directly callable after loading.\n",
            "/usr/local/lib/python3.7/dist-packages/sklearn/metrics/_classification.py:1318: UndefinedMetricWarning: Precision is ill-defined and being set to 0.0 due to no predicted samples. Use `zero_division` parameter to control this behavior.\n",
            "  _warn_prf(average, modifier, msg_start, len(result))\n",
            "WARNING:absl:Found untraced functions such as lstm_cell_311_layer_call_fn, lstm_cell_311_layer_call_and_return_conditional_losses while saving (showing 2 of 2). These functions will not be directly callable after loading.\n",
            "/usr/local/lib/python3.7/dist-packages/sklearn/metrics/_classification.py:1318: UndefinedMetricWarning: Recall is ill-defined and being set to 0.0 due to no true samples. Use `zero_division` parameter to control this behavior.\n",
            "  _warn_prf(average, modifier, msg_start, len(result))\n"
          ]
        },
        {
          "output_type": "stream",
          "name": "stdout",
          "text": [
            "Running:  24\n",
            "(5000, 24)\n",
            "model:  KerasClassifier(\n",
            "\tmodel=<keras.engine.sequential.Sequential object at 0x7f51ee45ec90>\n",
            "\tbuild_fn=None\n",
            "\twarm_start=False\n",
            "\trandom_state=None\n",
            "\toptimizer=<keras.optimizers.optimizer_v2.adam.Adam object at 0x7f51fbce8c90>\n",
            "\tloss=<keras.losses.SparseCategoricalCrossentropy object at 0x7f51edb572d0>\n",
            "\tmetrics=['accuracy']\n",
            "\tbatch_size=64\n",
            "\tvalidation_batch_size=None\n",
            "\tverbose=0\n",
            "\tcallbacks=None\n",
            "\tvalidation_split=0.2\n",
            "\tshuffle=True\n",
            "\trun_eagerly=False\n",
            "\tepochs=40\n",
            "\tclass_weight=None\n",
            ")\n"
          ]
        },
        {
          "output_type": "stream",
          "name": "stderr",
          "text": [
            "WARNING:absl:Found untraced functions such as lstm_cell_315_layer_call_fn, lstm_cell_315_layer_call_and_return_conditional_losses while saving (showing 2 of 2). These functions will not be directly callable after loading.\n",
            "/usr/local/lib/python3.7/dist-packages/sklearn/metrics/_classification.py:1318: UndefinedMetricWarning: Precision is ill-defined and being set to 0.0 due to no predicted samples. Use `zero_division` parameter to control this behavior.\n",
            "  _warn_prf(average, modifier, msg_start, len(result))\n",
            "WARNING:absl:Found untraced functions such as lstm_cell_315_layer_call_fn, lstm_cell_315_layer_call_and_return_conditional_losses while saving (showing 2 of 2). These functions will not be directly callable after loading.\n",
            "WARNING:absl:Found untraced functions such as lstm_cell_315_layer_call_fn, lstm_cell_315_layer_call_and_return_conditional_losses while saving (showing 2 of 2). These functions will not be directly callable after loading.\n",
            "WARNING:absl:Found untraced functions such as lstm_cell_315_layer_call_fn, lstm_cell_315_layer_call_and_return_conditional_losses while saving (showing 2 of 2). These functions will not be directly callable after loading.\n",
            "/usr/local/lib/python3.7/dist-packages/sklearn/metrics/_classification.py:1318: UndefinedMetricWarning: Recall is ill-defined and being set to 0.0 due to no true samples. Use `zero_division` parameter to control this behavior.\n",
            "  _warn_prf(average, modifier, msg_start, len(result))\n",
            "WARNING:absl:Found untraced functions such as lstm_cell_315_layer_call_fn, lstm_cell_315_layer_call_and_return_conditional_losses while saving (showing 2 of 2). These functions will not be directly callable after loading.\n",
            "WARNING:absl:Found untraced functions such as lstm_cell_315_layer_call_fn, lstm_cell_315_layer_call_and_return_conditional_losses while saving (showing 2 of 2). These functions will not be directly callable after loading.\n",
            "WARNING:absl:Found untraced functions such as lstm_cell_315_layer_call_fn, lstm_cell_315_layer_call_and_return_conditional_losses while saving (showing 2 of 2). These functions will not be directly callable after loading.\n",
            "/usr/local/lib/python3.7/dist-packages/sklearn/metrics/_classification.py:1318: UndefinedMetricWarning: Recall is ill-defined and being set to 0.0 due to no true samples. Use `zero_division` parameter to control this behavior.\n",
            "  _warn_prf(average, modifier, msg_start, len(result))\n"
          ]
        },
        {
          "output_type": "stream",
          "name": "stdout",
          "text": [
            "Running:  25\n",
            "(5000, 25)\n",
            "model:  KerasClassifier(\n",
            "\tmodel=<keras.engine.sequential.Sequential object at 0x7f51ef328150>\n",
            "\tbuild_fn=None\n",
            "\twarm_start=False\n",
            "\trandom_state=None\n",
            "\toptimizer=<keras.optimizers.optimizer_v2.adam.Adam object at 0x7f51f69bd950>\n",
            "\tloss=<keras.losses.SparseCategoricalCrossentropy object at 0x7f51f42fc610>\n",
            "\tmetrics=['accuracy']\n",
            "\tbatch_size=64\n",
            "\tvalidation_batch_size=None\n",
            "\tverbose=0\n",
            "\tcallbacks=None\n",
            "\tvalidation_split=0.2\n",
            "\tshuffle=True\n",
            "\trun_eagerly=False\n",
            "\tepochs=40\n",
            "\tclass_weight=None\n",
            ")\n"
          ]
        },
        {
          "output_type": "stream",
          "name": "stderr",
          "text": [
            "WARNING:absl:Found untraced functions such as lstm_cell_323_layer_call_fn, lstm_cell_323_layer_call_and_return_conditional_losses while saving (showing 2 of 2). These functions will not be directly callable after loading.\n",
            "/usr/local/lib/python3.7/dist-packages/sklearn/metrics/_classification.py:1318: UndefinedMetricWarning: Precision is ill-defined and being set to 0.0 due to no predicted samples. Use `zero_division` parameter to control this behavior.\n",
            "  _warn_prf(average, modifier, msg_start, len(result))\n",
            "WARNING:absl:Found untraced functions such as lstm_cell_323_layer_call_fn, lstm_cell_323_layer_call_and_return_conditional_losses while saving (showing 2 of 2). These functions will not be directly callable after loading.\n",
            "/usr/local/lib/python3.7/dist-packages/sklearn/metrics/_classification.py:1318: UndefinedMetricWarning: Precision is ill-defined and being set to 0.0 due to no predicted samples. Use `zero_division` parameter to control this behavior.\n",
            "  _warn_prf(average, modifier, msg_start, len(result))\n",
            "WARNING:absl:Found untraced functions such as lstm_cell_323_layer_call_fn, lstm_cell_323_layer_call_and_return_conditional_losses while saving (showing 2 of 2). These functions will not be directly callable after loading.\n",
            "/usr/local/lib/python3.7/dist-packages/sklearn/metrics/_classification.py:1318: UndefinedMetricWarning: Recall is ill-defined and being set to 0.0 due to no true samples. Use `zero_division` parameter to control this behavior.\n",
            "  _warn_prf(average, modifier, msg_start, len(result))\n"
          ]
        },
        {
          "output_type": "stream",
          "name": "stdout",
          "text": [
            "Running:  25\n",
            "(5000, 25)\n",
            "model:  KerasClassifier(\n",
            "\tmodel=<keras.engine.sequential.Sequential object at 0x7f51fc879990>\n",
            "\tbuild_fn=None\n",
            "\twarm_start=False\n",
            "\trandom_state=None\n",
            "\toptimizer=<keras.optimizers.optimizer_v2.adam.Adam object at 0x7f51f41a0d50>\n",
            "\tloss=<keras.losses.SparseCategoricalCrossentropy object at 0x7f51f7976a90>\n",
            "\tmetrics=['accuracy']\n",
            "\tbatch_size=64\n",
            "\tvalidation_batch_size=None\n",
            "\tverbose=0\n",
            "\tcallbacks=None\n",
            "\tvalidation_split=0.2\n",
            "\tshuffle=True\n",
            "\trun_eagerly=False\n",
            "\tepochs=40\n",
            "\tclass_weight=None\n",
            ")\n"
          ]
        },
        {
          "output_type": "stream",
          "name": "stderr",
          "text": [
            "WARNING:absl:Found untraced functions such as lstm_cell_327_layer_call_fn, lstm_cell_327_layer_call_and_return_conditional_losses while saving (showing 2 of 2). These functions will not be directly callable after loading.\n",
            "WARNING:absl:Found untraced functions such as lstm_cell_327_layer_call_fn, lstm_cell_327_layer_call_and_return_conditional_losses while saving (showing 2 of 2). These functions will not be directly callable after loading.\n",
            "WARNING:absl:Found untraced functions such as lstm_cell_327_layer_call_fn, lstm_cell_327_layer_call_and_return_conditional_losses while saving (showing 2 of 2). These functions will not be directly callable after loading.\n",
            "WARNING:absl:Found untraced functions such as lstm_cell_327_layer_call_fn, lstm_cell_327_layer_call_and_return_conditional_losses while saving (showing 2 of 2). These functions will not be directly callable after loading.\n",
            "/usr/local/lib/python3.7/dist-packages/sklearn/metrics/_classification.py:1318: UndefinedMetricWarning: Recall is ill-defined and being set to 0.0 due to no true samples. Use `zero_division` parameter to control this behavior.\n",
            "  _warn_prf(average, modifier, msg_start, len(result))\n",
            "WARNING:absl:Found untraced functions such as lstm_cell_327_layer_call_fn, lstm_cell_327_layer_call_and_return_conditional_losses while saving (showing 2 of 2). These functions will not be directly callable after loading.\n",
            "WARNING:absl:Found untraced functions such as lstm_cell_327_layer_call_fn, lstm_cell_327_layer_call_and_return_conditional_losses while saving (showing 2 of 2). These functions will not be directly callable after loading.\n",
            "WARNING:absl:Found untraced functions such as lstm_cell_327_layer_call_fn, lstm_cell_327_layer_call_and_return_conditional_losses while saving (showing 2 of 2). These functions will not be directly callable after loading.\n",
            "/usr/local/lib/python3.7/dist-packages/sklearn/metrics/_classification.py:1318: UndefinedMetricWarning: Recall is ill-defined and being set to 0.0 due to no true samples. Use `zero_division` parameter to control this behavior.\n",
            "  _warn_prf(average, modifier, msg_start, len(result))\n"
          ]
        }
      ]
    },
    {
      "cell_type": "code",
      "source": [
        "fig, ax = plt.subplots(figsize=(15,10))\n",
        "_ = ax.plot(aapl_prevClose_accuracies, label='AAPL Previous Close', linewidth=3)\n",
        "_ = ax.plot(amzn_prevClose_accuracies, label='AMZN Previous Close', linewidth=3)\n",
        "_ = ax.legend()\n",
        "_ = ax.set_ylabel('Mean 12 Fold CV Accuracy')\n",
        "_ = ax.set_xlabel('Number of historical days included')"
      ],
      "metadata": {
        "id": "AVyOsH7C4cHJ",
        "colab": {
          "base_uri": "https://localhost:8080/",
          "height": 606
        },
        "outputId": "5586487d-918f-4078-b9b4-87c2a109e9ec"
      },
      "execution_count": null,
      "outputs": [
        {
          "output_type": "display_data",
          "data": {
            "text/plain": [
              "<Figure size 1080x720 with 1 Axes>"
            ],
            "image/png": "[encoded data removed]"
          },
          "metadata": {
            "needs_background": "light"
          }
        }
      ]
    },
    {
      "cell_type": "code",
      "source": [],
      "metadata": {
        "id": "MynXD9o97PSY"
      },
      "execution_count": null,
      "outputs": []
    },
    {
      "cell_type": "code",
      "source": [
        "prev_price = np.empty(0)\n",
        "i = 0\n",
        "for i in range(len(df)):\n",
        "  prev_price = np.append(prev_price, df.iloc[i][81])\n",
        "  prev_price = np.append(prev_price, df.iloc[i][82])\n",
        "  prev_price = np.append(prev_price, df.iloc[i][83])\n",
        "  prev_price = np.append(prev_price, df.iloc[i][84])\n",
        "  prev_price = np.append(prev_price, df.iloc[i][85])\n",
        "  prev_price = np.append(prev_price, df.iloc[i][86])\n",
        "  prev_price = np.append(prev_price, df.iloc[i][87])\n",
        "  prev_price = np.append(prev_price, df.iloc[i][88])\n",
        "  prev_price = np.append(prev_price, df.iloc[i][89])\n",
        "  prev_price = np.append(prev_price, df.iloc[i][90])\n",
        "  prev_price = np.append(prev_price, df.iloc[i][91])\n",
        "  prev_price = np.append(prev_price, df.iloc[i][92])\n",
        "  prev_price = np.append(prev_price, df.iloc[i][93])\n",
        "  prev_price = np.append(prev_price, df.iloc[i][94])\n",
        "  prev_price = np.append(prev_price, df.iloc[i][95])\n",
        "  prev_price = np.append(prev_price, df.iloc[i][96])\n",
        "  prev_price = np.append(prev_price, df.iloc[i][97])\n",
        "  prev_price = np.append(prev_price, df.iloc[i][98])\n",
        "  prev_price = np.append(prev_price, df.iloc[i][99])\n",
        "  prev_price = np.append(prev_price, df.iloc[i][100])\n",
        "  prev_price = np.append(prev_price, df.iloc[i][101])\n",
        "  prev_price = np.append(prev_price, df.iloc[i][102])\n",
        "  prev_price = np.append(prev_price, df.iloc[i][103])\n",
        "  prev_price = np.append(prev_price, df.iloc[i][104])\n",
        "  prev_price = np.append(prev_price, df.iloc[i][105])\n",
        "  #print(len(prev_price))\n",
        "  i = i+1\n",
        "  #print(i)\n",
        "prev_price.shape\n",
        "prev_price = np.reshape(prev_price, (566,25))\n",
        "print(prev_price[0])\n",
        "print(prev_price.shape)"
      ],
      "metadata": {
        "colab": {
          "base_uri": "https://localhost:8080/"
        },
        "id": "yZRm88uTGo_f",
        "outputId": "c9d291fb-fc4c-4adb-84e1-7b9300767289"
      },
      "execution_count": null,
      "outputs": [
        {
          "output_type": "stream",
          "name": "stdout",
          "text": [
            "[169.37 168.79 169.56 169.56 170.96 171.64 169.19 172.98 174.08 174.94\n",
            " 174.9  173.   169.89 170.02 171.15 169.22 171.05 173.86 174.64 175.89\n",
            " 176.66 174.71 174.1  172.45 173.61]\n",
            "(566, 25)\n"
          ]
        }
      ]
    },
    {
      "cell_type": "code",
      "source": [
        "direction = []\n",
        "\n",
        "for l in df['direction']:\n",
        "  direction.append(l)\n",
        "print(len(direction))\n",
        "#direction"
      ],
      "metadata": {
        "colab": {
          "base_uri": "https://localhost:8080/"
        },
        "id": "ANVK_c6e7wM8",
        "outputId": "d3b9100f-dbef-4d12-b8a6-3fff89b7091b"
      },
      "execution_count": null,
      "outputs": [
        {
          "output_type": "stream",
          "name": "stdout",
          "text": [
            "566\n"
          ]
        }
      ]
    },
    {
      "cell_type": "code",
      "source": [
        "class_label = pd.get_dummies(direction).values"
      ],
      "metadata": {
        "id": "6dQvMAFS_Pe3"
      },
      "execution_count": null,
      "outputs": []
    },
    {
      "cell_type": "code",
      "source": [
        "from sklearn.model_selection import train_test_split\n",
        "X_train, X_test, Y_train, Y_test = train_test_split(prev_price, class_label, test_size=0.2, random_state=56)"
      ],
      "metadata": {
        "id": "cS_4heLLBAai"
      },
      "execution_count": null,
      "outputs": []
    },
    {
      "cell_type": "code",
      "source": [
        "TrainX = np.reshape(X_train, (X_train.shape[0], 1, X_train.shape[1]))\n",
        "TestX = np.reshape(X_test, (X_test.shape[0], 1, X_test.shape[1]))\n",
        "TrainX = TrainX.astype('float64')\n",
        "TestX = TestX.astype('float64')"
      ],
      "metadata": {
        "id": "gHZFQKhvBGqL"
      },
      "execution_count": null,
      "outputs": []
    },
    {
      "cell_type": "code",
      "source": [
        "from tensorflow.keras.layers import Bidirectional, LSTM, Dense"
      ],
      "metadata": {
        "id": "5gbrYNNHeg2G"
      },
      "execution_count": null,
      "outputs": []
    },
    {
      "cell_type": "code",
      "source": [
        "from keras.optimizers import Adam\n",
        "layers = [LSTM(128,input_shape=(1,TrainX.shape[2]),dropout=0.2), Dense(2,activation='sigmoid')]\n",
        "model = tf.keras.models.Sequential(layers)\n",
        "model.compile(loss='categorical_crossentropy', optimizer=tf.keras.optimizers.Adam(learning_rate=0.001),metrics=['accuracy'])\n",
        "model.fit(TrainX, Y_train, epochs=40, batch_size=64, verbose=2,validation_split=0.2)"
      ],
      "metadata": {
        "colab": {
          "base_uri": "https://localhost:8080/"
        },
        "id": "waPcAvqVeh_x",
        "outputId": "aa50f68f-53f8-4c09-93ed-998025d15985"
      },
      "execution_count": null,
      "outputs": [
        {
          "output_type": "stream",
          "name": "stdout",
          "text": [
            "Epoch 1/40\n",
            "6/6 - 3s - loss: 0.7038 - accuracy: 0.5125 - val_loss: 0.6905 - val_accuracy: 0.5385 - 3s/epoch - 501ms/step\n",
            "Epoch 2/40\n",
            "6/6 - 0s - loss: 0.7304 - accuracy: 0.4709 - val_loss: 0.6891 - val_accuracy: 0.5495 - 67ms/epoch - 11ms/step\n",
            "Epoch 3/40\n",
            "6/6 - 0s - loss: 0.7214 - accuracy: 0.4986 - val_loss: 0.6877 - val_accuracy: 0.5165 - 76ms/epoch - 13ms/step\n",
            "Epoch 4/40\n",
            "6/6 - 0s - loss: 0.7244 - accuracy: 0.4848 - val_loss: 0.6926 - val_accuracy: 0.5275 - 70ms/epoch - 12ms/step\n",
            "Epoch 5/40\n",
            "6/6 - 0s - loss: 0.7104 - accuracy: 0.5125 - val_loss: 0.6929 - val_accuracy: 0.5275 - 75ms/epoch - 13ms/step\n",
            "Epoch 6/40\n",
            "6/6 - 0s - loss: 0.7039 - accuracy: 0.5291 - val_loss: 0.6952 - val_accuracy: 0.4396 - 65ms/epoch - 11ms/step\n",
            "Epoch 7/40\n",
            "6/6 - 0s - loss: 0.7136 - accuracy: 0.5069 - val_loss: 0.7015 - val_accuracy: 0.4725 - 66ms/epoch - 11ms/step\n",
            "Epoch 8/40\n",
            "6/6 - 0s - loss: 0.7057 - accuracy: 0.5069 - val_loss: 0.6973 - val_accuracy: 0.4725 - 67ms/epoch - 11ms/step\n",
            "Epoch 9/40\n",
            "6/6 - 0s - loss: 0.7155 - accuracy: 0.5042 - val_loss: 0.6921 - val_accuracy: 0.5385 - 82ms/epoch - 14ms/step\n",
            "Epoch 10/40\n",
            "6/6 - 0s - loss: 0.7125 - accuracy: 0.5014 - val_loss: 0.6987 - val_accuracy: 0.4835 - 77ms/epoch - 13ms/step\n",
            "Epoch 11/40\n",
            "6/6 - 0s - loss: 0.7107 - accuracy: 0.5014 - val_loss: 0.6958 - val_accuracy: 0.4945 - 75ms/epoch - 13ms/step\n",
            "Epoch 12/40\n",
            "6/6 - 0s - loss: 0.7087 - accuracy: 0.5069 - val_loss: 0.6939 - val_accuracy: 0.4945 - 65ms/epoch - 11ms/step\n",
            "Epoch 13/40\n",
            "6/6 - 0s - loss: 0.6997 - accuracy: 0.5263 - val_loss: 0.6913 - val_accuracy: 0.5055 - 73ms/epoch - 12ms/step\n",
            "Epoch 14/40\n",
            "6/6 - 0s - loss: 0.7058 - accuracy: 0.4958 - val_loss: 0.6945 - val_accuracy: 0.5055 - 64ms/epoch - 11ms/step\n",
            "Epoch 15/40\n",
            "6/6 - 0s - loss: 0.6961 - accuracy: 0.5319 - val_loss: 0.6940 - val_accuracy: 0.4835 - 71ms/epoch - 12ms/step\n",
            "Epoch 16/40\n",
            "6/6 - 0s - loss: 0.7045 - accuracy: 0.5180 - val_loss: 0.7013 - val_accuracy: 0.4615 - 65ms/epoch - 11ms/step\n",
            "Epoch 17/40\n",
            "6/6 - 0s - loss: 0.7063 - accuracy: 0.4820 - val_loss: 0.6908 - val_accuracy: 0.5275 - 64ms/epoch - 11ms/step\n",
            "Epoch 18/40\n",
            "6/6 - 0s - loss: 0.7197 - accuracy: 0.5152 - val_loss: 0.7286 - val_accuracy: 0.4505 - 68ms/epoch - 11ms/step\n",
            "Epoch 19/40\n",
            "6/6 - 0s - loss: 0.7195 - accuracy: 0.4681 - val_loss: 0.7115 - val_accuracy: 0.4396 - 65ms/epoch - 11ms/step\n",
            "Epoch 20/40\n",
            "6/6 - 0s - loss: 0.7124 - accuracy: 0.4986 - val_loss: 0.7108 - val_accuracy: 0.4286 - 78ms/epoch - 13ms/step\n",
            "Epoch 21/40\n",
            "6/6 - 0s - loss: 0.7083 - accuracy: 0.4875 - val_loss: 0.7205 - val_accuracy: 0.4615 - 64ms/epoch - 11ms/step\n",
            "Epoch 22/40\n",
            "6/6 - 0s - loss: 0.7089 - accuracy: 0.5014 - val_loss: 0.7143 - val_accuracy: 0.4615 - 63ms/epoch - 11ms/step\n",
            "Epoch 23/40\n",
            "6/6 - 0s - loss: 0.7025 - accuracy: 0.4958 - val_loss: 0.6891 - val_accuracy: 0.5385 - 65ms/epoch - 11ms/step\n",
            "Epoch 24/40\n",
            "6/6 - 0s - loss: 0.6972 - accuracy: 0.5208 - val_loss: 0.6907 - val_accuracy: 0.5385 - 64ms/epoch - 11ms/step\n",
            "Epoch 25/40\n",
            "6/6 - 0s - loss: 0.7015 - accuracy: 0.4820 - val_loss: 0.6900 - val_accuracy: 0.5385 - 72ms/epoch - 12ms/step\n",
            "Epoch 26/40\n",
            "6/6 - 0s - loss: 0.7091 - accuracy: 0.4848 - val_loss: 0.6856 - val_accuracy: 0.5275 - 65ms/epoch - 11ms/step\n",
            "Epoch 27/40\n",
            "6/6 - 0s - loss: 0.7116 - accuracy: 0.4626 - val_loss: 0.6928 - val_accuracy: 0.5714 - 74ms/epoch - 12ms/step\n",
            "Epoch 28/40\n",
            "6/6 - 0s - loss: 0.7010 - accuracy: 0.4986 - val_loss: 0.6947 - val_accuracy: 0.5275 - 60ms/epoch - 10ms/step\n",
            "Epoch 29/40\n",
            "6/6 - 0s - loss: 0.6951 - accuracy: 0.5263 - val_loss: 0.6910 - val_accuracy: 0.5495 - 63ms/epoch - 10ms/step\n",
            "Epoch 30/40\n",
            "6/6 - 0s - loss: 0.7111 - accuracy: 0.4820 - val_loss: 0.6913 - val_accuracy: 0.5385 - 68ms/epoch - 11ms/step\n",
            "Epoch 31/40\n",
            "6/6 - 0s - loss: 0.7004 - accuracy: 0.4986 - val_loss: 0.6960 - val_accuracy: 0.4835 - 67ms/epoch - 11ms/step\n",
            "Epoch 32/40\n",
            "6/6 - 0s - loss: 0.7044 - accuracy: 0.4931 - val_loss: 0.6990 - val_accuracy: 0.4615 - 66ms/epoch - 11ms/step\n",
            "Epoch 33/40\n",
            "6/6 - 0s - loss: 0.6979 - accuracy: 0.4765 - val_loss: 0.6939 - val_accuracy: 0.4945 - 70ms/epoch - 12ms/step\n",
            "Epoch 34/40\n",
            "6/6 - 0s - loss: 0.6989 - accuracy: 0.5180 - val_loss: 0.6936 - val_accuracy: 0.5824 - 67ms/epoch - 11ms/step\n",
            "Epoch 35/40\n",
            "6/6 - 0s - loss: 0.7117 - accuracy: 0.4238 - val_loss: 0.6970 - val_accuracy: 0.4615 - 63ms/epoch - 11ms/step\n",
            "Epoch 36/40\n",
            "6/6 - 0s - loss: 0.7014 - accuracy: 0.5042 - val_loss: 0.6962 - val_accuracy: 0.4725 - 64ms/epoch - 11ms/step\n",
            "Epoch 37/40\n",
            "6/6 - 0s - loss: 0.6925 - accuracy: 0.5152 - val_loss: 0.6929 - val_accuracy: 0.5165 - 61ms/epoch - 10ms/step\n",
            "Epoch 38/40\n",
            "6/6 - 0s - loss: 0.6981 - accuracy: 0.4709 - val_loss: 0.7046 - val_accuracy: 0.4615 - 62ms/epoch - 10ms/step\n",
            "Epoch 39/40\n",
            "6/6 - 0s - loss: 0.7090 - accuracy: 0.4488 - val_loss: 0.6977 - val_accuracy: 0.4615 - 66ms/epoch - 11ms/step\n",
            "Epoch 40/40\n",
            "6/6 - 0s - loss: 0.6917 - accuracy: 0.5208 - val_loss: 0.6972 - val_accuracy: 0.4615 - 85ms/epoch - 14ms/step\n"
          ]
        },
        {
          "output_type": "execute_result",
          "data": {
            "text/plain": [
              "<keras.callbacks.History at 0x7f0159b7ab10>"
            ]
          },
          "metadata": {},
          "execution_count": 108
        }
      ]
    },
    {
      "cell_type": "code",
      "source": [
        "model.evaluate(TestX, Y_test, verbose=2)"
      ],
      "metadata": {
        "id": "pt3zVxT5u1U1",
        "outputId": "cedf69a6-b56c-4478-9477-59159d98bdf3",
        "colab": {
          "base_uri": "https://localhost:8080/"
        }
      },
      "execution_count": null,
      "outputs": [
        {
          "output_type": "stream",
          "name": "stdout",
          "text": [
            "4/4 - 0s - loss: 0.6915 - accuracy: 0.5263 - 29ms/epoch - 7ms/step\n"
          ]
        },
        {
          "output_type": "execute_result",
          "data": {
            "text/plain": [
              "[0.6914852857589722, 0.5263158082962036]"
            ]
          },
          "metadata": {},
          "execution_count": 109
        }
      ]
    }
  ]
}